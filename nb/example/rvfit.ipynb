{
 "cells": [
  {
   "cell_type": "code",
   "execution_count": 0,
   "metadata": {},
   "outputs": [],
   "source": [
    "CORRECTION_MODEL = 'fluxcorr'\n",
    "# CORRECTION_MODEL = 'contnorm'\n",
    "CORRECTION_PER_ARM = True\n",
    "CORRECTION_PER_EXP = False\n",
    "\n",
    "# Stellar grid paths\n",
    "GRID_PATH = {\n",
    "    'phoenix': '/datascope/subaru/data/pfsspec/models/stellar/grid/phoenix/phoenix_HiRes',\n",
    "    'grid7': '/datascope/subaru/data/pfsspec/models/stellar/grid/roman/grid7',\n",
    "    'gridie': '/datascope/subaru/data/pfsspec/models/stellar/grid/roman/gridie',\n",
    "}\n",
    "\n",
    "# Broadband filter to normalize spectra to\n",
    "FILTER_PATH = '/datascope/subaru/data/pfsspec/subaru/hsc/filters/fHSC-g.txt'\n",
    "\n",
    "# Arms to simulate and fit\n",
    "ARMS = [ 'b', 'mr' ]\n",
    "\n",
    "# Grids used for simulation\n",
    "SIM_GRID = { arm: 'phoenix' for arm in ARMS }\n",
    "\n",
    "# Grids used for fitting\n",
    "if CORRECTION_MODEL == 'fluxcorr':\n",
    "    FIT_GRID = { \n",
    "        'b': 'phoenix',\n",
    "        'mr': 'phoenix',\n",
    "    }\n",
    "elif CORRECTION_MODEL == 'contnorm':\n",
    "    FIT_GRID = { \n",
    "        'b': 'gridie',\n",
    "        'mr': 'grid7',\n",
    "    }\n",
    "\n",
    "# Instrument configuration\n",
    "DETECTOR_PATH = '/datascope/subaru/data/pfsspec/subaru/pfs/arms/{}.json'\n",
    "DETECTORMAP_PATH = '/datascope/subaru/data/pfsspec/drp_pfs_data/detectorMap/detectorMap-sim-{}1.fits'\n",
    "PSF_PATH = '/datascope/subaru/data/pfsspec/subaru/pfs/psf/import/{}.2'\n",
    "SKY_PATH = '/datascope/subaru/data/pfsspec/subaru/pfs/noise/import/sky.see/{}/sky.h5'\n",
    "MOON_PATH = '/datascope/subaru/data/pfsspec/subaru/pfs/noise/import/moon/{}/moon.h5'"
   ]
  },
  {
   "cell_type": "code",
   "execution_count": 0,
   "metadata": {},
   "outputs": [],
   "source": [
    "import os\n",
    "import sys\n",
    "import logging\n",
    "import numpy as np\n",
    "import pandas as pd\n",
    "import matplotlib as mpl\n",
    "import matplotlib.pyplot as plt\n",
    "\n",
    "import cProfile, pstats\n"
   ]
  },
  {
   "cell_type": "code",
   "execution_count": 0,
   "metadata": {},
   "outputs": [],
   "source": [
    "if 'debugpy' not in globals():\n",
    "    import debugpy\n",
    "    debugpy.listen((\"localhost\", 5683))"
   ]
  },
  {
   "cell_type": "code",
   "execution_count": 0,
   "metadata": {},
   "outputs": [],
   "source": [
    "%load_ext autoreload"
   ]
  },
  {
   "cell_type": "code",
   "execution_count": 0,
   "metadata": {},
   "outputs": [],
   "source": [
    "%autoreload 2"
   ]
  },
  {
   "cell_type": "code",
   "execution_count": 0,
   "metadata": {},
   "outputs": [],
   "source": [
    "from pfs.ga.pfsspec.stellar.grid import ModelGrid\n",
    "\n",
    "from pfs.ga.pfsspec.core import Filter\n",
    "from pfs.ga.pfsspec.sim.obsmod.pipelines import StellarModelPipeline\n",
    "from pfs.ga.pfsspec.core import Physics\n",
    "from pfs.ga.pfsspec.core.obsmod.psf import GaussPsf, PcaPsf\n",
    "from pfs.ga.pfsspec.sim.obsmod.detectors import PfsDetector\n",
    "from pfs.ga.pfsspec.sim.obsmod.detectormaps import PfsDetectorMap\n",
    "from pfs.ga.pfsspec.sim.obsmod.background import Sky\n",
    "from pfs.ga.pfsspec.sim.obsmod.background import Moon\n",
    "from pfs.ga.pfsspec.core.obsmod.snr import QuantileSnr\n",
    "\n",
    "from pfs.ga.pfsspec.stellar import StellarSpectrum\n",
    "from pfs.ga.pfsspec.sim.obsmod.observations import PfsObservation\n",
    "from pfs.ga.pfsspec.sim.obsmod.noise import NormalNoise\n",
    "from pfs.ga.pfsspec.sim.obsmod.calibration import FluxCalibrationBias\n",
    "from pfs.ga.pfsspec.core.obsmod.resampling import FluxConservingResampler, Interp1dResampler\n",
    "\n",
    "from pfs.ga.pfsspec.stellar.tempfit import TempFit, TempFitTrace\n",
    "\n",
    "from pfs.ga.pfsspec.core.sampling import Parameter, ParameterSampler\n",
    "from pfs.ga.pfsspec.sim.stellar import ModelGridSampler\n",
    "\n",
    "from pfs.ga.pfsspec.stellar.continuum.models import PiecewiseChebyshev\n",
    "from pfs.ga.pfsspec.stellar.continuum.finders import SigmaClipping\n",
    "\n",
    "from pfs.ga.pfsspec.core.util import SmartParallel"
   ]
  },
  {
   "cell_type": "markdown",
   "metadata": {},
   "source": [
    "### Load the model grids"
   ]
  },
  {
   "cell_type": "code",
   "execution_count": 0,
   "metadata": {},
   "outputs": [],
   "source": [
    "grid = {}\n",
    "for k in GRID_PATH:\n",
    "    fn = os.path.join(GRID_PATH[k], 'spectra.h5')\n",
    "    grid[k] = ModelGrid.from_file(fn, preload_arrays=False)\n",
    "    print(k, fn)"
   ]
  },
  {
   "cell_type": "code",
   "execution_count": 0,
   "metadata": {},
   "outputs": [],
   "source": [
    "for k in grid:\n",
    "    print(k, grid[k].wave.min(), grid[k].wave.max(), grid[k].wave.shape, grid[k].get_shape())"
   ]
  },
  {
   "cell_type": "markdown",
   "metadata": {},
   "source": [
    "### Load the detector config and configure the observation objects"
   ]
  },
  {
   "cell_type": "code",
   "execution_count": 0,
   "metadata": {},
   "outputs": [],
   "source": [
    "detector = {}\n",
    "\n",
    "for arm in ARMS:\n",
    "    detector[arm] = PfsDetector()\n",
    "    detector[arm].load_json(DETECTOR_PATH.format(arm))\n",
    "    \n",
    "    # Use a realistic detector map, might cause Nan wavelengths outside of the coverage\n",
    "    # detector[arm].map = PfsDetectorMap()\n",
    "    # detector[arm].map.load(DETECTORMAP_PATH.format(arm[0]))\n",
    "\n",
    "    # print(arm, detector[arm].map.default_fiberid)\n",
    "    # print(arm, detector[arm].map.get_wave()[0].shape, detector[arm].map.get_wave()[0][[0, -1]], detector[arm].wave)"
   ]
  },
  {
   "cell_type": "code",
   "execution_count": 0,
   "metadata": {},
   "outputs": [],
   "source": [
    "gauss_psf = {}\n",
    "pca_psf = {}\n",
    "template_psf = {}\n",
    "\n",
    "for arm in ARMS:\n",
    "    gauss_psf[arm] = GaussPsf()\n",
    "    gauss_psf[arm].load(os.path.join(PSF_PATH.format(arm), 'gauss.h5'))\n",
    "\n",
    "    # print(f'mean pixel size for arm {arm}', np.diff(detector[arm].get_wave()[0]).mean())\n",
    "    # print(f'mean sigma and FWHM for arm {arm}', gauss_psf[arm].sigma.mean(), 2.355 * gauss_psf[arm].sigma.mean())\n",
    "\n",
    "    pca_psf[arm] = PcaPsf()\n",
    "    pca_psf[arm].load(os.path.join(PSF_PATH.format(arm), 'pca.h5'))\n",
    "\n",
    "    # Precompute the PSF for fitting\n",
    "    s = gauss_psf[arm].get_optimal_size(grid[FIT_GRID[arm]].wave)\n",
    "    print(f'optimal kernel size for arm {arm}:', s)\n",
    "    template_psf[arm] = PcaPsf.from_psf(gauss_psf[arm], grid[FIT_GRID[arm]].wave, size=s, truncate=5)"
   ]
  },
  {
   "cell_type": "markdown",
   "metadata": {},
   "source": [
    "### Load sky, moon and conversion function tables"
   ]
  },
  {
   "cell_type": "code",
   "execution_count": 0,
   "metadata": {},
   "outputs": [],
   "source": [
    "sky = {}\n",
    "moon = {}\n",
    "\n",
    "for arm in ARMS:\n",
    "    detector_wave, _, detector_mask = detector[arm].get_wave()\n",
    "    detector_s = gauss_psf[arm].get_optimal_size(detector_wave[detector_mask])\n",
    "    print(f'Optimal size of PSF kernel for arm {arm}', detector_s)\n",
    "    detector[arm].psf = PcaPsf.from_psf(gauss_psf[arm], detector_wave[detector_mask], size=detector_s, truncate=5)\n",
    "\n",
    "    sky[arm] = Sky()\n",
    "    sky[arm].load(SKY_PATH.format(arm), format='h5')\n",
    "\n",
    "    moon[arm] = Moon()\n",
    "    moon[arm].load(MOON_PATH.format(arm), format='h5')"
   ]
  },
  {
   "cell_type": "code",
   "execution_count": 0,
   "metadata": {},
   "outputs": [],
   "source": [
    "obs = {}\n",
    "\n",
    "for arm in ARMS:\n",
    "    obs[arm] = PfsObservation()\n",
    "    obs[arm].detector = detector[arm]\n",
    "    obs[arm].sky = sky[arm]\n",
    "    obs[arm].moon = moon[arm]\n",
    "    obs[arm].noise_model = NormalNoise()"
   ]
  },
  {
   "cell_type": "markdown",
   "metadata": {},
   "source": [
    "### Create observation simulation pipeline"
   ]
  },
  {
   "cell_type": "code",
   "execution_count": 0,
   "metadata": {},
   "outputs": [],
   "source": [
    "# Broadband filter used for normalization\n",
    "mag_filt = Filter()\n",
    "mag_filt.read(FILTER_PATH)"
   ]
  },
  {
   "cell_type": "code",
   "execution_count": 0,
   "metadata": {},
   "outputs": [],
   "source": [
    "def create_pipeline(arm, grid, calib_bias=False):\n",
    "    \"\"\"\n",
    "    Configure the observation simulation pipeline\n",
    "    \"\"\"\n",
    "\n",
    "    pp = StellarModelPipeline()\n",
    "    pp.model_res = grid.resolution or 150000\n",
    "    pp.mag_filter = mag_filt\n",
    "    pp.observation = obs[arm]\n",
    "    pp.snr = QuantileSnr(binning=1.0)\n",
    "    pp.resampler = Interp1dResampler()\n",
    "    pp.noise_level = 1.0\n",
    "    pp.noise_freeze = False\n",
    "    if calib_bias:\n",
    "        bias = FluxCalibrationBias(reuse_bias=False)\n",
    "        bias.amplitude = 0.02\n",
    "        pp.calibration = bias\n",
    "\n",
    "    return pp"
   ]
  },
  {
   "cell_type": "code",
   "execution_count": 0,
   "metadata": {},
   "outputs": [],
   "source": [
    "pipeline = {}\n",
    "for arm in ARMS:\n",
    "    pipeline[arm] = create_pipeline(arm, grid=grid[SIM_GRID[arm]])"
   ]
  },
  {
   "cell_type": "markdown",
   "metadata": {},
   "source": [
    "### Simulate a spectrum"
   ]
  },
  {
   "cell_type": "code",
   "execution_count": 0,
   "metadata": {},
   "outputs": [],
   "source": [
    "obs_params = {\n",
    "    'seeing': 0.5,\n",
    "    'exp_time': 15 * 60,\n",
    "    'exp_count': 1,\n",
    "    'target_zenith_angle': 60,\n",
    "    'target_field_angle': 0.6,\n",
    "    'moon_zenith_angle': 45,\n",
    "    'moon_target_angle': 60,\n",
    "    'moon_phase': 0.0,\n",
    "    'sky_residual': 0.0,\n",
    "    'mag': 21.5,\n",
    "}\n",
    "\n",
    "model_params = {\n",
    "    'M_H': -1.5,\n",
    "    'T_eff': 4000,\n",
    "    'log_g': 2.5,\n",
    "    'a_M': 0.0,\n",
    "}"
   ]
  },
  {
   "cell_type": "code",
   "execution_count": 0,
   "metadata": {},
   "outputs": [],
   "source": [
    "# Run the simulation\n",
    "spec = {}\n",
    "for arm in ARMS:\n",
    "    spec[arm] = grid[SIM_GRID[arm]].interpolate_model(**model_params)\n",
    "    pipeline[arm].run(spec[arm], **obs_params)"
   ]
  },
  {
   "cell_type": "code",
   "execution_count": 0,
   "metadata": {},
   "outputs": [],
   "source": [
    "f, ax = plt.subplots(1, 1, dpi=120)\n",
    "\n",
    "for arm in ARMS:\n",
    "    plt.plot(spec[arm].wave, spec[arm].flux, lw=0.1, label=arm)\n",
    "    plt.plot(spec[arm].wave, spec[arm].flux_err, lw=0.1, label=arm)"
   ]
  },
  {
   "cell_type": "code",
   "execution_count": 0,
   "metadata": {},
   "outputs": [],
   "source": [
    "spec['mr'].flux, spec['mr'].flux_err"
   ]
  },
  {
   "cell_type": "code",
   "execution_count": 0,
   "metadata": {},
   "outputs": [],
   "source": [
    "# Multiple exposures for the same object\n",
    "spectra = { arm: [] for arm in ARMS }\n",
    "exp_count = 2\n",
    "for arm in ARMS:\n",
    "    for i in range(exp_count):\n",
    "        s = spec[arm].copy()\n",
    "        s.apply_noise(NormalNoise())\n",
    "        spectra[arm].append(s)"
   ]
  },
  {
   "cell_type": "code",
   "execution_count": 0,
   "metadata": {},
   "outputs": [],
   "source": [
    "spectra['b'], spectra['mr']"
   ]
  },
  {
   "cell_type": "code",
   "execution_count": 0,
   "metadata": {},
   "outputs": [],
   "source": [
    "f, ax = plt.subplots(1, 1, dpi=120)\n",
    "\n",
    "for arm in ARMS:\n",
    "    for s in spectra[arm]:\n",
    "        plt.plot(s.wave, s.flux, lw=0.1, label=arm)"
   ]
  },
  {
   "cell_type": "markdown",
   "metadata": {},
   "source": [
    "# Run the model fitting"
   ]
  },
  {
   "cell_type": "code",
   "execution_count": 0,
   "metadata": {},
   "outputs": [],
   "source": [
    "from pfs.ga.pfsspec.core import Physics\n",
    "from pfs.ga.pfsspec.core.obsmod.resampling import FluxConservingResampler, Interp1dResampler\n",
    "from pfs.ga.pfsspec.stellar.tempfit import ModelGridTempFit, ModelGridTempFitTrace\n",
    "from pfs.ga.pfsspec.stellar.tempfit import FluxCorr, ContNorm\n",
    "from pfs.ga.pfsspec.stellar.fluxcorr import PolynomialFluxCorrection\n",
    "from pfs.ga.pfsspec.stellar.continuum.models import PiecewiseChebyshev, Spline\n",
    "from pfs.ga.pfsspec.core.sampling import NormalDistribution"
   ]
  },
  {
   "cell_type": "code",
   "execution_count": 0,
   "metadata": {},
   "outputs": [],
   "source": [
    "if CORRECTION_MODEL == 'fluxcorr':\n",
    "    correction_model = FluxCorr()\n",
    "    correction_model.use_flux_corr = True\n",
    "    correction_model.flux_corr_type = PolynomialFluxCorrection\n",
    "    correction_model.flux_corr_degree = 10\n",
    "    correction_model.flux_corr_per_arm = CORRECTION_PER_ARM\n",
    "    correction_model.flux_corr_per_exp = CORRECTION_PER_EXP\n",
    "elif CORRECTION_MODEL == 'contnorm':\n",
    "    correction_model = ContNorm()\n",
    "    correction_model.use_cont_norm = True\n",
    "    correction_model.cont_model_type = Spline\n",
    "    correction_model.cont_per_arm = CORRECTION_PER_ARM\n",
    "    correction_model.cont_per_exp = CORRECTION_PER_EXP\n",
    "\n",
    "# Set up tracing to get some performance statistics\n",
    "trace = ModelGridTempFitTrace()\n",
    "\n",
    "tempfit = ModelGridTempFit(correction_model=correction_model, trace=trace)\n",
    "tempfit.template_grids = { arm: grid[FIT_GRID[arm]] for arm in ARMS }\n",
    "tempfit.cache_templates = True\n",
    "\n",
    "tempfit.template_resampler = Interp1dResampler()\n",
    "\n",
    "rv_0 = Physics.z_to_vel(0)\n",
    "tempfit.rv_0 = rv_0\n",
    "tempfit.rv_bounds = [rv_0 - 100.0, rv_0 + 100.0]\n",
    "tempfit.rv_prior = NormalDistribution(rv_0, 50)\n",
    "tempfit.rv_step = 5.0\n",
    "\n",
    "tempfit.params_0 = { p: model_params[p] for p in [ 'M_H', 'T_eff', 'log_g' ] }\n",
    "\n",
    "if CORRECTION_MODEL == 'fluxcorr':\n",
    "    tempfit.params_fixed = { 'a_M': 0.0 }\n",
    "elif CORRECTION_MODEL == 'contnorm':\n",
    "    tempfit.params_fixed = { 'a_M': -0.5 }\n",
    "\n",
    "tempfit.params_priors = {\n",
    "    'M_H': NormalDistribution(model_params['M_H'], 0.5),\n",
    "    'T_eff': NormalDistribution(model_params['T_eff'], 50, model_params['T_eff'] - 50, model_params['T_eff'] + 50),\n",
    "    'log_g': NormalDistribution(model_params['log_g'], 0.5)\n",
    "}\n",
    "tempfit.params_steps = {\n",
    "    'M_H': 0.01,\n",
    "    'T_eff': 1,\n",
    "    'log_g': 0.01\n",
    "}\n",
    "\n",
    "# tempfit.mcmc_burnin = 500\n",
    "# tempfit.mcmc_samples = 1000\n",
    "# tempfit.mcmc_walkers = 3"
   ]
  },
  {
   "cell_type": "code",
   "execution_count": 0,
   "metadata": {},
   "outputs": [],
   "source": [
    "# Normalize flux of spectra and templates to about unity\n",
    "tempfit.init_correction_models(spectra, tempfit.rv_bounds, force=True)\n",
    "tempfit.spec_norm, tempfit.temp_norm = tempfit.get_normalization(spectra)\n",
    "print(tempfit.spec_norm, tempfit.temp_norm)"
   ]
  },
  {
   "cell_type": "code",
   "execution_count": 0,
   "metadata": {},
   "outputs": [],
   "source": [
    "tempfit.reset()\n",
    "trace.reset()\n",
    "\n",
    "profiler = cProfile.Profile()\n",
    "profiler.enable()\n",
    "\n",
    "rv = np.linspace(*tempfit.rv_bounds, 100)\n",
    "log_L = tempfit.calculate_log_L(spectra, None, rv)\n",
    "\n",
    "profiler.disable()"
   ]
  },
  {
   "cell_type": "code",
   "execution_count": 0,
   "metadata": {},
   "outputs": [],
   "source": [
    "trace.counters"
   ]
  },
  {
   "cell_type": "code",
   "execution_count": 0,
   "metadata": {},
   "outputs": [],
   "source": [
    "if True:\n",
    "    stats = pstats.Stats(profiler).sort_stats('cumtime')\n",
    "    stats.print_stats(30)"
   ]
  },
  {
   "cell_type": "code",
   "execution_count": 0,
   "metadata": {},
   "outputs": [],
   "source": [
    "f, ax = plt.subplots(1, 1, dpi=120)\n",
    "\n",
    "ax.plot(rv, log_L)\n",
    "ax.grid()"
   ]
  },
  {
   "cell_type": "code",
   "execution_count": 0,
   "metadata": {},
   "outputs": [],
   "source": [
    "tempfit.reset()\n",
    "trace.reset()\n",
    "\n",
    "profiler = cProfile.Profile()\n",
    "profiler.enable()\n",
    "\n",
    "res = tempfit.fit_rv(spectra)\n",
    "# res = tempfit.fit_rv(spectra, calculate_error=False, calculate_cov=False)\n",
    "\n",
    "profiler.disable()"
   ]
  },
  {
   "cell_type": "code",
   "execution_count": 0,
   "metadata": {},
   "outputs": [],
   "source": [
    "res.params_fit, res.params_err"
   ]
  },
  {
   "cell_type": "code",
   "execution_count": 0,
   "metadata": {},
   "outputs": [],
   "source": [
    "res.cov"
   ]
  },
  {
   "cell_type": "code",
   "execution_count": 0,
   "metadata": {},
   "outputs": [],
   "source": [
    "res.a_fit"
   ]
  },
  {
   "cell_type": "code",
   "execution_count": 0,
   "metadata": {},
   "outputs": [],
   "source": [
    "res.rv_fit, res.rv_err"
   ]
  },
  {
   "cell_type": "code",
   "execution_count": 0,
   "metadata": {},
   "outputs": [],
   "source": [
    "# Evaluate the best fit model\n",
    "templates, _ = tempfit.get_templates(spectra, res.params_fit)\n",
    "corrections = tempfit.eval_correction(spectra, templates, res.rv_fit, a=res.a_fit)\n",
    "models = tempfit.eval_model(spectra, templates, res.rv_fit, a=res.a_fit)"
   ]
  },
  {
   "cell_type": "code",
   "execution_count": 0,
   "metadata": {},
   "outputs": [],
   "source": [
    "exp_count = max(len(spectra[arm]) for arm in ARMS)\n",
    "\n",
    "for ie in range(exp_count):\n",
    "    f, ax = plt.subplots(1, 1, dpi=120)\n",
    "\n",
    "    for arm in ARMS:    \n",
    "        mask = models[arm][ie].mask_as_bool()\n",
    "        ax.plot(spectra[arm][ie].wave[mask], corrections[arm][ie][mask], lw=0.3, label=arm)"
   ]
  },
  {
   "cell_type": "code",
   "execution_count": 0,
   "metadata": {},
   "outputs": [],
   "source": [
    "exp_count = max(len(spectra[arm]) for arm in ARMS)\n",
    "\n",
    "for ie in range(exp_count):\n",
    "    f, ax = plt.subplots(1, 1, dpi=120)\n",
    "\n",
    "    for arm in ARMS:    \n",
    "        ax.plot(spectra[arm][ie].wave, spectra[arm][ie].flux, lw=0.1, label=arm)\n",
    "        ax.plot(models[arm][ie].wave, models[arm][ie].flux, lw=0.1, c='k', label=arm)"
   ]
  },
  {
   "cell_type": "code",
   "execution_count": 0,
   "metadata": {},
   "outputs": [],
   "source": [
    "exp_count = max(len(spectra[arm]) for arm in ARMS)\n",
    "\n",
    "for ie in range(exp_count):\n",
    "    f, ax = plt.subplots(1, 1, dpi=120)\n",
    "\n",
    "    for arm in ARMS:    \n",
    "        ax.plot(spectra[arm][ie].wave, spectra[arm][ie].flux - models[arm][ie].flux, lw=0.1, label=arm)\n",
    "        ax.axhline(0, c='k', lw=0.1)\n",
    "\n",
    "    ax.grid()"
   ]
  },
  {
   "cell_type": "code",
   "execution_count": 0,
   "metadata": {},
   "outputs": [],
   "source": []
  }
 ],
 "metadata": {
  "kernelspec": {
   "display_name": "astro-tf211",
   "language": "python",
   "name": "python3"
  },
  "language_info": {
   "codemirror_mode": {
    "name": "ipython",
    "version": 3
   },
   "file_extension": ".py",
   "mimetype": "text/x-python",
   "name": "python",
   "nbconvert_exporter": "python",
   "pygments_lexer": "ipython3",
   "version": "3.10.9"
  }
 },
 "nbformat": 4,
 "nbformat_minor": 2
}