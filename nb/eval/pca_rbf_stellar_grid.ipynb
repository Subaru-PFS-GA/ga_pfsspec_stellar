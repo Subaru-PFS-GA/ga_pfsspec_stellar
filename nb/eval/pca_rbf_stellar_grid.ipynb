{
 "cells": [
  {
   "cell_type": "code",
   "execution_count": 0,
   "id": "b5a2654e-609d-46bc-acc2-1a97ba991832",
   "metadata": {},
   "outputs": [],
   "source": [
    "PCA_GRID_PATH = '/datascope/subaru/data/pfsspec/models/stellar/rbf/bosz/bosz_5000_full_3/pca_2'\n",
    "RBF_GRID_PATH = '/datascope/subaru/data/pfsspec/models/stellar/rbf/bosz/bosz_5000_full_3/pca-rbf_4'"
   ]
  },
  {
   "cell_type": "code",
   "execution_count": 0,
   "id": "4b8353a1-3d1d-4314-900c-3d313405dde4",
   "metadata": {},
   "outputs": [],
   "source": [
    "%matplotlib inline"
   ]
  },
  {
   "cell_type": "code",
   "execution_count": 0,
   "id": "e65f8c93-9057-4365-9edc-cadd3ae331ed",
   "metadata": {},
   "outputs": [],
   "source": [
    "import sys\n",
    "\n",
    "# Allow load project as module\n",
    "sys.path.insert(0, '../../../..')"
   ]
  },
  {
   "cell_type": "code",
   "execution_count": 0,
   "id": "0d829e22-e1e1-4e5d-ad16-1f1e064dad7f",
   "metadata": {},
   "outputs": [],
   "source": [
    "import os\n",
    "import matplotlib.pyplot as plt\n",
    "import numpy as np\n",
    "import pandas as pd\n",
    "import h5py"
   ]
  },
  {
   "cell_type": "code",
   "execution_count": 0,
   "id": "6bc26c5a-81c4-4577-9b16-12bbd8fcaf50",
   "metadata": {},
   "outputs": [],
   "source": [
    "import matplotlib     \n",
    "matplotlib.rcParams.update({'font.size': 14})"
   ]
  },
  {
   "cell_type": "markdown",
   "id": "d0c60832-4c28-429a-b114-7b9032c7d191",
   "metadata": {},
   "source": [
    "# Load stellar model grid"
   ]
  },
  {
   "cell_type": "code",
   "execution_count": 0,
   "id": "222c3e3f-6492-41c7-974e-8bc5be0adc58",
   "metadata": {},
   "outputs": [],
   "source": [
    "from pfsspec.core.grid import ArrayGrid\n",
    "from pfsspec.core.grid import RbfGrid\n",
    "from pfsspec.stellar.grid import ModelGrid\n",
    "from pfsspec.stellar.grid.bosz import Bosz\n",
    "from pfsspec.stellar.grid.phoenix import Phoenix"
   ]
  },
  {
   "cell_type": "code",
   "execution_count": 0,
   "id": "f7b7a9be-fda1-4fe2-98c7-30e3ec4fbdac",
   "metadata": {},
   "outputs": [],
   "source": [
    "fn = os.path.join(PCA_GRID_PATH, 'spectra.h5')\n",
    "pca_grid = ModelGrid(Bosz(pca=True, normalized=True), ArrayGrid)\n",
    "pca_grid.preload_arrays = False\n",
    "pca_grid.load(fn, format='h5')"
   ]
  },
  {
   "cell_type": "code",
   "execution_count": 0,
   "id": "940fb192-9208-43d8-8508-a49ab4f1acdd",
   "metadata": {},
   "outputs": [],
   "source": [
    "fn = os.path.join(RBF_GRID_PATH, 'spectra.h5')\n",
    "rbf_grid = ModelGrid(Bosz(pca=True, normalized=True), RbfGrid)\n",
    "rbf_grid.preload_arrays = False\n",
    "rbf_grid.load(fn, format='h5')"
   ]
  },
  {
   "cell_type": "code",
   "execution_count": 0,
   "id": "866a634e-8392-4564-9006-ffe14cb5e8b4",
   "metadata": {},
   "outputs": [],
   "source": [
    "axes = rbf_grid.get_axes()\n",
    "for k in axes.keys():\n",
    "    print(k, axes[k].values)"
   ]
  },
  {
   "cell_type": "code",
   "execution_count": 0,
   "id": "4679f2e5-c4b3-4db2-92e6-c1fed376efb8",
   "metadata": {},
   "outputs": [],
   "source": [
    "rbf_grid.grid.eigs.keys()"
   ]
  },
  {
   "cell_type": "code",
   "execution_count": 0,
   "id": "485afc1a",
   "metadata": {},
   "outputs": [],
   "source": [
    "rbf_grid.wave.shape, rbf_grid.grid.eigv['flux'].shape"
   ]
  },
  {
   "cell_type": "markdown",
   "id": "1aa5edbc-b312-45a7-bbc0-3580197ab727",
   "metadata": {},
   "source": [
    "# Plot"
   ]
  },
  {
   "cell_type": "code",
   "execution_count": 0,
   "id": "5afc0908-2436-4d8c-bf70-d6c781a492d8",
   "metadata": {},
   "outputs": [],
   "source": [
    "M_H = 0\n",
    "T_eff = 4500\n",
    "log_g = 1\n",
    "a_M = 0\n",
    "C_M = 0\n",
    "\n",
    "idx = rbf_grid.grid.get_nearest_index(M_H=M_H, T_eff=T_eff, log_g=log_g, a_M=a_M, C_M=C_M)\n",
    "idx"
   ]
  },
  {
   "cell_type": "code",
   "execution_count": 0,
   "id": "2c7822c0-337d-4848-b752-d55d6fc0edb5",
   "metadata": {},
   "outputs": [],
   "source": [
    "M_H = -2.5\n",
    "T_eff = 3500\n",
    "log_g = 0.0\n",
    "a_M = -0.25\n",
    "C_M = -0.75\n",
    "\n",
    "idx = rbf_grid.grid.get_nearest_index(M_H=M_H, T_eff=T_eff, log_g=log_g, a_M=a_M, C_M=C_M)\n",
    "idx"
   ]
  },
  {
   "cell_type": "code",
   "execution_count": 0,
   "id": "4b2b282c-db0b-4366-a419-4f83f4db0e5d",
   "metadata": {},
   "outputs": [],
   "source": [
    "M_H = -1.15\n",
    "T_eff = 5800\n",
    "log_g = 2.71\n",
    "a_M = -0.11\n",
    "C_M = -0.0\n",
    "\n",
    "idx = rbf_grid.grid.get_nearest_index(M_H=M_H, T_eff=T_eff, log_g=log_g, a_M=a_M, C_M=C_M)\n",
    "idx"
   ]
  },
  {
   "cell_type": "code",
   "execution_count": 0,
   "id": "4b5dca20-4a9b-49c4-ace9-94b7fca1c92e",
   "metadata": {},
   "outputs": [],
   "source": [
    "model = rbf_grid.get_model(M_H=M_H, T_eff=T_eff, log_g=log_g, a_M=a_M, C_M=C_M)\n",
    "plt.plot(model.wave, model.flux)"
   ]
  },
  {
   "cell_type": "code",
   "execution_count": 0,
   "id": "20d216f8-0ec6-4c1c-851b-e126aed4d051",
   "metadata": {},
   "outputs": [],
   "source": [
    "model = rbf_grid.get_model(M_H=M_H, T_eff=T_eff, log_g=log_g, a_M=a_M, C_M=C_M, denormalize=True)"
   ]
  },
  {
   "cell_type": "code",
   "execution_count": 0,
   "id": "e45c5314-0230-496f-800a-0535e5bfa0ad",
   "metadata": {},
   "outputs": [],
   "source": [
    "f, ax = plt.subplots(1, 1, figsize=(6, 4), dpi=120)\n",
    "\n",
    "ax.plot(model.wave, model.flux, lw=0.1)\n",
    "\n",
    "#plt.ylim(0, 1e6)"
   ]
  },
  {
   "cell_type": "markdown",
   "id": "9d55501b-202b-4f61-8410-bd6b1097ddaf",
   "metadata": {},
   "source": [
    "# Plot PCs"
   ]
  },
  {
   "cell_type": "code",
   "execution_count": 0,
   "id": "67d96005-a8c3-4c8d-81a4-aeea025c85f1",
   "metadata": {},
   "outputs": [],
   "source": [
    "M_H = 0\n",
    "T_eff = 4500\n",
    "log_g = 1\n",
    "a_M = 0\n",
    "C_M = 0\n",
    "\n",
    "rbf_idx = rbf_grid.grid.get_nearest_index(M_H=M_H, T_eff=T_eff, log_g=log_g, a_M=a_M, C_M=C_M)\n",
    "rbf_idx"
   ]
  },
  {
   "cell_type": "code",
   "execution_count": 0,
   "id": "1fd93720-ea7d-4f35-8181-98d310e676be",
   "metadata": {},
   "outputs": [],
   "source": [
    "array_idx = pca_grid.grid.get_nearest_index(M_H=M_H, T_eff=T_eff, log_g=log_g, a_M=a_M, C_M=C_M)\n",
    "array_idx"
   ]
  },
  {
   "cell_type": "code",
   "execution_count": 0,
   "id": "bd99c045-6a3a-4e6a-a59d-b68dac48c657",
   "metadata": {},
   "outputs": [],
   "source": [
    "def plot_params_hires(rbf_grid, rbf, idx=2, param_idx=0):\n",
    "    # idx: iterate through this dimension in subplots\n",
    "    # param_idx: which parameter to plot (last dimension of the arrays)\n",
    "    \n",
    "    axes = [ rbf_grid.axes[k] for k in rbf_grid.axes ]\n",
    "    pp = axes[idx].values.size\n",
    "    rr = int(pp / 4 + 0.5)\n",
    "    f, axs = plt.subplots(rr, 4, figsize=(16, 4 * rr))\n",
    "    for p in range(pp):\n",
    "        i = p // 4\n",
    "        j = p % 4\n",
    "        \n",
    "        coords = [ np.linspace(0, axes[i].values.size - 1, 20) for i in range(len(axes)) ]\n",
    "\n",
    "        coords[idx] = np.array([p])\n",
    "        coords[-2] = np.array([array_idx[-2]])\n",
    "        coords[-1] = np.array([array_idx[-1]])\n",
    "        \n",
    "        coords = np.meshgrid(*coords, indexing='ij')\n",
    "        \n",
    "        rbf_values = rbf(*[ x.flatten() for x in coords])\n",
    "        rbf_values = rbf_values[..., param_idx].reshape(coords[0].shape)\n",
    "        rbf_values = rbf_values.squeeze()\n",
    "                \n",
    "        image = rbf_values\n",
    "        vmin, vmax = None, None\n",
    "              \n",
    "        l = axs[i, j].imshow(image, aspect='auto', vmin=vmin, vmax=vmax)\n",
    "        f.colorbar(l, ax=axs[i, j])\n",
    "        axs[i, j].set_xlabel('param: {} | slice: {}'.format(param_idx, p))"
   ]
  },
  {
   "cell_type": "code",
   "execution_count": 0,
   "id": "c999e8d0-d407-4dc4-bea1-4e14b7c5db98",
   "metadata": {},
   "outputs": [],
   "source": [
    "rbf = rbf_grid.rbf_grid.values['flux']\n",
    "rbf, rbf.nodes.shape[-1]"
   ]
  },
  {
   "cell_type": "code",
   "execution_count": 0,
   "id": "35daeae0-b777-40c9-9a40-9bdebfbad7a2",
   "metadata": {},
   "outputs": [],
   "source": [
    "for pi in range(5):\n",
    "    plot_params_hires(rbf_grid.rbf_grid, rbf, param_idx=pi)"
   ]
  },
  {
   "cell_type": "code",
   "execution_count": 0,
   "id": "2542cb8a-7ff1-4103-a35f-7e5b0f2eb8f0",
   "metadata": {},
   "outputs": [],
   "source": []
  }
 ],
 "metadata": {
  "interpreter": {
   "hash": "5a67ff4efb25b8aabbb759a9c23213a4102b92e186db45108ff57ab5b324cee0"
  },
  "kernelspec": {
   "display_name": "Python 3 [astro-dnn]",
   "language": "python",
   "name": "python3-astro-dnn"
  },
  "language_info": {
   "codemirror_mode": {
    "name": "ipython",
    "version": 3
   },
   "file_extension": ".py",
   "mimetype": "text/x-python",
   "name": "python",
   "nbconvert_exporter": "python",
   "pygments_lexer": "ipython3",
   "version": "3.7.6"
  }
 },
 "nbformat": 4,
 "nbformat_minor": 5
}