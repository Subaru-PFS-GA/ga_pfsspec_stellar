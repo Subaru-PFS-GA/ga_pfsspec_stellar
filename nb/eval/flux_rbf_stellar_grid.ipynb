{
 "cells": [
  {
   "cell_type": "code",
   "execution_count": 0,
   "id": "b5a2654e-609d-46bc-acc2-1a97ba991832",
   "metadata": {},
   "outputs": [],
   "source": [
    "#GRID_PATH = '/datascope/subaru/data/pfsspec/models/stellar/grid/bosz/bosz_5000_aM0_CM0_n515_rbf/flux'\n",
    "GRID_PATH = '/datascope/subaru/data/pfsspec/models/stellar/grid/phoenix/phoenix_HiRes_RGB_NB515_rbf/flux'"
   ]
  },
  {
   "cell_type": "code",
   "execution_count": 0,
   "id": "4b8353a1-3d1d-4314-900c-3d313405dde4",
   "metadata": {},
   "outputs": [],
   "source": [
    "%matplotlib inline"
   ]
  },
  {
   "cell_type": "code",
   "execution_count": 0,
   "id": "e65f8c93-9057-4365-9edc-cadd3ae331ed",
   "metadata": {},
   "outputs": [],
   "source": [
    "import sys\n",
    "\n",
    "# Allow load project as module\n",
    "sys.path.insert(0, '../../../..')"
   ]
  },
  {
   "cell_type": "code",
   "execution_count": 0,
   "id": "0d829e22-e1e1-4e5d-ad16-1f1e064dad7f",
   "metadata": {},
   "outputs": [],
   "source": [
    "import os\n",
    "import matplotlib.pyplot as plt\n",
    "import numpy as np\n",
    "import pandas as pd\n",
    "import h5py"
   ]
  },
  {
   "cell_type": "code",
   "execution_count": 0,
   "id": "6bc26c5a-81c4-4577-9b16-12bbd8fcaf50",
   "metadata": {},
   "outputs": [],
   "source": [
    "import matplotlib     \n",
    "matplotlib.rcParams.update({'font.size': 14})"
   ]
  },
  {
   "cell_type": "markdown",
   "id": "d0c60832-4c28-429a-b114-7b9032c7d191",
   "metadata": {},
   "source": [
    "# Load stellar model grid"
   ]
  },
  {
   "cell_type": "code",
   "execution_count": 0,
   "id": "222c3e3f-6492-41c7-974e-8bc5be0adc58",
   "metadata": {},
   "outputs": [],
   "source": [
    "from pfsspec.core.grid import ArrayGrid\n",
    "from pfsspec.core.grid import RbfGrid\n",
    "from pfsspec.stellar.grid import ModelGrid\n",
    "from pfsspec.stellar.grid.bosz import Bosz\n",
    "from pfsspec.stellar.grid.phoenix import Phoenix"
   ]
  },
  {
   "cell_type": "code",
   "execution_count": 0,
   "id": "940fb192-9208-43d8-8508-a49ab4f1acdd",
   "metadata": {},
   "outputs": [],
   "source": [
    "fn = os.path.join(GRID_PATH, 'spectra.h5')\n",
    "#grid = ModelGrid(Bosz(pca=False, normalized=False), RbfGrid)\n",
    "grid = ModelGrid(Phoenix(pca=False, normalized=False), RbfGrid)\n",
    "grid.preload_arrays = False\n",
    "grid.load(fn, format='h5')"
   ]
  },
  {
   "cell_type": "code",
   "execution_count": 0,
   "id": "7e008c4a-b3d1-4afd-b298-07d5f903dda7",
   "metadata": {},
   "outputs": [],
   "source": [
    "grid.wave"
   ]
  },
  {
   "cell_type": "code",
   "execution_count": 0,
   "id": "866a634e-8392-4564-9006-ffe14cb5e8b4",
   "metadata": {},
   "outputs": [],
   "source": [
    "axes = grid.get_axes()\n",
    "for k in axes.keys():\n",
    "    print(k, axes[k].values)"
   ]
  },
  {
   "cell_type": "markdown",
   "id": "1aa5edbc-b312-45a7-bbc0-3580197ab727",
   "metadata": {},
   "source": [
    "# Plot"
   ]
  },
  {
   "cell_type": "code",
   "execution_count": 0,
   "id": "5afc0908-2436-4d8c-bf70-d6c781a492d8",
   "metadata": {},
   "outputs": [],
   "source": [
    "M_H = -1.5\n",
    "T_eff = 4130\n",
    "log_g = 1\n",
    "a_M = 0\n",
    "C_M = 0\n",
    "\n",
    "#idx = grid.grid.get_nearest_index(M_H=M_H, T_eff=T_eff, log_g=log_g, a_M=a_M, C_M=C_M)\n",
    "idx = grid.grid.get_nearest_index(Fe_H=M_H, T_eff=T_eff, log_g=log_g)\n",
    "idx"
   ]
  },
  {
   "cell_type": "code",
   "execution_count": 0,
   "id": "4b5dca20-4a9b-49c4-ace9-94b7fca1c92e",
   "metadata": {},
   "outputs": [],
   "source": [
    "plt.figure(figsize=(6, 10))\n",
    "\n",
    "for i, log_g in enumerate(np.linspace(1, 5, 10)):\n",
    "    #model = grid.get_model(M_H=M_H, T_eff=T_eff, log_g=log_g, a_M=a_M, C_M=C_M)\n",
    "    model = grid.get_model(Fe_H=M_H, T_eff=T_eff, log_g=log_g)\n",
    "    #plt.plot(model.wave, model.flux + 3e5 * i)\n",
    "    plt.plot(model.wave, model.flux + 1.5e14 * i)"
   ]
  },
  {
   "cell_type": "code",
   "execution_count": 0,
   "id": "20d216f8-0ec6-4c1c-851b-e126aed4d051",
   "metadata": {},
   "outputs": [],
   "source": [
    "model = grid.get_model(M_H=M_H, T_eff=T_eff, log_g=log_g, a_M=a_M, C_M=C_M, denormalize=True)\n",
    "plt.plot(model.wave, model.cont)"
   ]
  },
  {
   "cell_type": "code",
   "execution_count": 0,
   "id": "bd99c045-6a3a-4e6a-a59d-b68dac48c657",
   "metadata": {},
   "outputs": [],
   "source": [
    "model = grid.get_model(M_H=-1.78, T_eff=4738, log_g=4.47, a_M=0.1, C_M=0)\n",
    "plt.plot(model.wave, model.flux)\n",
    "plt.xlim(5100, 5200)"
   ]
  },
  {
   "cell_type": "code",
   "execution_count": 0,
   "id": "255ed576-24e7-4b62-9d8b-0372404fd7a1",
   "metadata": {},
   "outputs": [],
   "source": []
  }
 ],
 "metadata": {
  "kernelspec": {
   "display_name": "Python 3 [astro-dnn]",
   "language": "python",
   "name": "python3-astro-dnn"
  },
  "language_info": {
   "codemirror_mode": {
    "name": "ipython",
    "version": 3
   },
   "file_extension": ".py",
   "mimetype": "text/x-python",
   "name": "python",
   "nbconvert_exporter": "python",
   "pygments_lexer": "ipython3",
   "version": "3.7.6"
  }
 },
 "nbformat": 4,
 "nbformat_minor": 5
}