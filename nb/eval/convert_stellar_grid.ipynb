{
 "cells": [
  {
   "cell_type": "code",
   "execution_count": 0,
   "metadata": {},
   "outputs": [],
   "source": [
    "OLD_GRID_PATH = '/datascope/subaru/data/pfsspec/models/stellar/grid/phoenix/phoenix_HiRes'\n",
    "NEW_GRID_PATH = '/datascope/subaru/data/pfsspec/models/stellar/grid/phoenix/phoenix_HiRes_pfs_mr'\n"
   ]
  },
  {
   "cell_type": "code",
   "execution_count": 0,
   "metadata": {},
   "outputs": [],
   "source": [
    "%matplotlib inline"
   ]
  },
  {
   "cell_type": "code",
   "execution_count": 0,
   "metadata": {},
   "outputs": [],
   "source": [
    "import sys\n",
    "\n",
    "# Allow load project as module\n",
    "sys.path.insert(0, '../../../../python')"
   ]
  },
  {
   "cell_type": "code",
   "execution_count": 0,
   "metadata": {},
   "outputs": [],
   "source": [
    "import os\n",
    "import matplotlib.pyplot as plt\n",
    "import numpy as np\n",
    "import pandas as pd\n",
    "import h5py"
   ]
  },
  {
   "cell_type": "code",
   "execution_count": 0,
   "metadata": {},
   "outputs": [],
   "source": [
    "import matplotlib     \n",
    "matplotlib.rcParams.update({'font.size': 7})"
   ]
  },
  {
   "cell_type": "code",
   "execution_count": 0,
   "metadata": {},
   "outputs": [],
   "source": [
    "from pfs.ga.pfsspec.core.grid import ArrayGrid\n",
    "from pfs.ga.pfsspec.stellar.grid import ModelGrid\n",
    "from pfs.ga.pfsspec.stellar.grid.bosz import Bosz\n",
    "from pfs.ga.pfsspec.stellar.grid.phoenix import Phoenix"
   ]
  },
  {
   "cell_type": "code",
   "execution_count": 0,
   "metadata": {},
   "outputs": [],
   "source": [
    "fn = os.path.join(OLD_GRID_PATH, 'spectra.h5')\n",
    "old_grid = ModelGrid(Phoenix(), ArrayGrid)\n",
    "old_grid.preload_arrays = False\n",
    "old_grid.load(fn, format='h5')"
   ]
  },
  {
   "cell_type": "code",
   "execution_count": 0,
   "metadata": {},
   "outputs": [],
   "source": [
    "fn = os.path.join(NEW_GRID_PATH, 'spectra.h5')\n",
    "new_grid = ModelGrid(Phoenix(), ArrayGrid)\n",
    "new_grid.preload_arrays = False\n",
    "new_grid.load(fn, format='h5')"
   ]
  },
  {
   "cell_type": "code",
   "execution_count": 0,
   "metadata": {},
   "outputs": [],
   "source": [
    "new_grid.wave"
   ]
  },
  {
   "cell_type": "code",
   "execution_count": 0,
   "metadata": {},
   "outputs": [],
   "source": [
    "for k in new_grid.grid.axes.keys():\n",
    "    print(k, new_grid.grid.axes[k].values)"
   ]
  },
  {
   "cell_type": "code",
   "execution_count": 0,
   "metadata": {},
   "outputs": [],
   "source": [
    "new_grid.grid.values.keys()"
   ]
  },
  {
   "cell_type": "markdown",
   "id": "007eb936-d78f-4d66-90df-13989ac03579",
   "metadata": {
    "tags": []
   },
   "source": [
    "## Count valid spectra"
   ]
  },
  {
   "cell_type": "code",
   "execution_count": 0,
   "metadata": {},
   "outputs": [],
   "source": [
    "for k in old_grid.grid.value_indexes.keys():\n",
    "    print(old_grid.grid.value_indexes[k].shape, np.sum(old_grid.grid.value_indexes[k]))"
   ]
  },
  {
   "cell_type": "code",
   "execution_count": 0,
   "id": "dd701f92-7daa-44c0-84bd-ce061044eb7f",
   "metadata": {
    "tags": []
   },
   "outputs": [],
   "source": [
    "for k in new_grid.grid.value_indexes.keys():\n",
    "    print(new_grid.grid.value_indexes[k].shape, np.sum(new_grid.grid.value_indexes[k]))"
   ]
  },
  {
   "cell_type": "markdown",
   "id": "ac4dc5c0-48c5-4837-8005-82fab2ee018f",
   "metadata": {},
   "source": [
    "# Plot some nice spectra"
   ]
  },
  {
   "cell_type": "code",
   "execution_count": 0,
   "id": "0006cb7f-d336-406f-bf83-f80e52528cdc",
   "metadata": {},
   "outputs": [],
   "source": [
    "idx = old_grid.grid.get_nearest_index(M_H=-1.5, T_eff=5000, log_g=1.5, a_M=0.0, C_M=0.0)\n",
    "idx"
   ]
  },
  {
   "cell_type": "code",
   "execution_count": 0,
   "id": "df3e2363-4598-47cd-917b-e37b0d10c387",
   "metadata": {},
   "outputs": [],
   "source": [
    "old_model = old_grid.get_nearest_model(M_H=-1.5, T_eff=5000, log_g=1.5, a_M=0.0, C_M=0.0)\n",
    "new_model = new_grid.get_nearest_model(M_H=-1.5, T_eff=5000, log_g=1.5, a_M=0.0, C_M=0.0)"
   ]
  },
  {
   "cell_type": "code",
   "execution_count": 0,
   "id": "b8260385-24e2-4e91-a91e-c08868adf035",
   "metadata": {},
   "outputs": [],
   "source": [
    "f, ax = plt.subplots(1, 1, figsize=(3.4, 2.5), dpi=240)\n",
    "\n",
    "wlim = [8200, 8500]\n",
    "\n",
    "mask = (wlim[0] <= old_model.wave) & (old_model.wave <= wlim[1])\n",
    "ax.plot(old_model.wave[mask], old_model.flux[mask], lw=0.3)\n",
    "\n",
    "mask = (wlim[0] <= new_model.wave) & (new_model.wave <= wlim[1])\n",
    "ax.plot(new_model.wave[mask], new_model.flux[mask], lw=0.3)"
   ]
  },
  {
   "cell_type": "code",
   "execution_count": 0,
   "metadata": {},
   "outputs": [],
   "source": []
  }
 ],
 "metadata": {
  "kernelspec": {
   "display_name": "Python 3.7.6 ('astro-dnn')",
   "language": "python",
   "name": "python3"
  },
  "language_info": {
   "codemirror_mode": {
    "name": "ipython",
    "version": 3
   },
   "file_extension": ".py",
   "mimetype": "text/x-python",
   "name": "python",
   "nbconvert_exporter": "python",
   "pygments_lexer": "ipython3",
   "version": "3.7.6"
  },
  "vscode": {
   "interpreter": {
    "hash": "5a67ff4efb25b8aabbb759a9c23213a4102b92e186db45108ff57ab5b324cee0"
   }
  }
 },
 "nbformat": 4,
 "nbformat_minor": 2
}