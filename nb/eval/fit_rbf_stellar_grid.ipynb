{
 "cells": [
  {
   "cell_type": "code",
   "execution_count": 0,
   "id": "b5a2654e-609d-46bc-acc2-1a97ba991832",
   "metadata": {},
   "outputs": [],
   "source": [
    "FIT_GRID_PATH = '/datascope/subaru/data/pfsspec/models/stellar/rbf/bosz/bosz_5000_full_2/fit'\n",
    "RBF_GRID_PATH = '/datascope/subaru/data/pfsspec/models/stellar/rbf/bosz/bosz_5000_full_2/fit-rbf-2'"
   ]
  },
  {
   "cell_type": "code",
   "execution_count": 0,
   "id": "4b8353a1-3d1d-4314-900c-3d313405dde4",
   "metadata": {},
   "outputs": [],
   "source": [
    "%matplotlib inline"
   ]
  },
  {
   "cell_type": "code",
   "execution_count": 0,
   "id": "e65f8c93-9057-4365-9edc-cadd3ae331ed",
   "metadata": {},
   "outputs": [],
   "source": [
    "import sys\n",
    "\n",
    "# Allow load project as module\n",
    "sys.path.insert(0, '../../../..')"
   ]
  },
  {
   "cell_type": "code",
   "execution_count": 0,
   "id": "0d829e22-e1e1-4e5d-ad16-1f1e064dad7f",
   "metadata": {},
   "outputs": [],
   "source": [
    "import os\n",
    "import matplotlib.pyplot as plt\n",
    "import numpy as np\n",
    "import pandas as pd\n",
    "import h5py"
   ]
  },
  {
   "cell_type": "code",
   "execution_count": 0,
   "id": "6bc26c5a-81c4-4577-9b16-12bbd8fcaf50",
   "metadata": {},
   "outputs": [],
   "source": [
    "import matplotlib     \n",
    "matplotlib.rcParams.update({'font.size': 14})"
   ]
  },
  {
   "cell_type": "markdown",
   "id": "d0c60832-4c28-429a-b114-7b9032c7d191",
   "metadata": {},
   "source": [
    "# Load stellar model grid"
   ]
  },
  {
   "cell_type": "code",
   "execution_count": 0,
   "id": "222c3e3f-6492-41c7-974e-8bc5be0adc58",
   "metadata": {},
   "outputs": [],
   "source": [
    "from pfsspec.core.grid import ArrayGrid, RbfGrid\n",
    "from pfsspec.stellar.grid import ModelGrid\n",
    "from pfsspec.stellar.grid.bosz import Bosz\n",
    "from pfsspec.stellar.grid.phoenix import Phoenix"
   ]
  },
  {
   "cell_type": "markdown",
   "id": "86143490-8d1d-4489-abcf-0fb8181ca1cb",
   "metadata": {},
   "source": [
    "## Grid of fitted parameters"
   ]
  },
  {
   "cell_type": "code",
   "execution_count": 0,
   "id": "486c0373-5648-4815-a1d6-d9e320bb7bb9",
   "metadata": {},
   "outputs": [],
   "source": [
    "fn = os.path.join(FIT_GRID_PATH, 'spectra.h5')\n",
    "fit_grid = ModelGrid(Bosz(normalized=True), ArrayGrid)\n",
    "fit_grid.preload_arrays = True\n",
    "fit_grid.load(fn, format='h5')"
   ]
  },
  {
   "cell_type": "code",
   "execution_count": 0,
   "id": "ff846996-5643-45ea-b0af-c6950ec73bc5",
   "metadata": {},
   "outputs": [],
   "source": [
    "fit_grid.wave"
   ]
  },
  {
   "cell_type": "code",
   "execution_count": 0,
   "id": "5e59a52e-1e90-4333-8629-caa1fbeecb91",
   "metadata": {},
   "outputs": [],
   "source": [
    "for k in fit_grid.grid.axes.keys():\n",
    "    print(k, fit_grid.grid.axes[k].values)"
   ]
  },
  {
   "cell_type": "markdown",
   "id": "2f52bf05-1433-442f-9870-3f852a323765",
   "metadata": {},
   "source": [
    "## Rbf grid"
   ]
  },
  {
   "cell_type": "code",
   "execution_count": 0,
   "id": "940fb192-9208-43d8-8508-a49ab4f1acdd",
   "metadata": {},
   "outputs": [],
   "source": [
    "fn = os.path.join(RBF_GRID_PATH, 'spectra.h5')\n",
    "rbf_grid = ModelGrid(Bosz(normalized=True), RbfGrid)\n",
    "rbf_grid.preload_arrays = False\n",
    "rbf_grid.load(fn, format='h5')"
   ]
  },
  {
   "cell_type": "code",
   "execution_count": 0,
   "id": "7e008c4a-b3d1-4afd-b298-07d5f903dda7",
   "metadata": {},
   "outputs": [],
   "source": [
    "rbf_grid.wave"
   ]
  },
  {
   "cell_type": "code",
   "execution_count": 0,
   "id": "866a634e-8392-4564-9006-ffe14cb5e8b4",
   "metadata": {},
   "outputs": [],
   "source": [
    "for k in rbf_grid.grid.axes.keys():\n",
    "    print(k, rbf_grid.grid.axes[k].values)"
   ]
  },
  {
   "cell_type": "code",
   "execution_count": 0,
   "id": "4679f2e5-c4b3-4db2-92e6-c1fed376efb8",
   "metadata": {},
   "outputs": [],
   "source": [
    "rbf_grid.grid.values.keys()"
   ]
  },
  {
   "cell_type": "markdown",
   "id": "1aa5edbc-b312-45a7-bbc0-3580197ab727",
   "metadata": {},
   "source": [
    "# Plot"
   ]
  },
  {
   "cell_type": "code",
   "execution_count": 0,
   "id": "5afc0908-2436-4d8c-bf70-d6c781a492d8",
   "metadata": {},
   "outputs": [],
   "source": [
    "M_H = 0\n",
    "T_eff = 4500\n",
    "log_g = 1\n",
    "a_M = 0\n",
    "C_M = 0\n",
    "\n",
    "rbf_idx = rbf_grid.grid.get_nearest_index(M_H=M_H, T_eff=T_eff, log_g=log_g, a_M=a_M, C_M=C_M)\n",
    "rbf_idx"
   ]
  },
  {
   "cell_type": "code",
   "execution_count": 0,
   "id": "134f3321-3757-4ebc-b120-3832b8b75b50",
   "metadata": {},
   "outputs": [],
   "source": [
    "array_idx = fit_grid.grid.get_nearest_index(M_H=M_H, T_eff=T_eff, log_g=log_g, a_M=a_M, C_M=C_M)\n",
    "array_idx"
   ]
  },
  {
   "cell_type": "code",
   "execution_count": 0,
   "id": "24ba8631-5d97-4a41-bf1d-3478f8837778",
   "metadata": {},
   "outputs": [],
   "source": [
    "def plot_params(rbf_grid, array_grid, rbf, array, idx=2, param_idx=0):\n",
    "    axes = list(rbf_grid.axes.values())\n",
    "    pp = axes[idx].values.size\n",
    "    rr = int(pp / 4 + 0.5)\n",
    "    f, axs = plt.subplots(rr, 4, figsize=(16, 4 * rr))\n",
    "    for p in range(pp):\n",
    "        i = p // 4\n",
    "        j = p % 4\n",
    "        \n",
    "        coords = [np.arange(axes[k].values.size) for k in range(3)]\n",
    "        del coords[idx]\n",
    "        coords = np.meshgrid(*coords)\n",
    "        coords.insert(idx, np.full_like(coords[0], p))\n",
    "        rbf_values = rbf(*[ x.flatten() for x in coords])\n",
    "        rbf_values = rbf_values[..., param_idx].reshape(coords[0].shape).T\n",
    "        \n",
    "        s = (array.ndim - 1) * [slice(None)]\n",
    "        s[idx] = p\n",
    "        s = tuple(s)\n",
    "        array_values = array[s][..., param_idx]\n",
    "        \n",
    "        image = array_values - rbf_values\n",
    "        \n",
    "        l = axs[i, j].imshow(image, aspect='auto')\n",
    "        f.colorbar(l, ax=axs[i, j])\n",
    "        axs[i, j].set_xlabel('param: {} | slice: {}'.format(param_idx, p))"
   ]
  },
  {
   "cell_type": "code",
   "execution_count": 0,
   "id": "643e5d2d-958c-4f92-a404-40bac72fe3c6",
   "metadata": {},
   "outputs": [],
   "source": [
    "rbf = rbf_grid.rbf_grid.values['blended_0']\n",
    "array = fit_grid.array_grid.values['blended_0'][:, :, :, array_idx[-2], array_idx[-1]]\n",
    "for pi in range(rbf.nodes.shape[-1]):\n",
    "    plot_params(rbf_grid.rbf_grid, fit_grid.array_grid, rbf, array, param_idx=pi)"
   ]
  },
  {
   "cell_type": "code",
   "execution_count": 0,
   "id": "36ece5c6-ce77-43ea-8f78-38aaae860252",
   "metadata": {},
   "outputs": [],
   "source": []
  }
 ],
 "metadata": {
  "kernelspec": {
   "display_name": "Python 3 [astro-dnn]",
   "language": "python",
   "name": "python3-astro-dnn"
  },
  "language_info": {
   "codemirror_mode": {
    "name": "ipython",
    "version": 3
   },
   "file_extension": ".py",
   "mimetype": "text/x-python",
   "name": "python",
   "nbconvert_exporter": "python",
   "pygments_lexer": "ipython3",
   "version": "3.7.6"
  }
 },
 "nbformat": 4,
 "nbformat_minor": 5
}