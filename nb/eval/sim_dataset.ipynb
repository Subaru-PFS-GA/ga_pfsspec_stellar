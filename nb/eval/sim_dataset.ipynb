{
 "cells": [
  {
   "cell_type": "code",
   "execution_count": 0,
   "metadata": {},
   "outputs": [],
   "source": [
    "PROJECT_PATH = '/home/dobos/project/pfsspec-all'\n",
    "DATASET_PATH = '/datascope/subaru/user/zye20/train/test4'"
   ]
  },
  {
   "cell_type": "code",
   "execution_count": 0,
   "metadata": {},
   "outputs": [],
   "source": [
    "%%javascript\n",
    "IPython.OutputArea.prototype._should_scroll = function(lines) {\n",
    "    return false;\n",
    "}"
   ]
  },
  {
   "cell_type": "code",
   "execution_count": 0,
   "metadata": {},
   "outputs": [],
   "source": [
    "import os\n",
    "import sys\n",
    "import numpy as np\n",
    "import matplotlib.pyplot as plt\n",
    "from matplotlib.ticker import AutoMinorLocator, MultipleLocator\n",
    "import h5py as h5"
   ]
  },
  {
   "cell_type": "code",
   "execution_count": 0,
   "metadata": {},
   "outputs": [],
   "source": [
    "# Allow load project as module\n",
    "sys.path.insert(0, PROJECT_PATH)"
   ]
  },
  {
   "cell_type": "code",
   "execution_count": 0,
   "metadata": {},
   "outputs": [],
   "source": [
    "from pfs.ga.pfsspec.core import Spectrum\n",
    "from pfs.ga.pfsspec.stellar.dataset import ModelDataset"
   ]
  },
  {
   "cell_type": "markdown",
   "metadata": {},
   "source": [
    "# Load and test training set"
   ]
  },
  {
   "cell_type": "code",
   "execution_count": 0,
   "metadata": {},
   "outputs": [],
   "source": [
    "fn = os.path.join(DATASET_PATH, 'dataset.h5')"
   ]
  },
  {
   "cell_type": "code",
   "execution_count": 0,
   "metadata": {},
   "outputs": [],
   "source": [
    "with h5.File(fn, 'r') as f:\n",
    "    for k in f:\n",
    "        if isinstance(f[k], h5.Dataset):\n",
    "            print(k, f[k].shape, f[k].chunks)"
   ]
  },
  {
   "cell_type": "code",
   "execution_count": 0,
   "metadata": {},
   "outputs": [],
   "source": [
    "ds = ModelDataset()\n",
    "ds.load(fn, format='h5')\n",
    "ds.params.shape"
   ]
  },
  {
   "cell_type": "code",
   "execution_count": 0,
   "metadata": {},
   "outputs": [],
   "source": [
    "ds.preload_arrays"
   ]
  },
  {
   "cell_type": "code",
   "execution_count": 0,
   "metadata": {},
   "outputs": [],
   "source": [
    "ds.params.head(10)"
   ]
  },
  {
   "cell_type": "code",
   "execution_count": 0,
   "metadata": {},
   "outputs": [],
   "source": [
    "ds.params.tail(10)"
   ]
  },
  {
   "cell_type": "code",
   "execution_count": 0,
   "metadata": {},
   "outputs": [],
   "source": [
    "ds.params.loc[99]"
   ]
  },
  {
   "cell_type": "code",
   "execution_count": 0,
   "metadata": {},
   "outputs": [],
   "source": [
    "params = []\n",
    "for k in ds.params.columns:\n",
    "    if ds.params[k].isnull().sum() == 0:\n",
    "        params.append(k)\n",
    "params"
   ]
  },
  {
   "cell_type": "code",
   "execution_count": 0,
   "metadata": {},
   "outputs": [],
   "source": [
    "id = 0\n",
    "spec = ds.get_spectrum(id)\n",
    "spec.wave, spec.flux"
   ]
  },
  {
   "cell_type": "code",
   "execution_count": 0,
   "metadata": {},
   "outputs": [],
   "source": [
    "id = 0\n",
    "spec = ds.get_spectrum(id)\n",
    "\n",
    "plt.plot(spec.wave, spec.flux, lw=0.3)\n",
    "mm = np.quantile(spec.flux, [0.05, 0.95])\n",
    "print(mm)\n",
    "plt.ylim(mm[0], mm[1])\n",
    "\n",
    "idx = np.digitize((4000, 8000), spec.wave)\n",
    "print(idx)\n",
    "med = np.median(spec.flux[idx[0]:idx[1]])\n",
    "print(med)\n",
    "\n",
    "plt.figure()\n",
    "plt.plot(spec.wave, spec.flux * 0.5 / med, lw=0.3)\n",
    "plt.ylim(mm[0] * 0.5 / med, mm[1] * 0.5 / med)"
   ]
  },
  {
   "cell_type": "code",
   "execution_count": 0,
   "metadata": {},
   "outputs": [],
   "source": [
    "spec = ds.get_spectrum(id)\n",
    "print(spec.exp_time, spec.exp_count)\n",
    "print(spec.wave, spec.flux, spec.flux_err, spec.flux_sky)"
   ]
  },
  {
   "cell_type": "markdown",
   "metadata": {},
   "source": [
    "## Examples as a function of wavelength"
   ]
  },
  {
   "cell_type": "code",
   "execution_count": 0,
   "metadata": {},
   "outputs": [],
   "source": [
    "f, axs = plt.subplots(16, 1, figsize=(16, 48))\n",
    "\n",
    "i = 0\n",
    "#id = np.random.randint(ds.flux.shape[0] - 16)\n",
    "id = 10\n",
    "for ax in axs.flatten():\n",
    "    spec = ds.get_spectrum(id + i)\n",
    "    \n",
    "    idx = np.digitize([4000, 8000], spec.wave)\n",
    "    #mm = np.median(spec.flux[idx[0]:idx[1]])\n",
    "    #ax.plot([4000, 12000], [mm, mm])\n",
    "    \n",
    "    #ax.plot(spec.wave, spec.flux / mm, lw=0.3)\n",
    "    ax.plot(spec.wave, spec.flux, lw=0.5)\n",
    "    if spec.flux_err is not None:\n",
    "        ax.plot(spec.wave, spec.flux_err, lw=0.5)\n",
    "    ax.set_ylim(0, 1.5 * spec.flux.max())\n",
    "    #mm = np.median(spec.flux)\n",
    "    #ax.set_ylim(-2 * mm, 10 * mm)\n",
    "    #ax.set_ylim(-1, 3)\n",
    "    ax.text(0.1, 0.1, str(id + i), transform=ax.transAxes)\n",
    "    ax.text(0.9, 0.9, 'mag = %.2f \\n[M/H] = %.2f \\nT_eff = %.0f \\nlog_g = %.1f \\nSNR = %.3f' \n",
    "            % (ds.params['mag'][id + i], ds.params['M_H'][id + i], ds.params['T_eff'][id + i], ds.params['log_g'][id + i], ds.params['snr'][id + i]), transform=ax.transAxes,\n",
    "           ha='right', va='top')\n",
    "    #print(i, ' '.join(['{}={}'.format(k, ds.params.iloc[id + i][k]) for k in ds.params.iloc[[id + i]]]))\n",
    "    ax.grid(True)\n",
    "    i += 1\n",
    "    \n",
    "#plt.savefig(os.path.join(DATASET_PATH, 'examples.png'))"
   ]
  },
  {
   "cell_type": "markdown",
   "metadata": {},
   "source": [
    "## Add some noise"
   ]
  },
  {
   "cell_type": "code",
   "execution_count": 0,
   "metadata": {},
   "outputs": [],
   "source": [
    "f, axs = plt.subplots(8, 1, figsize=(16, 48))\n",
    "\n",
    "i = 0\n",
    "#id = np.random.randint(ds.flux.shape[0] - 16)\n",
    "id = 64\n",
    "for ax in axs.flatten():\n",
    "    spec = ds.get_spectrum(id + i)\n",
    "    \n",
    "    idx = np.digitize([4000, 8000], spec.wave)\n",
    "    #mm = np.median(spec.flux[idx[0]:idx[1]])\n",
    "    #ax.plot([4000, 12000], [mm, mm])\n",
    "    \n",
    "    #ax.plot(spec.wave, spec.flux / mm, lw=0.3)\n",
    "    ax.plot(spec.wave, spec.flux + np.random.normal(0, spec.flux_err), lw=0.3)\n",
    "    ax.plot(spec.wave, spec.flux, lw=0.5)\n",
    "\n",
    "    ax.set_ylim(0, 1.5 * spec.flux.max())\n",
    "    #mm = np.median(spec.flux)\n",
    "    #ax.set_ylim(-2 * mm, 10 * mm)\n",
    "    #ax.set_ylim(-1, 3)\n",
    "    ax.text(0.1, 0.1, str(id + i), transform=ax.transAxes)\n",
    "    ax.text(0.9, 0.9, 'mag = %.2f \\n[M/H] = %.2f \\nT_eff = %.0f \\nlog_g = %.1f \\nSNR = %.3f' \n",
    "            % (ds.params['mag'][id + i], ds.params['M_H'][id + i], ds.params['T_eff'][id + i], ds.params['log_g'][id + i], ds.params['snr'][id + i]), transform=ax.transAxes,\n",
    "           ha='right', va='top')\n",
    "    #print(i, ' '.join(['{}={}'.format(k, ds.params.iloc[id + i][k]) for k in ds.params.iloc[[id + i]]]))\n",
    "    ax.grid(True)\n",
    "    i += 1\n",
    "    \n",
    "#plt.savefig(os.path.join(DATASET_PATH, 'examples.png'))"
   ]
  },
  {
   "cell_type": "markdown",
   "metadata": {},
   "source": [
    "## Examples as a function of pixel"
   ]
  },
  {
   "cell_type": "code",
   "execution_count": 0,
   "metadata": {},
   "outputs": [],
   "source": [
    "if ds.wave.ndim != 1:\n",
    "    f, axs = plt.subplots(16, 1, figsize=(16, 48))\n",
    "\n",
    "    i = 0\n",
    "    #id = np.random.randint(ds.flux.shape[0] - 16)\n",
    "    id = 64\n",
    "    for ax in axs.flatten():\n",
    "        spec = ds.get_spectrum(id + i)\n",
    "\n",
    "        idx = np.digitize([4000, 8000], spec.wave)\n",
    "        #mm = np.median(spec.flux[idx[0]:idx[1]])\n",
    "        #ax.plot([4000, 12000], [mm, mm])\n",
    "\n",
    "        #ax.plot(spec.wave, spec.flux / mm, lw=0.3)\n",
    "        ax.plot(spec.flux, lw=0.5)\n",
    "        if spec.flux_err is not None:\n",
    "            ax.plot(spec.wave, spec.flux_err, lw=0.5)\n",
    "        ax.set_ylim(0, 1.5 * spec.flux.max())\n",
    "        #mm = np.median(spec.flux)\n",
    "        #ax.set_ylim(-2 * mm, 10 * mm)\n",
    "        #ax.set_ylim(-1, 3)\n",
    "        ax.text(0.1, 0.1, str(id + i), transform=ax.transAxes)\n",
    "        ax.text(0.9, 0.9, 'mag = %.2f \\n[M/H] = %.2f \\nT_eff = %.0f \\nlog_g = %.1f \\nSNR = %.3f' \n",
    "                % (ds.params['mag'][id + i], ds.params['M_H'][id + i], ds.params['T_eff'][id + i], ds.params['log_g'][id + i], ds.params['snr'][id + i]), transform=ax.transAxes,\n",
    "               ha='right', va='top')\n",
    "        #print(i, ' '.join(['{}={}'.format(k, ds.params.iloc[id + i][k]) for k in ds.params.iloc[[id + i]]]))\n",
    "        ax.xaxis.set_minor_locator(AutoMinorLocator(4))\n",
    "        ax.grid(True)\n",
    "        ax.grid(True, which='minor')\n",
    "        ax.set_xlim(2500, 3000)\n",
    "        i += 1\n",
    "\n",
    "    #plt.savefig(os.path.join(DATASET_PATH, 'examples.png'))"
   ]
  },
  {
   "cell_type": "markdown",
   "metadata": {},
   "source": [
    "# Look for invalid SNR"
   ]
  },
  {
   "cell_type": "code",
   "execution_count": 0,
   "metadata": {},
   "outputs": [],
   "source": [
    "snr = ds.params['snr']\n",
    "np.sum(np.isnan(snr)), np.sum(np.isinf(snr)), np.sum(snr == 0)"
   ]
  },
  {
   "cell_type": "code",
   "execution_count": 0,
   "metadata": {},
   "outputs": [],
   "source": [
    "idx = np.where(np.isnan(snr))\n",
    "idx = idx[0]\n",
    "idx.shape, idx"
   ]
  },
  {
   "cell_type": "code",
   "execution_count": 0,
   "metadata": {},
   "outputs": [],
   "source": [
    "for i in range(min(4, idx.shape[0])):\n",
    "    f, axs = plt.subplots(1, 1, figsize=(16, 6), squeeze=False)\n",
    "    \n",
    "    ax = axs[0, 0]\n",
    "    spec = ds.get_spectrum(idx[i])\n",
    "        \n",
    "    #ax.plot(spec.wave, spec.flux / mm, lw=0.3)\n",
    "    ax.plot(spec.wave, spec.flux + np.random.normal(0, spec.flux_err), lw=0.3)\n",
    "    ax.plot(spec.wave, spec.flux, lw=0.5)\n",
    "\n",
    "    ax.set_ylim(0, 1.5 * spec.flux.max())\n",
    "    ax.text(0.1, 0.1, str(idx[i]), transform=ax.transAxes)\n",
    "    ax.text(0.9, 0.9, 'mag = %.2f \\n[Fe/H] = %.2f \\nT_eff = %.0f \\nlog_g = %.1f \\nSNR = %.3f' \n",
    "            % (ds.params['mag'][idx[i]], ds.params['Fe_H'][idx[i]], ds.params['T_eff'][idx[i]], ds.params['log_g'][idx[i]], ds.params['snr'][idx[i]]), transform=ax.transAxes,\n",
    "           ha='right', va='top')\n",
    "    #print(i, ' '.join(['{}={}'.format(k, ds.params.iloc[id + i][k]) for k in ds.params.iloc[[id + i]]]))\n",
    "    ax.grid(True)"
   ]
  },
  {
   "cell_type": "code",
   "execution_count": 0,
   "metadata": {},
   "outputs": [],
   "source": [
    "for i in range(min(4, idx.shape[0])):\n",
    "    spec = ds.get_spectrum(idx[i])\n",
    "    print(idx[i], np.sum(spec.flux_err == 0))"
   ]
  },
  {
   "cell_type": "markdown",
   "metadata": {},
   "source": [
    "# Training set properties\n",
    "\n",
    "## Distribution of stellar parameters"
   ]
  },
  {
   "cell_type": "code",
   "execution_count": 0,
   "metadata": {},
   "outputs": [],
   "source": [
    "N = len(params)\n",
    "f, ax = plt.subplots(N, 1, figsize=(10, 6 * N))\n",
    "i = 0\n",
    "for k in params:\n",
    "    if ds.params.dtypes[k] == np.float64:\n",
    "        #qs = np.quantile(ds.params[k], [0.1, 0.2, 0.8, 0.9])\n",
    "        #hist_range = (2 * qs[0] - qs[1], 2 * qs[3] - qs[2])\n",
    "        hist_range = (np.min(ds.params[k]), np.max(ds.params[k]))\n",
    "        hist1, bins = np.histogram(ds.params[k], range=hist_range, bins=100, density=True)\n",
    "        ax[i].step(0.5 * (bins[:-1] + bins[1:]), hist1, '-', label='train')\n",
    "        ax[i].set_xlabel(k)\n",
    "        ax[i].set_ylim(0, None)\n",
    "        ax[i].legend()\n",
    "        ax[i].grid(True)\n",
    "        i += 1\n",
    "    \n",
    "#plt.savefig(os.path.join(DATASET_PATH, 'params.png'))"
   ]
  },
  {
   "cell_type": "code",
   "execution_count": 0,
   "metadata": {},
   "outputs": [],
   "source": []
  },
  {
   "cell_type": "code",
   "execution_count": 0,
   "metadata": {},
   "outputs": [],
   "source": []
  },
  {
   "cell_type": "code",
   "execution_count": 0,
   "metadata": {},
   "outputs": [],
   "source": []
  }
 ],
 "metadata": {
  "kernelspec": {
   "display_name": "Python 3 [astro-dnn]",
   "language": "python",
   "name": "python3-astro-dnn"
  },
  "language_info": {
   "codemirror_mode": {
    "name": "ipython",
    "version": 3
   },
   "file_extension": ".py",
   "mimetype": "text/x-python",
   "name": "python",
   "nbconvert_exporter": "python",
   "pygments_lexer": "ipython3",
   "version": "3.7.6"
  }
 },
 "nbformat": 4,
 "nbformat_minor": 4
}