{
 "cells": [
  {
   "cell_type": "code",
   "execution_count": 0,
   "id": "b5a2654e-609d-46bc-acc2-1a97ba991832",
   "metadata": {},
   "outputs": [],
   "source": [
    "#PCA_GRID_PATH = '/datascope/subaru/data/pfsspec/models/stellar/rbf/phoenix/phoenix_HiRes_GK/pca'\n",
    "#PCA_GRID_PATH = '/datascope/subaru/data/pfsspec/models/stellar/rbf/bosz/bosz_50000_GK/pca'\n",
    "\n",
    "#GRID_PATH = '/datascope/subaru/data/pfsspec/models/stellar/rbf/phoenix/phoenix_HiRes_GK/norm'\n",
    "#PCA_GRID_PATH = '/datascope/subaru/data/pfsspec/models/stellar/grid/phoenix/phoenix_HiRes_norm_pca_6000/'\n",
    "#NORMALIZED = True\n",
    "\n",
    "#GRID_PATH = '/datascope/subaru/data/pfsspec/models/stellar/grid/phoenix/phoenix_HiRes'\n",
    "#PCA_GRID_PATH = '/datascope/subaru/data/pfsspec/models/stellar/grid/phoenix/phoenix_HiRes_pca_6000/'\n",
    "#NORMALIZED = False\n",
    "\n",
    "GRID_PATH = '/datascope/subaru/data/pfsspec/models/stellar/grid/phoenix/phoenix_HiRes'\n",
    "WEIGHT_GRID_PATH = '/datascope/subaru/data/pfsspec/models/stellar/rbf/phoenix/phoenix_HiRes_GK/norm/mask.h5'\n",
    "NORM_GRID_PATH = '/datascope/subaru/data/pfsspec/models/stellar/rbf/phoenix/phoenix_HiRes_GK/norm'\n",
    "PCA_GRID_PATH = '/datascope/subaru/data/pfsspec/models/stellar/rbf/phoenix/phoenix_HiRes_GK/pca_none_weights_3'\n",
    "NORMALIZED = True"
   ]
  },
  {
   "cell_type": "code",
   "execution_count": 0,
   "id": "4b8353a1-3d1d-4314-900c-3d313405dde4",
   "metadata": {},
   "outputs": [],
   "source": [
    "%matplotlib inline"
   ]
  },
  {
   "cell_type": "code",
   "execution_count": 0,
   "id": "e65f8c93-9057-4365-9edc-cadd3ae331ed",
   "metadata": {},
   "outputs": [],
   "source": [
    "import sys\n",
    "\n",
    "# Allow load project as module\n",
    "sys.path.insert(0, '../../../..')"
   ]
  },
  {
   "cell_type": "code",
   "execution_count": 0,
   "id": "0d829e22-e1e1-4e5d-ad16-1f1e064dad7f",
   "metadata": {},
   "outputs": [],
   "source": [
    "import os\n",
    "import matplotlib.pyplot as plt\n",
    "import numpy as np\n",
    "import pandas as pd\n",
    "import h5py\n",
    "from tqdm.notebook import tqdm"
   ]
  },
  {
   "cell_type": "code",
   "execution_count": 0,
   "id": "6bc26c5a-81c4-4577-9b16-12bbd8fcaf50",
   "metadata": {},
   "outputs": [],
   "source": [
    "import matplotlib     \n",
    "matplotlib.rcParams.update({'font.size': 7})"
   ]
  },
  {
   "cell_type": "markdown",
   "id": "d0c60832-4c28-429a-b114-7b9032c7d191",
   "metadata": {},
   "source": [
    "# Load stellar model grid"
   ]
  },
  {
   "cell_type": "code",
   "execution_count": 0,
   "id": "222c3e3f-6492-41c7-974e-8bc5be0adc58",
   "metadata": {},
   "outputs": [],
   "source": [
    "from pfs.ga.pfsspec.core.grid import ArrayGrid\n",
    "from pfs.ga.pfsspec.stellar.grid import ModelGrid\n",
    "from pfs.ga.pfsspec.stellar.grid.bosz import Bosz\n",
    "from pfs.ga.pfsspec.stellar.grid.phoenix import Phoenix"
   ]
  },
  {
   "cell_type": "code",
   "execution_count": 0,
   "id": "90c9f166-3f22-4a10-bdfb-9d5651a69ba1",
   "metadata": {},
   "outputs": [],
   "source": [
    "fn = os.path.join(GRID_PATH, 'spectra.h5')\n",
    "grid = ModelGrid(Phoenix(pca=False, normalized=False), ArrayGrid)\n",
    "grid.preload_arrays = False\n",
    "grid.load(fn, format='h5')"
   ]
  },
  {
   "cell_type": "code",
   "execution_count": 0,
   "id": "a200f984-4d21-4e2b-b737-ef51d4b86bba",
   "metadata": {},
   "outputs": [],
   "source": [
    "fn = WEIGHT_GRID_PATH\n",
    "weight_grid = ModelGrid(Phoenix(pca=False, normalized=False), ArrayGrid)\n",
    "weight_grid.preload_arrays = False\n",
    "weight_grid.load(fn, format='h5')"
   ]
  },
  {
   "cell_type": "code",
   "execution_count": 0,
   "id": "3ffb164c-ca9d-400c-8d98-3b9b0774fd20",
   "metadata": {},
   "outputs": [],
   "source": [
    "fn = os.path.join(NORM_GRID_PATH, 'spectra.h5')\n",
    "norm_grid = ModelGrid(Phoenix(pca=False, normalized=True), ArrayGrid)\n",
    "norm_grid.preload_arrays = False\n",
    "norm_grid.load(fn, format='h5')"
   ]
  },
  {
   "cell_type": "code",
   "execution_count": 0,
   "id": "940fb192-9208-43d8-8508-a49ab4f1acdd",
   "metadata": {},
   "outputs": [],
   "source": [
    "fn = os.path.join(PCA_GRID_PATH, 'spectra.h5')\n",
    "#pca_grid = ModelGrid(Bosz(pca=True, normalized=True), ArrayGrid)\n",
    "pca_grid = ModelGrid(Phoenix(pca=True, normalized=NORMALIZED), ArrayGrid)\n",
    "pca_grid.preload_arrays = False\n",
    "pca_grid.load(fn, format='h5')"
   ]
  },
  {
   "cell_type": "code",
   "execution_count": 0,
   "id": "7e008c4a-b3d1-4afd-b298-07d5f903dda7",
   "metadata": {},
   "outputs": [],
   "source": [
    "grid.wave, pca_grid.wave"
   ]
  },
  {
   "cell_type": "code",
   "execution_count": 0,
   "id": "06ccb6e9-52b2-4f74-83a6-093b7ad99507",
   "metadata": {},
   "outputs": [],
   "source": [
    "grid.wave_lim = [pca_grid.wave.min(), pca_grid.wave.max()]\n",
    "grid.get_wave_slice()"
   ]
  },
  {
   "cell_type": "code",
   "execution_count": 0,
   "id": "42cbab73-068e-484d-9f75-6f33a3554683",
   "metadata": {},
   "outputs": [],
   "source": [
    "grid.get_wave(), pca_grid.get_wave()"
   ]
  },
  {
   "cell_type": "code",
   "execution_count": 0,
   "id": "233a3443-a929-44ca-82e9-b65efab8dce6",
   "metadata": {},
   "outputs": [],
   "source": [
    "norm_grid.wave_lim = [pca_grid.wave.min(), pca_grid.wave.max()]\n",
    "norm_grid.get_wave_slice()"
   ]
  },
  {
   "cell_type": "code",
   "execution_count": 0,
   "id": "866a634e-8392-4564-9006-ffe14cb5e8b4",
   "metadata": {},
   "outputs": [],
   "source": [
    "for _, k, axis in grid.enumerate_axes():\n",
    "    print(k, axis.values)"
   ]
  },
  {
   "cell_type": "code",
   "execution_count": 0,
   "id": "81db6dcb-b297-46f6-be99-2a7cc6de1f2f",
   "metadata": {},
   "outputs": [],
   "source": [
    "for _, k, axis in pca_grid.enumerate_axes():\n",
    "    print(k, axis.values)"
   ]
  },
  {
   "cell_type": "code",
   "execution_count": 0,
   "id": "4679f2e5-c4b3-4db2-92e6-c1fed376efb8",
   "metadata": {},
   "outputs": [],
   "source": [
    "pca_grid.grid.eigs.keys(), pca_grid.array_grid.value_shapes['flux']"
   ]
  },
  {
   "cell_type": "markdown",
   "id": "61e9fad2-a821-4daf-9319-ca13772ce2b5",
   "metadata": {},
   "source": [
    "## Count valid spectra"
   ]
  },
  {
   "cell_type": "code",
   "execution_count": 0,
   "id": "ede67327-2999-4315-96cb-78150cf4857e",
   "metadata": {},
   "outputs": [],
   "source": [
    "grid.array_grid.value_indexes['flux'].shape, np.sum(grid.array_grid.value_indexes['flux'])"
   ]
  },
  {
   "cell_type": "code",
   "execution_count": 0,
   "id": "0036e099-3062-497d-8633-90ddc30202d4",
   "metadata": {},
   "outputs": [],
   "source": [
    "pca_grid.array_grid.value_indexes['flux'].shape, np.sum(pca_grid.array_grid.value_indexes['flux'])"
   ]
  },
  {
   "cell_type": "markdown",
   "id": "1aa5edbc-b312-45a7-bbc0-3580197ab727",
   "metadata": {},
   "source": [
    "# Plot"
   ]
  },
  {
   "cell_type": "code",
   "execution_count": 0,
   "id": "5afc0908-2436-4d8c-bf70-d6c781a492d8",
   "metadata": {},
   "outputs": [],
   "source": [
    "M_H = -1.0\n",
    "T_eff = 4000\n",
    "log_g = 5\n",
    "a_M = 0\n",
    "C_M = 0\n",
    "\n",
    "# M_H = -2.5\n",
    "# T_eff = 4000\n",
    "# log_g = 1\n",
    "# a_M = 0\n",
    "# C_M = 0\n",
    "\n",
    "pca_idx = pca_grid.grid.get_nearest_index(M_H=M_H, T_eff=T_eff, log_g=log_g, a_M=a_M, C_M=C_M)\n",
    "pca_idx"
   ]
  },
  {
   "cell_type": "code",
   "execution_count": 0,
   "id": "c76eb4a6-0bb5-4b25-bd34-3f07207a2650",
   "metadata": {},
   "outputs": [],
   "source": [
    "norm_idx = norm_grid.grid.get_nearest_index(M_H=M_H, T_eff=T_eff, log_g=log_g, a_M=a_M, C_M=C_M)\n",
    "norm_idx"
   ]
  },
  {
   "cell_type": "code",
   "execution_count": 0,
   "id": "c4bdb530-1cc7-4f14-8625-dc7410ae9a5c",
   "metadata": {},
   "outputs": [],
   "source": [
    "idx = grid.grid.get_nearest_index(M_H=M_H, T_eff=T_eff, log_g=log_g, a_M=a_M, C_M=C_M)\n",
    "idx"
   ]
  },
  {
   "cell_type": "code",
   "execution_count": 0,
   "id": "cba39c84-faa9-4fe0-b32b-059aced51b17",
   "metadata": {},
   "outputs": [],
   "source": [
    "norm_model = norm_grid.get_model_at(norm_idx)\n",
    "plt.plot(norm_model.wave, norm_model.flux)"
   ]
  },
  {
   "cell_type": "code",
   "execution_count": 0,
   "id": "c66254e0-fd35-413f-8965-9b2722145956",
   "metadata": {},
   "outputs": [],
   "source": [
    "pca_grid.pca_grid.transform"
   ]
  },
  {
   "cell_type": "code",
   "execution_count": 0,
   "id": "4b5dca20-4a9b-49c4-ace9-94b7fca1c92e",
   "metadata": {},
   "outputs": [],
   "source": [
    "pca_model = pca_grid.get_model_at(pca_idx)\n",
    "plt.plot(pca_model.wave, pca_model.flux)"
   ]
  },
  {
   "cell_type": "code",
   "execution_count": 0,
   "id": "f76f2538-dc1a-4e97-b77c-be1e92933daf",
   "metadata": {},
   "outputs": [],
   "source": [
    "plt.plot(pca_model.wave, norm_model.flux - pca_model.flux)\n",
    "plt.ylim(-0.005, 0.005)"
   ]
  },
  {
   "cell_type": "code",
   "execution_count": 0,
   "id": "e0f73e7e-e88e-48d6-bb74-d03b212e013d",
   "metadata": {},
   "outputs": [],
   "source": [
    "model = grid.get_model_at(idx, denormalize=True)\n",
    "plt.plot(model.wave, model.flux)"
   ]
  },
  {
   "cell_type": "code",
   "execution_count": 0,
   "id": "d3f9c911-50ce-480a-ad3f-e606cd36d136",
   "metadata": {},
   "outputs": [],
   "source": [
    "norm_model = norm_grid.get_model_at(norm_idx, denormalize=True)\n",
    "plt.plot(norm_model.wave, norm_model.flux)"
   ]
  },
  {
   "cell_type": "code",
   "execution_count": 0,
   "id": "20d216f8-0ec6-4c1c-851b-e126aed4d051",
   "metadata": {},
   "outputs": [],
   "source": [
    "pca_model = pca_grid.get_model_at(pca_idx, denormalize=True)\n",
    "plt.plot(pca_model.wave, pca_model.flux)"
   ]
  },
  {
   "cell_type": "code",
   "execution_count": 0,
   "id": "9e203660-d537-4ea6-bfbd-e22bd0f31610",
   "metadata": {},
   "outputs": [],
   "source": [
    "pca_model = pca_grid.get_model_at(pca_idx, denormalize=False)\n",
    "plt.plot(pca_model.wave, pca_model.flux_err)\n",
    "plt.title('Relative error after PCA compression()')"
   ]
  },
  {
   "cell_type": "code",
   "execution_count": 0,
   "id": "694dbb60-3b8b-4007-86d4-ecb91e52e6b8",
   "metadata": {},
   "outputs": [],
   "source": [
    "f, ax = plt.subplots(1, 1, dpi=120)\n",
    "\n",
    "pca_model = pca_grid.get_model_at(pca_idx, denormalize=True)\n",
    "ax.plot(pca_model.wave, pca_model.flux_err, lw=0.5)\n",
    "ax.set_title('Relative error after PCA compression')"
   ]
  },
  {
   "cell_type": "code",
   "execution_count": 0,
   "id": "31b84204-4040-4c7b-8c8f-e0403046f297",
   "metadata": {},
   "outputs": [],
   "source": [
    "f, ax = plt.subplots(1, 1, dpi=120)\n",
    "\n",
    "pca_model = pca_grid.get_model_at(pca_idx, denormalize=True)\n",
    "ax.plot(pca_model.wave, pca_model.flux_err / pca_model.flux)\n",
    "ax.set_title('Relative error after PCA compression and denormalization')"
   ]
  },
  {
   "cell_type": "code",
   "execution_count": 0,
   "id": "d90fc98b-7148-40a6-8454-1dc92c5f433d",
   "metadata": {},
   "outputs": [],
   "source": [
    "pca_grid.grid.k = 2000"
   ]
  },
  {
   "cell_type": "code",
   "execution_count": 0,
   "id": "72583542-ebf6-49a5-8bfb-bb747bf17e98",
   "metadata": {},
   "outputs": [],
   "source": [
    "pca_model = pca_grid.get_model_at(pca_idx, denormalize=True)\n",
    "plt.plot(pca_model.wave, pca_model.flux * model.flux.sum())"
   ]
  },
  {
   "cell_type": "code",
   "execution_count": 0,
   "id": "892a377e-d5fa-48da-9e0b-7daa57c70d57",
   "metadata": {},
   "outputs": [],
   "source": [
    "#plt.plot(model.wave, (pca_model.flux - model.flux / model.flux.sum()) / (model.flux / model.flux.sum()))\n",
    "plt.plot(model.wave, (pca_model.flux - model.flux) / model.flux)\n",
    "#plt.plot(model.wave, (pca_model.flux - model.flux))\n",
    "#plt.plot(model.wave, (pca_model.flux * model.flux.sum() - model.flux) / model.flux)\n",
    "\n",
    "plt.ylim(-0.005, 0.005)\n",
    "#plt.ylim(-1, 1)\n",
    "\n",
    "plt.xlabel('wavelength')\n",
    "plt.ylabel('relative error')"
   ]
  },
  {
   "cell_type": "code",
   "execution_count": 0,
   "id": "f6f14229-cc4b-4d49-8332-c776cd4bbd86",
   "metadata": {},
   "outputs": [],
   "source": [
    "plt.plot(model.wave, (pca_model.flux - model.flux))\n",
    "\n",
    "#plt.ylim(-0.005, 0.005)\n",
    "#plt.ylim(-1, 1)\n",
    "\n",
    "plt.xlabel('wavelength')\n",
    "plt.ylabel('relative error')"
   ]
  },
  {
   "cell_type": "markdown",
   "id": "1374eee4-be82-4a0f-a339-5e43d2a3f15d",
   "metadata": {},
   "source": [
    "## Reconstruction error assuming normalized models"
   ]
  },
  {
   "cell_type": "code",
   "execution_count": 0,
   "id": "35e03d7d-4e25-44b8-934f-5129f7d7120c",
   "metadata": {},
   "outputs": [],
   "source": [
    "norm_model = norm_grid.get_model_at(norm_idx)\n",
    "plt.plot(norm_model.wave, norm_model.flux)"
   ]
  },
  {
   "cell_type": "code",
   "execution_count": 0,
   "id": "3b5adb5a-c3e3-4be1-a4ef-5f83d6c6e149",
   "metadata": {},
   "outputs": [],
   "source": [
    "pca_model = pca_grid.get_model_at(pca_idx)\n",
    "plt.plot(pca_model.wave, pca_model.flux)"
   ]
  },
  {
   "cell_type": "code",
   "execution_count": 0,
   "id": "55ec4cfc-3f1a-4147-82d1-a3eed4675b0f",
   "metadata": {},
   "outputs": [],
   "source": [
    "f, ax = plt.subplots(1, 1, figsize=(3.5, 2), dpi=200)\n",
    "\n",
    "ax.plot(pca_model.wave, pca_model.flux - norm_model.flux, lw=0.3)\n",
    "\n",
    "ax.set_xlabel(r'$\\lambda$ [A]')\n",
    "ax.set_ylabel(r'$F_\\mathrm{PCA} - F_\\mathrm{model}$')\n",
    "ax.set_ylim(-0.005, 0.005)\n",
    "ax.grid()\n",
    "ax.set_title('Reconstruction error\\n'\n",
    "r'$[M/H] = {}$, $T_\\mathrm{{eff}} = {}$ K, $\\log\\,g = {}$'.format(pca_model.M_H, pca_model.T_eff, pca_model.log_g))"
   ]
  },
  {
   "cell_type": "code",
   "execution_count": 0,
   "id": "27578f8b-2da1-47cd-875e-cdd28b0db75e",
   "metadata": {},
   "outputs": [],
   "source": [
    "f, ax = plt.subplots(1, 1, figsize=(3.5, 2), dpi=200)\n",
    "\n",
    "ax.plot(pca_model.wave, (pca_model.flux - norm_model.flux) / norm_model.flux, lw=0.3)\n",
    "\n",
    "ax.set_xlabel(r'$ \\lambda $ [A]')\n",
    "ax.set_ylabel(r'$ \\frac{ F_\\mathrm{PCA} - F_\\mathrm{model} }{ F_\\mathrm{model} } $')\n",
    "ax.set_ylim(-0.005, 0.005)\n",
    "ax.grid()\n",
    "ax.set_title('Relative reconstruction error\\n'\n",
    "r'$[M/H] = {}$, $T_\\mathrm{{eff}} = {}$ K, $\\log\\,g = {}$'.format(pca_model.M_H, pca_model.T_eff, pca_model.log_g))"
   ]
  },
  {
   "cell_type": "code",
   "execution_count": 0,
   "id": "0183fef0-ff8a-45ea-a78d-301a0775f47c",
   "metadata": {},
   "outputs": [],
   "source": [
    "model.get_params()"
   ]
  },
  {
   "cell_type": "markdown",
   "id": "f35798c8-25ba-47c4-9475-9e0a243ad3ef",
   "metadata": {},
   "source": [
    "# Error"
   ]
  },
  {
   "cell_type": "code",
   "execution_count": 0,
   "id": "f1c015e5-39c1-41cf-9d98-fb055d9344f1",
   "metadata": {},
   "outputs": [],
   "source": [
    "pca_grid.grid.k"
   ]
  },
  {
   "cell_type": "code",
   "execution_count": 0,
   "id": "7abe678c-f223-4225-898a-980ade8f9328",
   "metadata": {},
   "outputs": [],
   "source": [
    "pca_idxs = np.stack(np.where(pca_grid.grid.grid.value_indexes['flux']), axis=-1)\n",
    "pca_idxs.shape"
   ]
  },
  {
   "cell_type": "code",
   "execution_count": 0,
   "id": "132f9c47-7928-4cee-a09d-5cb4b83f3318",
   "metadata": {},
   "outputs": [],
   "source": [
    "from pfs.ga.pfsspec.core.util import SmartParallel"
   ]
  },
  {
   "cell_type": "code",
   "execution_count": 0,
   "id": "34a21041-9cad-44cf-9a7b-4153b770405a",
   "metadata": {},
   "outputs": [],
   "source": [
    "fn = os.path.join(PCA_GRID_PATH, 'error.h5')\n",
    "if os.path.isfile(fn):\n",
    "    with h5py.File(fn, 'r') as h:\n",
    "        err = h['error'][()]\n",
    "else:\n",
    "    def process_item(v):\n",
    "        i, idx = v\n",
    "\n",
    "        pca_model = pca_grid.get_model_at(idx, denormalize=False)\n",
    "        norm_model = norm_grid.get_model_at(idx, denormalize=False)\n",
    "        #return  i, pca_model.flux / norm_model.flux - 1\n",
    "        return  i, pca_model.flux - norm_model.flux\n",
    "\n",
    "    err = {}\n",
    "\n",
    "    N = pca_idxs.shape[0]\n",
    "    t = tqdm(total=N)\n",
    "    with SmartParallel(verbose=False, parallel=True, threads=24) as p:\n",
    "        for zz in p.map(process_item, list(zip(range(N), pca_idxs[:N]))):\n",
    "            i, e = zz\n",
    "            err[i] = e\n",
    "            t.update(1)\n",
    "            \n",
    "    err = np.stack([ err[i] for i in range(N) ], axis=0)"
   ]
  },
  {
   "cell_type": "code",
   "execution_count": 0,
   "id": "3fdf62a4-67b5-4301-a4a2-6fe4ba97ac1a",
   "metadata": {},
   "outputs": [],
   "source": [
    "err.shape"
   ]
  },
  {
   "cell_type": "code",
   "execution_count": 0,
   "id": "3ea24c3e-b486-4d0f-b551-23447ab9b4ee",
   "metadata": {},
   "outputs": [],
   "source": [
    "if not os.path.isfile(fn):\n",
    "    with h5py.File(fn, 'w') as h:\n",
    "        h.create_dataset('error', data=err)"
   ]
  },
  {
   "cell_type": "code",
   "execution_count": 0,
   "id": "894eba18-2f39-45ad-a734-7a5ca4500a51",
   "metadata": {},
   "outputs": [],
   "source": [
    "weight = []\n",
    "for idx in tqdm(pca_idxs, disable=True):\n",
    "    w = weight_grid.array_grid.get_value_at('weight', idx)\n",
    "    weight.append(w)\n",
    "weight = np.array(weight)\n",
    "weight.shape"
   ]
  },
  {
   "cell_type": "code",
   "execution_count": 0,
   "id": "a7318721-efdb-4412-bdc2-936dd42746f9",
   "metadata": {},
   "outputs": [],
   "source": [
    "f, ax = plt.subplots(1, 1, dpi=120)\n",
    "ax.set_title('weighted mean')\n",
    "ax.plot(pca_model.wave, np.sum(weight[:, np.newaxis] * np.abs(err), axis=0) / np.sum(weight), lw=0.3)\n",
    "#ax.set_ylim(-0.0001, 0.01)\n",
    "ax.semilogy()"
   ]
  },
  {
   "cell_type": "code",
   "execution_count": 0,
   "id": "731911ce-5690-44d2-8a8a-c2ca80c53983",
   "metadata": {},
   "outputs": [],
   "source": [
    "weight"
   ]
  },
  {
   "cell_type": "code",
   "execution_count": 0,
   "id": "38ffcd22-7531-451b-acad-18f4a6181545",
   "metadata": {},
   "outputs": [],
   "source": [
    "mask = (weight > 0).squeeze()\n",
    "mask.shape, mask.sum()"
   ]
  },
  {
   "cell_type": "code",
   "execution_count": 0,
   "id": "201bffba-2e7c-402b-bcab-e2c46b631c62",
   "metadata": {},
   "outputs": [],
   "source": [
    "err.shape"
   ]
  },
  {
   "cell_type": "code",
   "execution_count": 0,
   "id": "d1ceefb5-b459-426a-84c8-b0198ae70f2a",
   "metadata": {},
   "outputs": [],
   "source": [
    "stat = {}\n",
    "\n",
    "for tt, ff in zip(['median', 'min', 'max'], [np.median, np.min, np.max]):\n",
    "    stat[tt] = ff(np.abs(err[mask]), axis=0)"
   ]
  },
  {
   "cell_type": "code",
   "execution_count": 0,
   "id": "8e1d3dd1-2858-45ff-87b3-591e009ca819",
   "metadata": {},
   "outputs": [],
   "source": [
    "f, ax = plt.subplots(1, 1, figsize=(3.5, 3), dpi=120)\n",
    "\n",
    "for tt in stat:\n",
    "    ax.plot(pca_model.wave, stat[tt], lw=0.1, label=tt)\n",
    "\n",
    "ax.set_ylim(0.8e-15, 0.99)\n",
    "ax.semilogy()\n",
    "ax.legend()\n",
    "ax.grid()"
   ]
  },
  {
   "cell_type": "code",
   "execution_count": 0,
   "id": "48d403e4-2cd9-477a-98a7-351b1890402c",
   "metadata": {},
   "outputs": [],
   "source": [
    "f, ax = plt.subplots(1, 1, figsize=(3.5, 3), dpi=120)\n",
    "\n",
    "ax.plot(pca_model.wave, stat['median'], lw=0.1, label='median')\n",
    "\n",
    "#ax.set_ylim(0.8e-15, 0.99)\n",
    "ax.semilogy()\n",
    "ax.legend()\n",
    "ax.grid()"
   ]
  },
  {
   "cell_type": "markdown",
   "id": "8787d4a1-d9c9-45ec-b6b2-57c6bde50e6b",
   "metadata": {},
   "source": [
    "# Error map"
   ]
  },
  {
   "cell_type": "code",
   "execution_count": 0,
   "id": "481d3ecd-7389-4b6f-90db-0228368cd1f6",
   "metadata": {},
   "outputs": [],
   "source": [
    "def find_bins(x):\n",
    "    y = np.empty(x.shape[0] + 1)\n",
    "    y[1:-1] = 0.5 * (x[1:] + x[:-1])\n",
    "    y[0] = 2 * y[1] - y[2]\n",
    "    y[-1] = 2 * y[-2] - y[-3]\n",
    "    \n",
    "    return y\n",
    "\n",
    "T_eff = find_bins(pca_grid.array_grid.axes['T_eff'].values)\n",
    "log_g = find_bins(pca_grid.array_grid.axes['log_g'].values)\n",
    "\n",
    "T_eff, log_g"
   ]
  },
  {
   "cell_type": "code",
   "execution_count": 0,
   "id": "c54d15c4-87f1-481f-adf0-a02c5f22b927",
   "metadata": {},
   "outputs": [],
   "source": [
    "np.median(err, axis=-1).shape"
   ]
  },
  {
   "cell_type": "code",
   "execution_count": 0,
   "id": "96f2085e-66bf-48df-990c-e5edfb4d9c13",
   "metadata": {},
   "outputs": [],
   "source": [
    "pca_idxs = np.where(pca_grid.grid.grid.value_indexes['flux'])\n",
    "pca_idxs"
   ]
  },
  {
   "cell_type": "code",
   "execution_count": 0,
   "id": "2d0e8161-c6ce-4358-892b-45ae5d0ebd3e",
   "metadata": {},
   "outputs": [],
   "source": [
    "for i, k, ax in pca_grid.enumerate_axes():\n",
    "    print(k, ax.values.size)"
   ]
  },
  {
   "cell_type": "code",
   "execution_count": 0,
   "id": "a80eaf3f-ae4e-4cbc-a360-ef8c54644992",
   "metadata": {},
   "outputs": [],
   "source": [
    "errmap = np.full(pca_grid.get_shape(), np.nan)\n",
    "errmap[pca_idxs] = np.median(np.abs(err), axis=-1)"
   ]
  },
  {
   "cell_type": "code",
   "execution_count": 0,
   "id": "455f32e9-e11c-4c43-a2af-293ad2822a62",
   "metadata": {},
   "outputs": [],
   "source": [
    "# shp = (pca_grid.array_grid.axes['M_H'].values.size, pca_grid.array_grid.axes['T_eff'].values.size)\n",
    "# errmap = np.full(shp, np.nan)\n",
    "\n",
    "# errmap[pca_idxs[..., 0], pca_idxs[..., 1]] = np.median(np.abs(err), axis=-1)\n",
    "\n",
    "errmap.shape"
   ]
  },
  {
   "cell_type": "code",
   "execution_count": 0,
   "id": "6693c397-d080-4a5b-be46-fc74748d73ab",
   "metadata": {},
   "outputs": [],
   "source": [
    "f, ax = plt.subplots(1, 1, figsize=(4, 3), dpi=120)\n",
    "\n",
    "l = ax.imshow(np.nanmax(errmap, axis=(0, 3)).T,\n",
    "              extent=[T_eff.min(), T_eff.max(), log_g.min(), log_g.max()], origin='lower', aspect=200,\n",
    "              vmin=0, vmax=0.0003)\n",
    "ax.invert_xaxis()\n",
    "ax.invert_yaxis()\n",
    "\n",
    "ax.set_title('Median error')\n",
    "\n",
    "f.colorbar(l)"
   ]
  },
  {
   "cell_type": "markdown",
   "id": "c62d51cd-cfec-455d-b629-1d3114601f05",
   "metadata": {},
   "source": [
    "# Plot eigenvectors"
   ]
  },
  {
   "cell_type": "code",
   "execution_count": 0,
   "id": "2278de7e-e088-4c1d-8fab-57a913018c30",
   "metadata": {},
   "outputs": [],
   "source": [
    "mean = pca_grid.grid.mean['flux']\n",
    "mean.shape"
   ]
  },
  {
   "cell_type": "code",
   "execution_count": 0,
   "id": "1b210f6c-528d-44f3-b695-c9d08b24bd69",
   "metadata": {},
   "outputs": [],
   "source": [
    "f, ax = plt.subplots(1, 1, figsize=(6, 2), dpi=96)\n",
    "\n",
    "ax.plot(pca_grid.wave, mean, lw=0.1)\n",
    "ax.grid()"
   ]
  },
  {
   "cell_type": "code",
   "execution_count": 0,
   "id": "5cd619c3-b398-483a-9f65-a6cd61d191f8",
   "metadata": {},
   "outputs": [],
   "source": [
    "eigv = pca_grid.grid.eigv['flux']\n",
    "eigv.shape"
   ]
  },
  {
   "cell_type": "code",
   "execution_count": 0,
   "id": "350a8cd6-bb64-4353-82a3-22aa72a9af1c",
   "metadata": {},
   "outputs": [],
   "source": [
    "N = min(5, eigv.shape[-1])\n",
    "\n",
    "f, axs = plt.subplots(N, 1, figsize=(6, 2 * N), dpi=96)\n",
    "\n",
    "for i, ax in enumerate(axs):\n",
    "    ax.plot(pca_grid.wave, eigv[:, i], lw=0.1)\n",
    "    ax.grid()\n",
    "    #ax.set_ylim(-0.025, 0.025)\n",
    "    \n",
    "for i, ax in enumerate(axs[:-1]):\n",
    "    ax.set_xticklabels([])\n",
    "    \n",
    "#axs[0].set_ylim(-0.025, 0.005)\n",
    "    \n",
    "f.tight_layout()"
   ]
  },
  {
   "cell_type": "markdown",
   "id": "07988436-67f8-4924-9bd4-375c257db45f",
   "metadata": {},
   "source": [
    "## Scree plot"
   ]
  },
  {
   "cell_type": "code",
   "execution_count": 0,
   "id": "40278e67-a078-4581-9472-721145e1baa3",
   "metadata": {},
   "outputs": [],
   "source": [
    "S = pca_grid.grid.eigs['flux']\n",
    "S"
   ]
  },
  {
   "cell_type": "code",
   "execution_count": 0,
   "id": "bd5497a4-9ff6-4e23-8fea-b96772096c31",
   "metadata": {},
   "outputs": [],
   "source": [
    "Y = np.log10(1 - np.cumsum(S**2) / np.sum(S**2))\n",
    "X = np.log10(np.arange(Y.shape[0]) + 1)\n",
    "\n",
    "f, ax = plt.subplots(1, 1, figsize=(3.5, 2.5), dpi=120)\n",
    "\n",
    "ax.plot(X, Y)\n",
    "\n",
    "ax.set_xlabel(r'$\\log_{10} \\, k$')\n",
    "ax.set_ylabel(r'$\\log_{10} \\left( 1 - \\frac{\\sum_{i=1}^k S_i^2}{\\sum_{i=1}^N S_i^2} \\right)$')\n",
    "\n",
    "#ax.set_ylim(-6, 0)\n",
    "ax.grid()"
   ]
  },
  {
   "cell_type": "markdown",
   "id": "d4b16602-7ebd-493f-a3c0-04cdbbffce3f",
   "metadata": {},
   "source": [
    "## Basis error\n",
    "\n",
    "We need the full basis first, and then we can sum up everything beyond truncation $k$ to calculate the error as a function of lambda."
   ]
  },
  {
   "cell_type": "code",
   "execution_count": 0,
   "id": "31594b76-7d4d-481c-a4f1-b71223ef23ff",
   "metadata": {},
   "outputs": [],
   "source": [
    "S = pca_grid.grid.eigs['flux']\n",
    "U = pca_grid.grid.eigv['flux']\n",
    "S.shape, U.shape"
   ]
  },
  {
   "cell_type": "code",
   "execution_count": 0,
   "id": "ccbe812b-1c49-4513-9b73-ba44be4d7f7a",
   "metadata": {},
   "outputs": [],
   "source": [
    "sigma_wk = np.cumsum((S**2 * U**2)[:, ::-1], axis=1)[:, ::-1]\n",
    "sigma_wk.shape"
   ]
  },
  {
   "cell_type": "code",
   "execution_count": 0,
   "id": "a820fa3c-fcb2-491b-9d20-071d35d4141b",
   "metadata": {},
   "outputs": [],
   "source": [
    "# Propagation of error\n",
    "\n",
    "# SQRT -> ()^2 -> \n",
    "# def err_tr(sigma_2):\n",
    "    "
   ]
  },
  {
   "cell_type": "code",
   "execution_count": 0,
   "id": "de6d23fc-163e-4746-8cc1-ea0ff3f675df",
   "metadata": {},
   "outputs": [],
   "source": [
    "f, ax = plt.subplots(1, 1, figsize=(3.5, 2), dpi=200)\n",
    "\n",
    "ax.plot(pca_grid.wave, np.sqrt(sigma_wk[:, 1000]), lw=0.3, label='k=1000')\n",
    "ax.plot(pca_grid.wave, np.sqrt(sigma_wk[:, 2000]), lw=0.3, label='k=2000')\n",
    "ax.plot(pca_grid.wave, np.sqrt(sigma_wk[:, 3000]), lw=0.3, label='k=3000')\n",
    "\n",
    "ax.set_xlabel(r'$\\lambda$ [A]')\n",
    "ax.set_ylabel(r'$\\sigma^2_k(\\lambda)$')\n",
    "ax.set_ylim(None, 0.001)\n",
    "ax.grid()\n",
    "ax.set_title('Residual error')\n",
    "ax.legend()"
   ]
  },
  {
   "cell_type": "markdown",
   "id": "59ab4a8a-ff02-4238-ba2c-fcdcc4131500",
   "metadata": {},
   "source": [
    "## Spectral information"
   ]
  },
  {
   "cell_type": "code",
   "execution_count": 0,
   "id": "39227c05-5761-4ea5-99d1-477d5c8533e0",
   "metadata": {},
   "outputs": [],
   "source": [
    "f, ax = plt.subplots(figsize=(7, 4), dpi=120)\n",
    "\n",
    "k = -100\n",
    "ax.plot(pca_grid.wave, U[:, k]**2 * L[k], lw=0.3, label=str(k))\n",
    "\n",
    "ax.semilogy()"
   ]
  },
  {
   "cell_type": "markdown",
   "id": "ab976c6e-8b17-4afc-b04c-2d1fc6923af6",
   "metadata": {},
   "source": [
    "## Leftover noise"
   ]
  },
  {
   "cell_type": "code",
   "execution_count": 0,
   "id": "52b388e2-cfdc-457d-ab03-8ba45c4b8164",
   "metadata": {},
   "outputs": [],
   "source": [
    "U = pca_grid.grid.eigv['flux']\n",
    "L = pca_grid.grid.eigs['flux']\n",
    "U.shape, L.shape"
   ]
  },
  {
   "cell_type": "code",
   "execution_count": 0,
   "id": "6890f403-79af-49a1-9290-67d2b1254953",
   "metadata": {},
   "outputs": [],
   "source": [
    "(U**2 * L).shape"
   ]
  },
  {
   "cell_type": "code",
   "execution_count": 0,
   "id": "efeddc29-643a-4a0c-ab14-2fe1c3b6ed49",
   "metadata": {},
   "outputs": [],
   "source": [
    "UU = np.cumsum(U[:, ::-1]**2 * L[::-1], axis=1, )[:, ::-1]\n",
    "UU.shape"
   ]
  },
  {
   "cell_type": "code",
   "execution_count": 0,
   "id": "808982b9-8310-4877-a9ba-f63daed9d831",
   "metadata": {},
   "outputs": [],
   "source": [
    "f, ax = plt.subplots(figsize=(7, 4), dpi=120)\n",
    "\n",
    "for k in [500, 1000, 2000, 5000]:\n",
    "    l = ax.plot(pca_grid.wave, UU[:, k], lw=0.3, label=\"k = {}\".format(k))\n",
    "    ax.axhline(UU[:, k].min(), c=l[0].get_color())\n",
    "    ax.axhline(UU[:, k].max(), c=l[0].get_color())\n",
    "\n",
    "    ax.semilogy()\n",
    "    \n",
    "ax.set_title('\"Leftover noise\"')\n",
    "ax.legend()"
   ]
  },
  {
   "cell_type": "code",
   "execution_count": 0,
   "id": "15569074-6c3b-42b8-b543-ad5c2353dddc",
   "metadata": {},
   "outputs": [],
   "source": []
  },
  {
   "cell_type": "markdown",
   "id": "8f8b78e5-1c96-4d29-9860-7a966c495ea9",
   "metadata": {},
   "source": [
    "# Leverage score"
   ]
  },
  {
   "cell_type": "code",
   "execution_count": 0,
   "id": "46fa2367-ec3a-44e5-86f6-08a6a27a88d6",
   "metadata": {},
   "outputs": [],
   "source": [
    "U = pca_grid.grid.eigv['flux']\n",
    "U.shape"
   ]
  },
  {
   "cell_type": "code",
   "execution_count": 0,
   "id": "9969e0ee-f510-4f57-8133-736eb62d8017",
   "metadata": {},
   "outputs": [],
   "source": [
    "UU = np.cumsum(U**2, axis=1)\n",
    "UU.shape"
   ]
  },
  {
   "cell_type": "code",
   "execution_count": 0,
   "id": "4d738437-1bf7-4f94-a59c-e6ef11245023",
   "metadata": {},
   "outputs": [],
   "source": [
    "f, ax = plt.subplots(figsize=(7, 4), dpi=120)\n",
    "\n",
    "for k in [100, 200, 300, 500, 1000, 2000]:\n",
    "    ax.plot(pca_grid.wave, UU[:, k], lw=0.3, label=str(k))\n",
    "ax.semilogy()\n",
    "\n",
    "ax.set_ylim(1e-7, 0)\n",
    "ax.legend()"
   ]
  },
  {
   "cell_type": "code",
   "execution_count": 0,
   "id": "619fbc1e-13a9-4cbe-a8b1-688d10f9fbd7",
   "metadata": {},
   "outputs": [],
   "source": [
    "f, ax = plt.subplots(figsize=(7, 4), dpi=120)\n",
    "\n",
    "for k, l in zip([100, 200, 300, 500, 1000], [0, 100, 200, 300, 500]):\n",
    "    ax.plot(pca_grid.wave, UU[:, k] - UU[:, l], lw=0.3, label='{} - {}'.format(k, l))\n",
    "ax.semilogy()\n",
    "\n",
    "ax.set_ylim(1e-7, 0)\n",
    "ax.legend()"
   ]
  },
  {
   "cell_type": "markdown",
   "id": "e951c656-6548-4864-9954-f19e0052fdd9",
   "metadata": {},
   "source": [
    "# Plot principal components"
   ]
  },
  {
   "cell_type": "code",
   "execution_count": 0,
   "id": "2d3178e3-9afb-40e7-ab07-b85d7a9fa8fe",
   "metadata": {},
   "outputs": [],
   "source": [
    "#s = np.s_[:, :, :, idx[3], idx[4]]\n",
    "s = np.s_[:, :, :, idx[-1]]"
   ]
  },
  {
   "cell_type": "code",
   "execution_count": 0,
   "id": "00b415f7-2e9c-464f-a8e2-0d48b9297798",
   "metadata": {},
   "outputs": [],
   "source": [
    "def load_params(name):\n",
    "    params = pca_grid.array_grid.get_value(name)\n",
    "    masks = pca_grid.array_grid.value_indexes[name]\n",
    "        \n",
    "    return params, masks"
   ]
  },
  {
   "cell_type": "code",
   "execution_count": 0,
   "id": "42dc4ec4-156e-47a2-9092-67bc08037c99",
   "metadata": {},
   "outputs": [],
   "source": [
    "def plot_params(params, idx=2, param_idx=0):\n",
    "    pp = params.shape[idx]\n",
    "    rr = int(np.ceil(pp / 4 + 0.5))\n",
    "    f, axs = plt.subplots(rr, 4, figsize=(16, 4 * rr))\n",
    "    for p in range(pp):\n",
    "        i = p // 4\n",
    "        j = p % 4\n",
    "        \n",
    "        s = (params.ndim - 1) * [slice(None)]\n",
    "        s[idx] = p\n",
    "        s = tuple(s)\n",
    "        vmin, vmax = params[s][..., param_idx].min(), params[s][..., param_idx].max()\n",
    "        l = axs[i, j].imshow(params[s][..., param_idx], aspect='auto') #, vmin=vmin, vmax=vmax)\n",
    "        f.colorbar(l, ax=axs[i, j])\n",
    "        axs[i, j].set_xlabel('param: {} | slice: {}'.format(param_idx, p))"
   ]
  },
  {
   "cell_type": "code",
   "execution_count": 0,
   "id": "eafc617e-0956-4538-95c6-a93b685f2dc3",
   "metadata": {},
   "outputs": [],
   "source": [
    "params, masks = load_params('flux')\n",
    "params.shape[-1]"
   ]
  },
  {
   "cell_type": "code",
   "execution_count": 0,
   "id": "36ece5c6-ce77-43ea-8f78-38aaae860252",
   "metadata": {},
   "outputs": [],
   "source": [
    "for pi in range(min(15, params.shape[-1])):\n",
    "    plot_params(params[s], param_idx=pi)"
   ]
  },
  {
   "cell_type": "code",
   "execution_count": 0,
   "id": "bd99c045-6a3a-4e6a-a59d-b68dac48c657",
   "metadata": {},
   "outputs": [],
   "source": []
  }
 ],
 "metadata": {
  "kernelspec": {
   "display_name": "Python 3 [astro-dnn]",
   "language": "python",
   "name": "python3-astro-dnn"
  },
  "language_info": {
   "codemirror_mode": {
    "name": "ipython",
    "version": 3
   },
   "file_extension": ".py",
   "mimetype": "text/x-python",
   "name": "python",
   "nbconvert_exporter": "python",
   "pygments_lexer": "ipython3",
   "version": "3.7.6"
  }
 },
 "nbformat": 4,
 "nbformat_minor": 5
}