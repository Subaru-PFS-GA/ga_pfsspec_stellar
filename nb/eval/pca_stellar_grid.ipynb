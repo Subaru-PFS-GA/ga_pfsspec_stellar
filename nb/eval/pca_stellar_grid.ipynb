{
 "cells": [
  {
   "cell_type": "code",
   "execution_count": 0,
   "id": "b5a2654e-609d-46bc-acc2-1a97ba991832",
   "metadata": {},
   "outputs": [],
   "source": [
    "GRID_PATH = '/datascope/subaru/data/pfsspec/models/stellar/rbf/bosz/bosz_5000_full_3/pca'"
   ]
  },
  {
   "cell_type": "code",
   "execution_count": 0,
   "id": "4b8353a1-3d1d-4314-900c-3d313405dde4",
   "metadata": {},
   "outputs": [],
   "source": [
    "%matplotlib inline"
   ]
  },
  {
   "cell_type": "code",
   "execution_count": 0,
   "id": "e65f8c93-9057-4365-9edc-cadd3ae331ed",
   "metadata": {},
   "outputs": [],
   "source": [
    "import sys\n",
    "\n",
    "# Allow load project as module\n",
    "sys.path.insert(0, '../../../..')"
   ]
  },
  {
   "cell_type": "code",
   "execution_count": 0,
   "id": "0d829e22-e1e1-4e5d-ad16-1f1e064dad7f",
   "metadata": {},
   "outputs": [],
   "source": [
    "import os\n",
    "import matplotlib.pyplot as plt\n",
    "import numpy as np\n",
    "import pandas as pd\n",
    "import h5py"
   ]
  },
  {
   "cell_type": "code",
   "execution_count": 0,
   "id": "6bc26c5a-81c4-4577-9b16-12bbd8fcaf50",
   "metadata": {},
   "outputs": [],
   "source": [
    "import matplotlib     \n",
    "matplotlib.rcParams.update({'font.size': 14})"
   ]
  },
  {
   "cell_type": "markdown",
   "id": "d0c60832-4c28-429a-b114-7b9032c7d191",
   "metadata": {},
   "source": [
    "# Load stellar model grid"
   ]
  },
  {
   "cell_type": "code",
   "execution_count": 0,
   "id": "222c3e3f-6492-41c7-974e-8bc5be0adc58",
   "metadata": {},
   "outputs": [],
   "source": [
    "from pfsspec.core.grid import ArrayGrid\n",
    "from pfsspec.stellar.grid import ModelGrid\n",
    "from pfsspec.stellar.grid.bosz import Bosz\n",
    "from pfsspec.stellar.grid.phoenix import Phoenix"
   ]
  },
  {
   "cell_type": "code",
   "execution_count": 0,
   "id": "940fb192-9208-43d8-8508-a49ab4f1acdd",
   "metadata": {},
   "outputs": [],
   "source": [
    "fn = os.path.join(GRID_PATH, 'spectra.h5')\n",
    "grid = ModelGrid(Bosz(pca=True, normalized=True), ArrayGrid)\n",
    "grid.preload_arrays = False\n",
    "grid.load(fn, format='h5')"
   ]
  },
  {
   "cell_type": "code",
   "execution_count": 0,
   "id": "7e008c4a-b3d1-4afd-b298-07d5f903dda7",
   "metadata": {},
   "outputs": [],
   "source": [
    "grid.wave"
   ]
  },
  {
   "cell_type": "code",
   "execution_count": 0,
   "id": "866a634e-8392-4564-9006-ffe14cb5e8b4",
   "metadata": {},
   "outputs": [],
   "source": [
    "axes = grid.get_axes()\n",
    "for k in axes.keys():\n",
    "    print(k, axes[k].values)"
   ]
  },
  {
   "cell_type": "code",
   "execution_count": 0,
   "id": "4679f2e5-c4b3-4db2-92e6-c1fed376efb8",
   "metadata": {},
   "outputs": [],
   "source": [
    "grid.grid.eigs.keys()"
   ]
  },
  {
   "cell_type": "markdown",
   "id": "61e9fad2-a821-4daf-9319-ca13772ce2b5",
   "metadata": {},
   "source": [
    "## Count valid spectra"
   ]
  },
  {
   "cell_type": "code",
   "execution_count": 0,
   "id": "0036e099-3062-497d-8633-90ddc30202d4",
   "metadata": {},
   "outputs": [],
   "source": [
    "grid.array_grid.value_indexes['flux'].shape, np.sum(grid.array_grid.value_indexes['flux'])"
   ]
  },
  {
   "cell_type": "markdown",
   "id": "1aa5edbc-b312-45a7-bbc0-3580197ab727",
   "metadata": {},
   "source": [
    "# Plot"
   ]
  },
  {
   "cell_type": "code",
   "execution_count": 0,
   "id": "5afc0908-2436-4d8c-bf70-d6c781a492d8",
   "metadata": {},
   "outputs": [],
   "source": [
    "M_H = 0\n",
    "T_eff = 4500\n",
    "log_g = 1\n",
    "a_M = 0\n",
    "C_M = 0\n",
    "\n",
    "idx = grid.grid.get_nearest_index(M_H=M_H, T_eff=T_eff, log_g=log_g, a_M=a_M, C_M=C_M)\n",
    "idx"
   ]
  },
  {
   "cell_type": "code",
   "execution_count": 0,
   "id": "4b5dca20-4a9b-49c4-ace9-94b7fca1c92e",
   "metadata": {},
   "outputs": [],
   "source": [
    "model = grid.get_model_at((0, 0, 0, 0, 0))\n",
    "plt.plot(model.wave, model.flux)"
   ]
  },
  {
   "cell_type": "code",
   "execution_count": 0,
   "id": "20d216f8-0ec6-4c1c-851b-e126aed4d051",
   "metadata": {},
   "outputs": [],
   "source": [
    "model = grid.get_model_at((0, 0, 0, 0, 0), denormalize=True)\n",
    "plt.plot(model.wave, model.flux)"
   ]
  },
  {
   "cell_type": "markdown",
   "id": "c62d51cd-cfec-455d-b629-1d3114601f05",
   "metadata": {},
   "source": [
    "# Plot eigenvectors"
   ]
  },
  {
   "cell_type": "code",
   "execution_count": 0,
   "id": "5cd619c3-b398-483a-9f65-a6cd61d191f8",
   "metadata": {},
   "outputs": [],
   "source": [
    "eigv = grid.grid.eigv['flux']\n",
    "eigv.shape"
   ]
  },
  {
   "cell_type": "code",
   "execution_count": 0,
   "id": "350a8cd6-bb64-4353-82a3-22aa72a9af1c",
   "metadata": {},
   "outputs": [],
   "source": [
    "for i in range(min(10, eigv.shape[-1])):\n",
    "    plt.figure()\n",
    "    plt.plot(grid.wave, eigv[:, i])\n",
    "    plt.grid()"
   ]
  },
  {
   "cell_type": "markdown",
   "id": "e951c656-6548-4864-9954-f19e0052fdd9",
   "metadata": {},
   "source": [
    "# Plot principal components"
   ]
  },
  {
   "cell_type": "code",
   "execution_count": 0,
   "id": "2d3178e3-9afb-40e7-ab07-b85d7a9fa8fe",
   "metadata": {},
   "outputs": [],
   "source": [
    "s = np.s_[:, :, :, idx[3], idx[4]]"
   ]
  },
  {
   "cell_type": "code",
   "execution_count": 0,
   "id": "00b415f7-2e9c-464f-a8e2-0d48b9297798",
   "metadata": {},
   "outputs": [],
   "source": [
    "def load_params(name):\n",
    "    params = grid.array_grid.get_value(name)\n",
    "    masks = grid.array_grid.value_indexes[name]\n",
    "        \n",
    "    return params, masks"
   ]
  },
  {
   "cell_type": "code",
   "execution_count": 0,
   "id": "42dc4ec4-156e-47a2-9092-67bc08037c99",
   "metadata": {},
   "outputs": [],
   "source": [
    "def plot_params(params, idx=2, param_idx=0):\n",
    "    pp = params.shape[idx]\n",
    "    rr = int(pp / 4 + 0.5)\n",
    "    f, axs = plt.subplots(rr, 4, figsize=(16, 4 * rr))\n",
    "    for p in range(pp):\n",
    "        i = p // 4\n",
    "        j = p % 4\n",
    "        \n",
    "        s = (params.ndim - 1) * [slice(None)]\n",
    "        s[idx] = p\n",
    "        s = tuple(s)\n",
    "        vmin, vmax = params[s][..., param_idx].min(), params[s][..., param_idx].max()\n",
    "        l = axs[i, j].imshow(params[s][..., param_idx], aspect='auto') #, vmin=vmin, vmax=vmax)\n",
    "        f.colorbar(l, ax=axs[i, j])\n",
    "        axs[i, j].set_xlabel('param: {} | slice: {}'.format(param_idx, p))"
   ]
  },
  {
   "cell_type": "code",
   "execution_count": 0,
   "id": "eafc617e-0956-4538-95c6-a93b685f2dc3",
   "metadata": {},
   "outputs": [],
   "source": [
    "params, masks = load_params('flux')\n",
    "params.shape[-1]"
   ]
  },
  {
   "cell_type": "code",
   "execution_count": 0,
   "id": "36ece5c6-ce77-43ea-8f78-38aaae860252",
   "metadata": {},
   "outputs": [],
   "source": [
    "for pi in range(min(15, params.shape[-1])):\n",
    "    plot_params(params[s], param_idx=pi)"
   ]
  },
  {
   "cell_type": "code",
   "execution_count": 0,
   "id": "bd99c045-6a3a-4e6a-a59d-b68dac48c657",
   "metadata": {},
   "outputs": [],
   "source": []
  }
 ],
 "metadata": {
  "kernelspec": {
   "display_name": "Python 3 [astro-dnn]",
   "language": "python",
   "name": "python3-astro-dnn"
  },
  "language_info": {
   "codemirror_mode": {
    "name": "ipython",
    "version": 3
   },
   "file_extension": ".py",
   "mimetype": "text/x-python",
   "name": "python",
   "nbconvert_exporter": "python",
   "pygments_lexer": "ipython3",
   "version": "3.7.6"
  }
 },
 "nbformat": 4,
 "nbformat_minor": 5
}