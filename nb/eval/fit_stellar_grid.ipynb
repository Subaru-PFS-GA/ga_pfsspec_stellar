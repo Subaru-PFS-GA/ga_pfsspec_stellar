{
 "cells": [
  {
   "cell_type": "code",
   "execution_count": 0,
   "id": "b5a2654e-609d-46bc-acc2-1a97ba991832",
   "metadata": {},
   "outputs": [],
   "source": [
    "#GRID_PATH = '/datascope/subaru/data/pfsspec/models/stellar/rbf/bosz/bosz_50000_GK/fit'\n",
    "\n",
    "GRID_PATH = '/datascope/subaru/data/pfsspec/models/stellar/grid/phoenix/phoenix_HiRes'\n",
    "FIT_GRID_PATH = '/datascope/subaru/data/pfsspec/models/stellar/rbf/phoenix/phoenix_HiRes_GK/fit'"
   ]
  },
  {
   "cell_type": "code",
   "execution_count": 0,
   "id": "4b8353a1-3d1d-4314-900c-3d313405dde4",
   "metadata": {},
   "outputs": [],
   "source": [
    "%matplotlib inline"
   ]
  },
  {
   "cell_type": "code",
   "execution_count": 0,
   "id": "e65f8c93-9057-4365-9edc-cadd3ae331ed",
   "metadata": {},
   "outputs": [],
   "source": [
    "import sys\n",
    "\n",
    "# Allow load project as module\n",
    "sys.path.insert(0, '../../../..')"
   ]
  },
  {
   "cell_type": "code",
   "execution_count": 0,
   "id": "0d829e22-e1e1-4e5d-ad16-1f1e064dad7f",
   "metadata": {},
   "outputs": [],
   "source": [
    "import os\n",
    "import matplotlib.pyplot as plt\n",
    "import numpy as np\n",
    "import pandas as pd\n",
    "import h5py"
   ]
  },
  {
   "cell_type": "code",
   "execution_count": 0,
   "id": "6bc26c5a-81c4-4577-9b16-12bbd8fcaf50",
   "metadata": {},
   "outputs": [],
   "source": [
    "import matplotlib     \n",
    "matplotlib.rcParams.update({'font.size': 14})"
   ]
  },
  {
   "cell_type": "markdown",
   "id": "d0c60832-4c28-429a-b114-7b9032c7d191",
   "metadata": {},
   "source": [
    "# Load stellar model grid"
   ]
  },
  {
   "cell_type": "code",
   "execution_count": 0,
   "id": "222c3e3f-6492-41c7-974e-8bc5be0adc58",
   "metadata": {},
   "outputs": [],
   "source": [
    "from pfs.ga.pfsspec.core.grid import ArrayGrid\n",
    "from pfs.ga.pfsspec.stellar.grid import ModelGrid\n",
    "from pfs.ga.pfsspec.stellar.grid.bosz import Bosz\n",
    "from pfs.ga.pfsspec.stellar.grid.phoenix import Phoenix"
   ]
  },
  {
   "cell_type": "code",
   "execution_count": 0,
   "id": "940fb192-9208-43d8-8508-a49ab4f1acdd",
   "metadata": {},
   "outputs": [],
   "source": [
    "fn = os.path.join(GRID_PATH, 'spectra.h5')\n",
    "#grid = ModelGrid(Bosz(normalized=False), ArrayGrid)\n",
    "grid = ModelGrid(Phoenix(normalized=False), ArrayGrid)\n",
    "grid.preload_arrays = False\n",
    "grid.load(fn, format='h5')"
   ]
  },
  {
   "cell_type": "code",
   "execution_count": 0,
   "id": "a50788a5-9761-4279-9f31-6c697b84c015",
   "metadata": {},
   "outputs": [],
   "source": [
    "fn = os.path.join(FIT_GRID_PATH, 'spectra.h5')\n",
    "#fit_grid = ModelGrid(Bosz(normalized=False), ArrayGrid)\n",
    "fit_grid = ModelGrid(Phoenix(normalized=True), ArrayGrid)\n",
    "fit_grid.preload_arrays = False\n",
    "fit_grid.load(fn, format='h5')"
   ]
  },
  {
   "cell_type": "code",
   "execution_count": 0,
   "id": "7e008c4a-b3d1-4afd-b298-07d5f903dda7",
   "metadata": {},
   "outputs": [],
   "source": [
    "grid.wave, fit_grid.wave"
   ]
  },
  {
   "cell_type": "code",
   "execution_count": 0,
   "id": "866a634e-8392-4564-9006-ffe14cb5e8b4",
   "metadata": {},
   "outputs": [],
   "source": [
    "for i, k, ax in grid.enumerate_axes():\n",
    "    print(k, ax.values)"
   ]
  },
  {
   "cell_type": "code",
   "execution_count": 0,
   "id": "5fc73100-4e51-4ef7-b950-b7e4f8e29fb8",
   "metadata": {},
   "outputs": [],
   "source": [
    "for i, k, ax in fit_grid.enumerate_axes():\n",
    "    print(k, ax.values)"
   ]
  },
  {
   "cell_type": "code",
   "execution_count": 0,
   "id": "4679f2e5-c4b3-4db2-92e6-c1fed376efb8",
   "metadata": {},
   "outputs": [],
   "source": [
    "grid.grid.values.keys(), fit_grid.grid.values.keys()"
   ]
  },
  {
   "cell_type": "markdown",
   "id": "61e9fad2-a821-4daf-9319-ca13772ce2b5",
   "metadata": {
    "tags": []
   },
   "source": [
    "## Count valid spectra"
   ]
  },
  {
   "cell_type": "code",
   "execution_count": 0,
   "id": "0036e099-3062-497d-8633-90ddc30202d4",
   "metadata": {},
   "outputs": [],
   "source": [
    "for k in grid.grid.value_indexes.keys():\n",
    "    print(k, grid.grid.value_indexes[k].shape, np.sum(grid.grid.value_indexes[k]))"
   ]
  },
  {
   "cell_type": "code",
   "execution_count": 0,
   "id": "10b478cb-50b0-415c-9e16-0662b220eca0",
   "metadata": {},
   "outputs": [],
   "source": [
    "for k in fit_grid.grid.value_indexes.keys():\n",
    "    print(k, fit_grid.grid.value_indexes[k].shape, np.sum(fit_grid.grid.value_indexes[k]))"
   ]
  },
  {
   "cell_type": "markdown",
   "id": "1aa5edbc-b312-45a7-bbc0-3580197ab727",
   "metadata": {},
   "source": [
    "# Plot"
   ]
  },
  {
   "cell_type": "code",
   "execution_count": 0,
   "id": "38fc363e-c725-4596-8d93-660f61d16877",
   "metadata": {},
   "outputs": [],
   "source": [
    "for _, k, ax in fit_grid.enumerate_axes():\n",
    "    print(k, ax.values)"
   ]
  },
  {
   "cell_type": "code",
   "execution_count": 0,
   "id": "5afc0908-2436-4d8c-bf70-d6c781a492d8",
   "metadata": {},
   "outputs": [],
   "source": [
    "# M_H = -0.5\n",
    "# T_eff = 4500\n",
    "# log_g = 1\n",
    "# a_M = 0\n",
    "# C_M = 0\n",
    "\n",
    "M_H = 0\n",
    "T_eff = 4500\n",
    "log_g = 1\n",
    "a_M = 0\n",
    "C_M = 0"
   ]
  },
  {
   "cell_type": "code",
   "execution_count": 0,
   "id": "03d22498-a1a4-4f02-ac0a-ce5c392e69d9",
   "metadata": {},
   "outputs": [],
   "source": [
    "idx = grid.grid.get_nearest_index(M_H=M_H, T_eff=T_eff, log_g=log_g, a_M=a_M, C_M=C_M)\n",
    "idx"
   ]
  },
  {
   "cell_type": "code",
   "execution_count": 0,
   "id": "a1534603-533b-439d-ad19-44867600c99c",
   "metadata": {},
   "outputs": [],
   "source": [
    "fit_idx = fit_grid.grid.get_nearest_index(M_H=M_H, T_eff=T_eff, log_g=log_g, a_M=a_M, C_M=C_M)\n",
    "fit_idx"
   ]
  },
  {
   "cell_type": "code",
   "execution_count": 0,
   "id": "76fe85ca-ad70-4a60-b5c9-64d378af5609",
   "metadata": {},
   "outputs": [],
   "source": [
    "model = grid.get_model_at(idx)\n",
    "\n",
    "fit_params = fit_grid.get_continuum_parameters_at(fit_idx)\n",
    "fit_wave, fit_cont = fit_grid.continuum_model.eval(fit_params)"
   ]
  },
  {
   "cell_type": "code",
   "execution_count": 0,
   "id": "a4d27e58-b4e0-4f39-94a4-08b51b662f16",
   "metadata": {},
   "outputs": [],
   "source": [
    "plt.plot(model.wave, model.flux)\n",
    "plt.plot(fit_wave, fit_cont)"
   ]
  },
  {
   "cell_type": "code",
   "execution_count": 0,
   "id": "d89487bd-c8eb-4324-97dc-75544fd6afbe",
   "metadata": {},
   "outputs": [],
   "source": [
    "plt.plot(model.wave, model.flux)\n",
    "plt.plot(fit_wave, fit_cont)\n",
    "plt.xlim(3000, 4000)"
   ]
  },
  {
   "cell_type": "code",
   "execution_count": 0,
   "id": "326ec571-9c3a-4073-abea-dda94325bcb8",
   "metadata": {},
   "outputs": [],
   "source": [
    "plt.plot(model.wave, model.flux)\n",
    "plt.plot(fit_wave, fit_cont)\n",
    "plt.xlim(3600, 3800)"
   ]
  },
  {
   "cell_type": "code",
   "execution_count": 0,
   "id": "2d3178e3-9afb-40e7-ab07-b85d7a9fa8fe",
   "metadata": {},
   "outputs": [],
   "source": [
    "s = np.s_[:, :, :, idx[3]]\n",
    "#s = np.s_[:, :, :, idx[3], idx[4]]"
   ]
  },
  {
   "cell_type": "code",
   "execution_count": 0,
   "id": "00b415f7-2e9c-464f-a8e2-0d48b9297798",
   "metadata": {},
   "outputs": [],
   "source": [
    "def load_params(name):\n",
    "    fit_params = grid.grid.get_value(name)\n",
    "    masks = grid.grid.value_indexes[name]\n",
    "        \n",
    "    return fit_params, masks"
   ]
  },
  {
   "cell_type": "code",
   "execution_count": 0,
   "id": "42dc4ec4-156e-47a2-9092-67bc08037c99",
   "metadata": {},
   "outputs": [],
   "source": [
    "def plot_params(fit_params, idx=2, param_idx=0):\n",
    "    pp = fit_params.shape[idx]\n",
    "    rr = int(np.ceil(pp / 4 + 0.5))\n",
    "    f, axs = plt.subplots(rr, 4, figsize=(16, 4 * rr))\n",
    "    for p in range(pp):\n",
    "        i = p // 4\n",
    "        j = p % 4\n",
    "        \n",
    "        s = (fit_params.ndim - 1) * [slice(None)]\n",
    "        s[idx] = p\n",
    "        s = tuple(s)\n",
    "        vmin, vmax = fit_params[s][..., param_idx].min(), fit_params[s][..., param_idx].max()\n",
    "        l = axs[i, j].imshow(fit_params[s][..., param_idx], aspect='auto', vmin=vmin, vmax=vmax)\n",
    "        f.colorbar(l, ax=axs[i, j])\n",
    "        axs[i, j].set_xlabel('param: {} | slice: {}'.format(param_idx, p))\n",
    "        \n",
    "        axs[i, j].set_xlim(-0.5, 10.5)"
   ]
  },
  {
   "cell_type": "code",
   "execution_count": 0,
   "id": "eafc617e-0956-4538-95c6-a93b685f2dc3",
   "metadata": {},
   "outputs": [],
   "source": [
    "pi=0\n",
    "fit_params, masks = load_params('blended_1')\n",
    "fit_params[~masks] = np.nan\n",
    "for pi in range(fit_params.shape[-1]):\n",
    "    plot_params(fit_params[s], param_idx=pi)"
   ]
  },
  {
   "cell_type": "code",
   "execution_count": 0,
   "id": "36ece5c6-ce77-43ea-8f78-38aaae860252",
   "metadata": {},
   "outputs": [],
   "source": []
  }
 ],
 "metadata": {
  "kernelspec": {
   "display_name": "Python 3 [astro-dnn]",
   "language": "python",
   "name": "python3-astro-dnn"
  },
  "language_info": {
   "codemirror_mode": {
    "name": "ipython",
    "version": 3
   },
   "file_extension": ".py",
   "mimetype": "text/x-python",
   "name": "python",
   "nbconvert_exporter": "python",
   "pygments_lexer": "ipython3",
   "version": "3.7.6"
  }
 },
 "nbformat": 4,
 "nbformat_minor": 5
}