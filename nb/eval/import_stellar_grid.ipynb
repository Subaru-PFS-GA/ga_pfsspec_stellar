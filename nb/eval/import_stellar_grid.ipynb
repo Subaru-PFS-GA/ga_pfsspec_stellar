{
 "cells": [
  {
   "cell_type": "code",
   "execution_count": 0,
   "id": "d502a07a-5963-45c7-9e2a-a259e665afd1",
   "metadata": {},
   "outputs": [],
   "source": [
    "GRID_PATH = '/datascope/subaru/data/pfsspec/models/stellar/grid/phoenix/phoenix_HiRes_full'"
   ]
  },
  {
   "cell_type": "code",
   "execution_count": 0,
   "id": "acc8f037-bdff-492b-8a1f-e2041eb97ce8",
   "metadata": {},
   "outputs": [],
   "source": [
    "%matplotlib inline"
   ]
  },
  {
   "cell_type": "code",
   "execution_count": 0,
   "id": "b6edbd73-8475-49fd-8652-6b9722a5bf21",
   "metadata": {},
   "outputs": [],
   "source": [
    "import sys\n",
    "\n",
    "# Allow load project as module\n",
    "sys.path.insert(0, '../../../..')"
   ]
  },
  {
   "cell_type": "code",
   "execution_count": 0,
   "id": "b15b3468-61a4-4b93-a198-5622e97b7caf",
   "metadata": {},
   "outputs": [],
   "source": [
    "import os\n",
    "import matplotlib.pyplot as plt\n",
    "import numpy as np\n",
    "import pandas as pd\n",
    "import h5py"
   ]
  },
  {
   "cell_type": "code",
   "execution_count": 0,
   "id": "b11eff3b-f197-495d-b464-951dd146e3c1",
   "metadata": {},
   "outputs": [],
   "source": [
    "import matplotlib     \n",
    "matplotlib.rcParams.update({'font.size': 14})"
   ]
  },
  {
   "cell_type": "markdown",
   "id": "be90db98-efa3-482f-a1da-58305cd097a6",
   "metadata": {},
   "source": [
    "# Load stellar model grid"
   ]
  },
  {
   "cell_type": "code",
   "execution_count": 0,
   "id": "222c3e3f-6492-41c7-974e-8bc5be0adc58",
   "metadata": {},
   "outputs": [],
   "source": [
    "from pfsspec.core.grid import ArrayGrid\n",
    "from pfsspec.stellar.grid import ModelGrid\n",
    "from pfsspec.stellar.grid.bosz import Bosz\n",
    "from pfsspec.stellar.grid.phoenix import Phoenix"
   ]
  },
  {
   "cell_type": "code",
   "execution_count": 0,
   "id": "940fb192-9208-43d8-8508-a49ab4f1acdd",
   "metadata": {},
   "outputs": [],
   "source": [
    "fn = os.path.join(GRID_PATH, 'spectra.h5')\n",
    "grid = ModelGrid(Phoenix(), ArrayGrid)\n",
    "grid.preload_arrays = False\n",
    "grid.load(fn, format='h5')"
   ]
  },
  {
   "cell_type": "code",
   "execution_count": 0,
   "id": "7e008c4a-b3d1-4afd-b298-07d5f903dda7",
   "metadata": {},
   "outputs": [],
   "source": [
    "grid.wave"
   ]
  },
  {
   "cell_type": "code",
   "execution_count": 0,
   "id": "20c5e802-5f26-42be-beca-9ce432af0d57",
   "metadata": {},
   "outputs": [],
   "source": [
    "for k in grid.grid.axes.keys():\n",
    "    print(k, grid.grid.axes[k].values)"
   ]
  },
  {
   "cell_type": "code",
   "execution_count": 0,
   "id": "b81aaef9-efff-4b58-ad61-4e39b2900189",
   "metadata": {},
   "outputs": [],
   "source": [
    "grid.grid.values.keys()"
   ]
  },
  {
   "cell_type": "markdown",
   "id": "007eb936-d78f-4d66-90df-13989ac03579",
   "metadata": {
    "tags": []
   },
   "source": [
    "## Count valid spectra"
   ]
  },
  {
   "cell_type": "code",
   "execution_count": 0,
   "id": "dd701f92-7daa-44c0-84bd-ce061044eb7f",
   "metadata": {
    "tags": []
   },
   "outputs": [],
   "source": [
    "for k in grid.grid.value_indexes.keys():\n",
    "    print(grid.grid.value_indexes[k].shape, np.sum(grid.grid.value_indexes[k]))"
   ]
  },
  {
   "cell_type": "markdown",
   "id": "50dd77d8-3e2e-4726-a54b-a84a0cbf6712",
   "metadata": {},
   "source": [
    "# Plot grid coverage"
   ]
  },
  {
   "cell_type": "code",
   "execution_count": 0,
   "id": "6b96dd0c-07ef-4cdf-814e-acae15c9c35f",
   "metadata": {},
   "outputs": [],
   "source": [
    "grid.grid.value_indexes['flux'].size, grid.grid.value_indexes['flux'].sum()"
   ]
  },
  {
   "cell_type": "code",
   "execution_count": 0,
   "id": "c2ba1239-fbd9-42ce-ae8b-7765f1e86259",
   "metadata": {},
   "outputs": [],
   "source": [
    "for i, k, a in grid.enumerate_axes():\n",
    "    print(k, a.values.shape)"
   ]
  },
  {
   "cell_type": "code",
   "execution_count": 0,
   "id": "acc210c8-17bd-4e37-a91c-ec31574f61b7",
   "metadata": {},
   "outputs": [],
   "source": [
    "axes = { k: a for i, k, a in grid.enumerate_axes() }"
   ]
  },
  {
   "cell_type": "code",
   "execution_count": 0,
   "id": "2bff40f4-cf25-4511-8930-7a05f9054079",
   "metadata": {},
   "outputs": [],
   "source": [
    "if 'Fe_H' in axes:\n",
    "    m_h = 'Fe_H'\n",
    "elif 'M_H' in axes:\n",
    "    m_h = 'M_H'\n",
    "else:\n",
    "    raise NotImplementedError()"
   ]
  },
  {
   "cell_type": "code",
   "execution_count": 0,
   "id": "8bec74ae-421d-4dd6-9604-5ca985f50b16",
   "metadata": {},
   "outputs": [],
   "source": [
    "g = np.meshgrid(np.arange(axes[m_h].values.shape[0]), np.arange(axes['T_eff'].values.shape[0]), indexing='ij')\n",
    "g[0].shape, g[1].shape"
   ]
  },
  {
   "cell_type": "code",
   "execution_count": 0,
   "id": "b21a1889-d178-4c77-ba97-80020096a7ff",
   "metadata": {},
   "outputs": [],
   "source": [
    "for i in range(axes['log_g'].values.shape[0]):\n",
    "    f, ax = plt.subplots(1, 1, figsize=(4, 4), squeeze=True)\n",
    "    #idx = grid.grid.value_indexes['flux'][:, :, i, 0, 0]\n",
    "    idx = grid.grid.value_indexes['flux'][:, :, i, 2]\n",
    "    #ax.plot(idx[g[0]].flatten())\n",
    "    ax.scatter(axes[m_h].values[g[0].flatten()], axes['T_eff'].values[g[1].flatten()], c=idx[g[0].flatten(), g[1].flatten()])\n",
    "    ax.set_xlabel(r'[{}]'.format(m_h))\n",
    "    ax.set_ylabel(r'$T_\\mathrm{eff}$')\n",
    "    f.suptitle('log g = {}'.format(axes['log_g'].values[i]))"
   ]
  },
  {
   "cell_type": "markdown",
   "id": "ac4dc5c0-48c5-4837-8005-82fab2ee018f",
   "metadata": {},
   "source": [
    "# Plot some nice spectra"
   ]
  },
  {
   "cell_type": "code",
   "execution_count": 0,
   "id": "0006cb7f-d336-406f-bf83-f80e52528cdc",
   "metadata": {},
   "outputs": [],
   "source": [
    "grid.grid.get_nearest_index(M_H=-1.5, T_eff=5000, log_g=1.5, a_M=0.0, C_M=0.0)"
   ]
  },
  {
   "cell_type": "code",
   "execution_count": 0,
   "id": "df3e2363-4598-47cd-917b-e37b0d10c387",
   "metadata": {},
   "outputs": [],
   "source": [
    "model = grid.get_nearest_model(M_H=-1.5, T_eff=5000, log_g=1.5, a_M=0.0, C_M=0.0)\n",
    "#model = grid.get_nearest_model(Fe_H=-1.5, T_eff=5000, log_g=1.5, a_M=0.0)"
   ]
  },
  {
   "cell_type": "code",
   "execution_count": 0,
   "id": "b8260385-24e2-4e91-a91e-c08868adf035",
   "metadata": {},
   "outputs": [],
   "source": [
    "plt.plot(model.wave, model.flux)\n",
    "plt.plot(model.wave, model.cont)"
   ]
  },
  {
   "cell_type": "code",
   "execution_count": 0,
   "id": "cf3814aa-cf88-4637-a637-9d5317258483",
   "metadata": {},
   "outputs": [],
   "source": [
    "plt.plot(0.5 * (model.wave[1:] + model.wave[:-1]), model.wave[1:] - model.wave[:-1])"
   ]
  },
  {
   "cell_type": "code",
   "execution_count": 0,
   "id": "5a6f6eb6-4b84-473c-93ec-a66d6c1219c9",
   "metadata": {},
   "outputs": [],
   "source": []
  },
  {
   "cell_type": "code",
   "execution_count": 0,
   "id": "305484ba-eba3-4a4a-b3db-e83693141654",
   "metadata": {},
   "outputs": [],
   "source": []
  }
 ],
 "metadata": {
  "kernelspec": {
   "display_name": "Python 3 [astro-dnn]",
   "language": "python",
   "name": "python3-astro-dnn"
  },
  "language_info": {
   "codemirror_mode": {
    "name": "ipython",
    "version": 3
   },
   "file_extension": ".py",
   "mimetype": "text/x-python",
   "name": "python",
   "nbconvert_exporter": "python",
   "pygments_lexer": "ipython3",
   "version": "3.7.6"
  }
 },
 "nbformat": 4,
 "nbformat_minor": 5
}