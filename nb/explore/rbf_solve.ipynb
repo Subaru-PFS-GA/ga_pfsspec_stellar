{
 "cells": [
  {
   "cell_type": "code",
   "execution_count": 0,
   "id": "fc841e50-28ae-44a0-94ea-bbefbc3433b8",
   "metadata": {},
   "outputs": [],
   "source": [
    "PATH = '/datascope/subaru/data/pfsspec/models/stellar/rbf/bosz/bosz_5000_full_3/fit-rbf_5'"
   ]
  },
  {
   "cell_type": "code",
   "execution_count": 0,
   "id": "ae6ee1f1-46fc-4a14-9ec9-417b8954db1d",
   "metadata": {},
   "outputs": [],
   "source": [
    "import os\n",
    "import numpy as np\n",
    "import scipy.linalg\n",
    "from scipy.sparse import csc_matrix\n",
    "from scipy.sparse.linalg import spsolve\n",
    "import matplotlib.pyplot as plt\n",
    "import h5py"
   ]
  },
  {
   "cell_type": "code",
   "execution_count": 0,
   "id": "4a323c24-e2f6-4627-b17f-2ee7f6ed2d55",
   "metadata": {},
   "outputs": [],
   "source": [
    "fn = os.path.join(PATH, 'rbf_debug.h5')\n",
    "with h5py.File(fn, 'r') as f:\n",
    "    A = f['legendre']['A'][()]\n",
    "    b = f['legendre']['di'][()]\n",
    "    \n",
    "    \n",
    "    \n",
    "#A[np.abs(A) <= 1e-3] = 0"
   ]
  },
  {
   "cell_type": "code",
   "execution_count": 0,
   "id": "a5767212-2f6e-41a7-9a61-4ab865a8d139",
   "metadata": {},
   "outputs": [],
   "source": [
    "A.shape, b.shape"
   ]
  },
  {
   "cell_type": "code",
   "execution_count": 0,
   "id": "9a7a1272-09b2-45d4-b9d3-7589ab743868",
   "metadata": {},
   "outputs": [],
   "source": [
    "f, ax = plt.subplots(1, 1, figsize=(10, 8), dpi=120)\n",
    "\n",
    "l = ax.imshow(np.log(A))\n",
    "f.colorbar(l)"
   ]
  },
  {
   "cell_type": "code",
   "execution_count": 0,
   "id": "3cd1a605-38fc-4dcd-b0db-d3625d3bc70d",
   "metadata": {},
   "outputs": [],
   "source": [
    "%%time\n",
    "scipy.linalg.solve(A, b, assume_a='sym')"
   ]
  },
  {
   "cell_type": "code",
   "execution_count": 0,
   "id": "c71ee3c1-f0bb-4529-b2c6-e0ce94d8200d",
   "metadata": {},
   "outputs": [],
   "source": [
    "%%time\n",
    "scipy.linalg.solve(np.where(np.abs(A) < 1e-3, 0, A), b, assume_a='sym')"
   ]
  },
  {
   "cell_type": "code",
   "execution_count": 0,
   "id": "3104d553-8866-4ae5-9998-04eaace478b9",
   "metadata": {},
   "outputs": [],
   "source": [
    "csc_matrix(np.where(np.abs(A) < 1e-3, 0, A))"
   ]
  },
  {
   "cell_type": "code",
   "execution_count": 0,
   "id": "39cc2c8d-f837-4556-9822-0c202158848e",
   "metadata": {},
   "outputs": [],
   "source": [
    "%%time\n",
    "spsolve(csc_matrix(np.where(np.abs(A) < 1e-3, 0, A)), b)"
   ]
  },
  {
   "cell_type": "code",
   "execution_count": 0,
   "id": "16f5d5a0-cf24-4dac-9ccd-05119ef97a42",
   "metadata": {},
   "outputs": [],
   "source": []
  }
 ],
 "metadata": {
  "kernelspec": {
   "display_name": "Python 3 [astro-dnn]",
   "language": "python",
   "name": "python3-astro-dnn"
  },
  "language_info": {
   "codemirror_mode": {
    "name": "ipython",
    "version": 3
   },
   "file_extension": ".py",
   "mimetype": "text/x-python",
   "name": "python",
   "nbconvert_exporter": "python",
   "pygments_lexer": "ipython3",
   "version": "3.7.6"
  }
 },
 "nbformat": 4,
 "nbformat_minor": 5
}