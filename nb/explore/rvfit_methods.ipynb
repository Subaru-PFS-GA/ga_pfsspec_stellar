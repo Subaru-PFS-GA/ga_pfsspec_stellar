{
 "cells": [
  {
   "cell_type": "code",
   "execution_count": 0,
   "metadata": {},
   "outputs": [],
   "source": [
    "PROJECT_PATH = '/home/dobos/project/ga_isochrones/python:' + \\\n",
    "    '/home/dobos/project/ga_pfsspec_all/python:' + \\\n",
    "    '/home/dobos/project/pysynphot'\n",
    "\n",
    "GRID_PATH = '/datascope/subaru/data/pfsspec/models/stellar/grid/phoenix/phoenix_HiRes'\n",
    "FILTER_PATH = '/datascope/subaru/data/pfsspec/subaru/hsc/filters/fHSC-g.txt'\n",
    "\n",
    "ARMS = [ 'b', 'r', 'mr', 'n' ]\n",
    "FIT_ARMS = [ 'b', 'mr', 'n' ]\n",
    "\n",
    "DETECTOR_PATH = '/datascope/subaru/data/pfsspec/subaru/pfs/arms/{}.json'\n",
    "DETECTORMAP_PATH = '/datascope/subaru/data/pfsspec/drp_pfs_data/detectorMap/detectorMap-sim-{}1.fits'\n",
    "PSF_PATH = '/datascope/subaru/data/pfsspec/subaru/pfs/psf/import/{}.2'\n",
    "SKY_PATH = '/datascope/subaru/data/pfsspec/subaru/pfs/noise/import/sky.see/{}/sky.h5'\n",
    "MOON_PATH = '/datascope/subaru/data/pfsspec/subaru/pfs/noise/import/moon/{}/moon.h5'"
   ]
  },
  {
   "cell_type": "code",
   "execution_count": 0,
   "metadata": {},
   "outputs": [],
   "source": [
    "import os\n",
    "import sys\n",
    "import logging\n",
    "import numpy as np\n",
    "import pandas as pd\n",
    "import matplotlib as mpl\n",
    "import matplotlib.pyplot as plt\n",
    "from matplotlib.ticker import AutoMinorLocator, MultipleLocator\n",
    "from scipy.interpolate import interp1d\n",
    "import h5py as h5\n",
    "from tqdm.notebook import trange, tqdm\n",
    "from collections.abc import Iterable\n",
    "import pickle"
   ]
  },
  {
   "cell_type": "code",
   "execution_count": 0,
   "metadata": {},
   "outputs": [],
   "source": [
    "plt.rc('font', size=7)"
   ]
  },
  {
   "cell_type": "code",
   "execution_count": 0,
   "metadata": {},
   "outputs": [],
   "source": [
    "# Allow load project as module\n",
    "for p in reversed(PROJECT_PATH.split(':')):\n",
    "    sys.path.insert(0, p)\n",
    "\n",
    "os.environ['PYTHONPATH'] = PROJECT_PATH.split(':')[0]"
   ]
  },
  {
   "cell_type": "code",
   "execution_count": 0,
   "metadata": {},
   "outputs": [],
   "source": [
    "os.environ['PYTHONPATH']"
   ]
  },
  {
   "cell_type": "code",
   "execution_count": 0,
   "metadata": {},
   "outputs": [],
   "source": [
    "# if 'debugpy' not in sys.modules:\n",
    "#     import debugpy\n",
    "#     debugpy.listen((\"localhost\", 5683))"
   ]
  },
  {
   "cell_type": "code",
   "execution_count": 0,
   "metadata": {},
   "outputs": [],
   "source": [
    "%load_ext autoreload"
   ]
  },
  {
   "cell_type": "code",
   "execution_count": 0,
   "metadata": {},
   "outputs": [],
   "source": [
    "%autoreload 2"
   ]
  },
  {
   "cell_type": "markdown",
   "metadata": {},
   "source": [
    "# Radial velocity fit with different methods"
   ]
  },
  {
   "cell_type": "markdown",
   "metadata": {},
   "source": [
    "## Load model grid"
   ]
  },
  {
   "cell_type": "code",
   "execution_count": 0,
   "metadata": {},
   "outputs": [],
   "source": [
    "from pfs.ga.pfsspec.core.grid import ArrayGrid\n",
    "from pfs.ga.pfsspec.stellar.grid import ModelGrid\n",
    "from pfs.ga.pfsspec.stellar.grid.bosz import Bosz\n",
    "from pfs.ga.pfsspec.stellar.grid.phoenix import Phoenix"
   ]
  },
  {
   "cell_type": "code",
   "execution_count": 0,
   "metadata": {},
   "outputs": [],
   "source": [
    "fn = os.path.join(GRID_PATH, 'spectra.h5')\n",
    "grid = ModelGrid(Phoenix(), ArrayGrid)\n",
    "grid.preload_arrays = False\n",
    "grid.load(fn, format='h5')"
   ]
  },
  {
   "cell_type": "code",
   "execution_count": 0,
   "metadata": {},
   "outputs": [],
   "source": [
    "model = grid.get_model(M_H=-0.5, T_eff=5500, log_g=4.5, a_M=0.0)\n",
    "\n",
    "# model = grid.get_model(M_H=-0.5, T_eff=6000, log_g=4.5, a_M=0.0)\n",
    "\n",
    "model.M_H, model.T_eff, model.log_g, model.a_M"
   ]
  },
  {
   "cell_type": "code",
   "execution_count": 0,
   "metadata": {},
   "outputs": [],
   "source": [
    "f, ax = plt.subplots(1, 1, figsize=(3.4, 2.5), dpi=240)\n",
    "\n",
    "ax.plot(model.wave, model.flux, lw=0.3)"
   ]
  },
  {
   "cell_type": "markdown",
   "metadata": {},
   "source": [
    "## Load detector PSF"
   ]
  },
  {
   "cell_type": "code",
   "execution_count": 0,
   "metadata": {},
   "outputs": [],
   "source": [
    "from pfs.ga.pfsspec.core.obsmod.psf import GaussPsf, PcaPsf"
   ]
  },
  {
   "cell_type": "code",
   "execution_count": 0,
   "metadata": {},
   "outputs": [],
   "source": [
    "gauss_psf = {}\n",
    "pca_psf = {}\n",
    "template_psf = {}\n",
    "\n",
    "for arm in ARMS:\n",
    "    gauss_psf[arm] = GaussPsf()\n",
    "    gauss_psf[arm].load(os.path.join(PSF_PATH.format(arm), 'gauss.h5'))\n",
    "\n",
    "    # print(f'mean pixel size for arm {arm}', np.diff(detector[arm].get_wave()[0]).mean())\n",
    "    # print(f'mean sigma and FWHM for arm {arm}', gauss_psf[arm].sigma.mean(), 2.355 * gauss_psf[arm].sigma.mean())\n",
    "\n",
    "    s = gauss_psf[arm].get_optimal_size(grid.wave)\n",
    "    # print(f'optimal kernel size for arm {arm}:', s)\n",
    "\n",
    "    pca_psf[arm] = PcaPsf()\n",
    "    pca_psf[arm].load(os.path.join(PSF_PATH.format(arm), 'pca.h5'))\n",
    "\n",
    "    template_psf[arm] = PcaPsf.from_psf(gauss_psf[arm], grid.wave, size=s, truncate=5)\n",
    "    # print(grid.wave.shape, \n",
    "    #     template_psf[arm].wave.shape, template_psf[arm].dwave.shape, template_psf[arm].pc.shape)"
   ]
  },
  {
   "cell_type": "markdown",
   "metadata": {},
   "source": [
    "## Generate downgraded template"
   ]
  },
  {
   "cell_type": "code",
   "execution_count": 0,
   "metadata": {},
   "outputs": [],
   "source": [
    "def get_model():\n",
    "    # model = grid.get_model(M_H=-0.5, T_eff=5500, log_g=4.5, a_M=0.0)\n",
    "    model = grid.get_model(M_H=-0.5, T_eff=5500, log_g=4.5, a_M=0.0)\n",
    "    model = grid.get_model(M_H=-1.5, T_eff=5000, log_g=3.0, a_M=0.0)\n",
    "    model.convolve_psf(gauss_psf['mr'])\n",
    "    return model"
   ]
  },
  {
   "cell_type": "code",
   "execution_count": 0,
   "metadata": {},
   "outputs": [],
   "source": [
    "model = get_model()\n",
    "\n",
    "f, ax = plt.subplots(1, 1, figsize=(3.4, 2.5), dpi=240)\n",
    "ax.plot(model.wave, model.flux, lw=0.3)\n",
    "ax.set_xlim(6000, 6050)"
   ]
  },
  {
   "cell_type": "markdown",
   "metadata": {},
   "source": [
    "## Load observation"
   ]
  },
  {
   "cell_type": "code",
   "execution_count": 0,
   "metadata": {},
   "outputs": [],
   "source": [
    "from pfs.ga.pfsspec.stellar import StellarSpectrum\n",
    "from pfs.ga.pfsspec.sim.obsmod.calibration import FluxCalibrationBias\n",
    "\n",
    "def get_spec(noise=1.0, calib_bias=None):\n",
    "    #fn = '/datascope/subaru/user/dobos/data/pfsspec/snr/MW_disk_MS_G_0.0_5_0.5_mr_23.0.txt'\n",
    "    fn = '/datascope/subaru/user/dobos/data/pfsspec/snr/dSph_RGB_0.0_5_0.5_mr_23.0.txt'\n",
    "    df = pd.read_csv(fn, header=None, names=['wave', 'flux', 'flux_err'], delimiter='\\s+')\n",
    "\n",
    "    spec = StellarSpectrum()\n",
    "    spec.wave = np.array(df['wave'])\n",
    "    spec.flux = np.array(df['flux'])\n",
    "    spec.flux_err = np.array(df['flux_err'])\n",
    "\n",
    "    spec.flux = spec.flux + noise * spec.flux_err * np.random.normal(size=spec.wave.shape)\n",
    "\n",
    "    if calib_bias:\n",
    "        bias = FluxCalibrationBias(reuse_bias=True)\n",
    "        bias.amplitude = calib_bias\n",
    "        bias.apply_calibration(spec)\n",
    "    else:\n",
    "        bias = None\n",
    "\n",
    "    return spec, bias"
   ]
  },
  {
   "cell_type": "code",
   "execution_count": 0,
   "metadata": {},
   "outputs": [],
   "source": [
    "spec, bias = get_spec(calib_bias=0.05)"
   ]
  },
  {
   "cell_type": "code",
   "execution_count": 0,
   "metadata": {},
   "outputs": [],
   "source": [
    "f, ax = plt.subplots(1, 1, figsize=(3.4, 2.5), dpi=240)\n",
    "\n",
    "ax.plot(spec.wave, spec.flux, lw=0.3)\n",
    "ax.plot(spec.wave, spec.flux_err, lw=0.3)"
   ]
  },
  {
   "cell_type": "code",
   "execution_count": 0,
   "metadata": {},
   "outputs": [],
   "source": [
    "from pfs.ga.pfsspec.core.obsmod.resampling import FluxConservingResampler\n",
    "\n",
    "model = grid.get_model(M_H=-0.5, T_eff=5500, log_g=4.5, a_M=0.0)\n",
    "model.convolve_psf(gauss_psf['mr'])\n",
    "model.apply_resampler(FluxConservingResampler(), spec.wave, None)"
   ]
  },
  {
   "cell_type": "code",
   "execution_count": 0,
   "metadata": {},
   "outputs": [],
   "source": [
    "f, ax = plt.subplots(1, 1, figsize=(3.4, 2.5), dpi=240)\n",
    "\n",
    "ax.plot(spec.wave, spec.flux, lw=0.3)\n",
    "ax.plot(model.wave, model.flux * 0.45e-32, lw=0.3)\n",
    "\n",
    "ax.set_xlim(8400, 8750)\n",
    "ax.set_ylim(0, 0.5e-17)"
   ]
  },
  {
   "cell_type": "markdown",
   "metadata": {},
   "source": [
    "# Continuum correction"
   ]
  },
  {
   "cell_type": "code",
   "execution_count": 0,
   "metadata": {},
   "outputs": [],
   "source": [
    "npoly = 1\n",
    "polys = np.ones((spec.wave.shape[0], npoly))"
   ]
  },
  {
   "cell_type": "code",
   "execution_count": 0,
   "metadata": {},
   "outputs": [],
   "source": [
    "npoly = 10\n",
    "normwave = (spec.wave - spec.wave[0]) / (spec.wave[-1] - spec.wave[0]) * 2 - 1       # -1..1\n",
    "polys = np.zeros((spec.wave.shape[0], npoly))\n",
    "\n",
    "coeffs = np.eye(npoly)\n",
    "for i in range(npoly):\n",
    "    polys[:, i] = np.polynomial.Chebyshev(coeffs[i])(normwave)\n",
    "f, ax = plt.subplots(1, 1, figsize=(3.4, 2.5), dpi=240)\n",
    "\n",
    "for i in range(npoly):\n",
    "    ax.plot(spec.wave, polys[:, i], lw=0.3)"
   ]
  },
  {
   "cell_type": "markdown",
   "metadata": {},
   "source": [
    "# Compare methods"
   ]
  },
  {
   "cell_type": "code",
   "execution_count": 0,
   "metadata": {},
   "outputs": [],
   "source": [
    "spec, bias = get_spec(noise=1, calib_bias=0.05)"
   ]
  },
  {
   "cell_type": "code",
   "execution_count": 0,
   "metadata": {},
   "outputs": [],
   "source": [
    "#zz = np.linspace(-0.00005, 0.00005, 201)\n",
    "zz = np.linspace(-0.0005, 0.0005, 201)"
   ]
  },
  {
   "cell_type": "code",
   "execution_count": 0,
   "metadata": {},
   "outputs": [],
   "source": [
    "f, ax = plt.subplots(1, 1, figsize=(3.4, 2.5), dpi=240)\n",
    "\n",
    "ax.plot(spec.wave, spec.flux, lw=0.3)\n",
    "\n",
    "ax.set_xlim(8400, 8750)\n",
    "ax.set_ylim(0, 0.5e-17)"
   ]
  },
  {
   "cell_type": "markdown",
   "metadata": {},
   "source": [
    "## Alex"
   ]
  },
  {
   "cell_type": "code",
   "execution_count": 0,
   "metadata": {},
   "outputs": [],
   "source": [
    "model = get_model()\n",
    "nu_alex = np.empty_like(zz)\n",
    "\n",
    "aa_alex = np.empty(zz.shape)\n",
    "for i, z in enumerate(zz):\n",
    "    m = type(model)(orig=model)\n",
    "    m.wave = m.wave * (1 + z)\n",
    "    m.apply_resampler(FluxConservingResampler(), spec.wave, None)\n",
    "\n",
    "    phi = np.sum(m.flux * spec.flux / spec.flux_err ** 2)\n",
    "    chi = np.sum(m.flux ** 2 / spec.flux_err ** 2)\n",
    "\n",
    "    aa_alex[i] = phi / chi\n",
    "    # print(aa[i])\n",
    "\n",
    "    nu_alex[i] = phi / np.sqrt(chi)\n",
    "    # print('nu', nu[i])"
   ]
  },
  {
   "cell_type": "code",
   "execution_count": 0,
   "metadata": {},
   "outputs": [],
   "source": [
    "aa_alex[zz.shape[0] // 2], nu_alex[zz.shape[0] // 2]"
   ]
  },
  {
   "cell_type": "code",
   "execution_count": 0,
   "metadata": {},
   "outputs": [],
   "source": [
    "f, ax = plt.subplots(1, 1, figsize=(3.4, 2.5), dpi=240)\n",
    "\n",
    "ax.plot(zz * 3e5, nu_alex)\n",
    "ax.grid()\n",
    "ax.set_xlabel(r'$\\Delta RV$')\n",
    "ax.set_ylabel(r'$\\nu$')\n",
    "ax.set_title('Significance')\n",
    "\n",
    "f.tight_layout()"
   ]
  },
  {
   "cell_type": "markdown",
   "metadata": {},
   "source": [
    "## Alex with continuum correction"
   ]
  },
  {
   "cell_type": "code",
   "execution_count": 0,
   "metadata": {},
   "outputs": [],
   "source": [
    "model = get_model()\n",
    "nu_alex_cc = np.empty_like(zz)\n",
    "\n",
    "aa_alex_cc = np.empty(zz.shape + (npoly,))\n",
    "for i, z in enumerate(zz):\n",
    "    m = type(model)(orig=model)\n",
    "    m.wave = m.wave * (1 + z)\n",
    "    m.apply_resampler(FluxConservingResampler(), spec.wave, None)\n",
    "\n",
    "    phi = np.sum(spec.flux[:, None] * m.flux[:, None] * polys / spec.flux_err[:, None] ** 2, axis=0)\n",
    "    # print('phi', phi.shape)\n",
    "\n",
    "    chi = np.sum((m.flux[:, None, None] ** 2) * np.matmul(polys[:, :, None], polys[:, None, :]) / spec.flux_err[:, None, None] ** 2, axis=0)\n",
    "    # print('chi', chi.shape)\n",
    "\n",
    "    chi_inv = np.linalg.inv(chi)\n",
    "    # print('chi_inv', chi_inv)\n",
    "\n",
    "    aa_alex_cc[i, :] = chi_inv_phi = np.matmul(chi_inv, phi)\n",
    "    # print('aa', aa[i, :])\n",
    "\n",
    "    nu_alex_cc[i] = np.sqrt(np.dot(phi, chi_inv_phi))\n",
    "    # print('nu', nu[i])"
   ]
  },
  {
   "cell_type": "code",
   "execution_count": 0,
   "metadata": {},
   "outputs": [],
   "source": [
    "f, ax = plt.subplots(1, 1, figsize=(3.4, 2.5), dpi=240)\n",
    "\n",
    "ax.plot(zz * 3e5, nu_alex_cc)\n",
    "ax.grid()\n",
    "ax.set_xlabel(r'$\\Delta RV$')\n",
    "ax.set_ylabel(r'$\\nu$')\n",
    "ax.set_title('Significance with flux correction')\n",
    "\n",
    "f.tight_layout()"
   ]
  },
  {
   "cell_type": "code",
   "execution_count": 0,
   "metadata": {},
   "outputs": [],
   "source": [
    "best = np.argmax(nu_alex_cc)\n",
    "\n",
    "best, aa_alex_cc[best]"
   ]
  },
  {
   "cell_type": "code",
   "execution_count": 0,
   "metadata": {},
   "outputs": [],
   "source": [
    "f, ax = plt.subplots(1, 1, figsize=(3.4, 2.5), dpi=240)\n",
    "\n",
    "ax.plot(spec.wave, np.sum(aa_alex_cc[best] * polys, axis=-1) / aa_alex_cc[best, 0], lw=1,\n",
    "    label='flux correction')\n",
    "ax.plot(spec.wave, bias.bias, lw=1, label='simulated flux calibration error')\n",
    "\n",
    "ax.set_ylim(0, 1.1)\n",
    "ax.grid()\n",
    "\n",
    "ax.set_title('Flux correction at best significance')\n",
    "\n",
    "ax.legend()"
   ]
  },
  {
   "cell_type": "code",
   "execution_count": 0,
   "metadata": {},
   "outputs": [],
   "source": [
    "f, ax = plt.subplots(1, 1, figsize=(3.4, 2.5), dpi=240)\n",
    "\n",
    "m = type(model)(orig=model)\n",
    "m.wave = m.wave * (1 + zz[best])\n",
    "m.apply_resampler(FluxConservingResampler(), spec.wave, None)\n",
    "\n",
    "ax.plot(spec.wave, spec.flux, lw=0.3)\n",
    "ax.plot(spec.wave, m.flux * np.sum(aa_alex_cc[best] * polys, axis=-1), lw=0.3)\n",
    "\n",
    "ax.set_xlim(8400, 8750)\n",
    "ax.set_ylim(0, 0.3e-17)"
   ]
  },
  {
   "cell_type": "markdown",
   "metadata": {},
   "source": [
    "## Koposov"
   ]
  },
  {
   "cell_type": "code",
   "execution_count": 0,
   "metadata": {},
   "outputs": [],
   "source": [
    "import scipy.linalg"
   ]
  },
  {
   "cell_type": "code",
   "execution_count": 0,
   "metadata": {},
   "outputs": [],
   "source": [
    "model = get_model()\n",
    "chisq = np.empty_like(zz)\n",
    "\n",
    "aa = np.empty(zz.shape + (npoly,))\n",
    "for i, z in enumerate(zz):\n",
    "    m = type(model)(orig=model)\n",
    "    m.wave = m.wave * (1 + z)\n",
    "    m.apply_resampler(FluxConservingResampler(), spec.wave, None)\n",
    "\n",
    "    # Solve for poly coeffs\n",
    "    normspec = spec.flux / spec.flux_err\n",
    "    normtempl = m.flux / spec.flux_err\n",
    "    normtempl /= np.median(normtempl)\n",
    "    logl_z = np.log(spec.flux_err).sum()\n",
    "    #print(logl_z)\n",
    "\n",
    "    polys1 = normtempl[None, :] * polys.T\n",
    "    vector1 = polys1 @ normspec\n",
    "    matrix1 = np.dot(polys1, polys1.T)\n",
    "    u, s, v = scipy.linalg.svd(matrix1, check_finite=False)\n",
    "    #print('s', s)\n",
    "    detI = np.prod(s)\n",
    "    #print(detI)\n",
    "    v2 = v.T @ ((1. / s)[:, None] * u.T) @ vector1  # this is matrix1^(-1) vector1\n",
    "\n",
    "    aa[i, :] = chi_inv_phi = np.matmul(chi_inv, phi)\n",
    "\n",
    "    chisq[i] = -vector1.T @ v2 - np.log(1. / detI) + 2 * logl_z + np.dot(\n",
    "        normspec, normspec)"
   ]
  },
  {
   "cell_type": "code",
   "execution_count": 0,
   "metadata": {},
   "outputs": [],
   "source": [
    "f, ax = plt.subplots(1, 1, figsize=(3.4, 2.5), dpi=240)\n",
    "\n",
    "ax.plot(zz * 3e5, chisq)\n",
    "ax.grid()\n",
    "\n",
    "ax.set_xlabel(r'$\\Delta RV$')\n",
    "ax.set_ylabel(r'$\\chi^2$')\n",
    "ax.set_title(r'$\\chi^2$ with flux correction (Koposov)')\n",
    "\n",
    "f.tight_layout()"
   ]
  },
  {
   "cell_type": "code",
   "execution_count": 0,
   "metadata": {},
   "outputs": [],
   "source": [
    "f, ax = plt.subplots(1, 1, figsize=(3.4, 2.5), dpi=240)\n",
    "\n",
    "ax.plot(zz * 3e5, nu_alex / np.max(nu_alex), lw=0.5, label='Significance')\n",
    "ax.plot(zz * 3e5, nu_alex_cc / np.max(nu_alex_cc), lw=0.5, label='Significance with flux correction')\n",
    "\n",
    "ax.plot(zz * 3e5, -chisq / np.max(-chisq), lw=0.5, label=r'$\\chi^2$ with flux correction (Koposov)')\n",
    "\n",
    "ax.grid()\n",
    "\n",
    "ax.set_xlabel(r'$\\Delta RV$')\n",
    "ax.legend()\n",
    "\n",
    "ax.set_title('SNR={:.2f}'.format(np.quantile(spec.flux / spec.flux_err, 0.95)))"
   ]
  },
  {
   "cell_type": "code",
   "execution_count": 0,
   "metadata": {},
   "outputs": [],
   "source": []
  }
 ],
 "metadata": {
  "kernelspec": {
   "display_name": "Python 3.7.6 ('astro-dnn')",
   "language": "python",
   "name": "python3"
  },
  "language_info": {
   "codemirror_mode": {
    "name": "ipython",
    "version": 3
   },
   "file_extension": ".py",
   "mimetype": "text/x-python",
   "name": "python",
   "nbconvert_exporter": "python",
   "pygments_lexer": "ipython3",
   "version": "3.7.6"
  },
  "vscode": {
   "interpreter": {
    "hash": "5a67ff4efb25b8aabbb759a9c23213a4102b92e186db45108ff57ab5b324cee0"
   }
  }
 },
 "nbformat": 4,
 "nbformat_minor": 2
}