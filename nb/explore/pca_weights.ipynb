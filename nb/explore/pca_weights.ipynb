{
 "cells": [
  {
   "cell_type": "code",
   "execution_count": 0,
   "id": "db24b815-0680-4102-990d-d870d3a503d3",
   "metadata": {},
   "outputs": [],
   "source": [
    "PROJECT_PATH = '/home/dobos/project/pfs_isochrones/python:/home/dobos/project/pfsspec-all:/home/dobos/project/pysynphot'\n",
    "\n",
    "ISOCHRONES_PATH = '/datascope/subaru/data/isochrones/dartmouth/import/afep0_cfht_sdss_hsc'\n",
    "GRID_PATH = '/datascope/subaru/data/pfsspec/models/stellar/rbf/phoenix/phoenix_HiRes_GK/norm'"
   ]
  },
  {
   "cell_type": "code",
   "execution_count": 0,
   "id": "2c62e267-c260-439a-9e70-1b2ce27a05e4",
   "metadata": {},
   "outputs": [],
   "source": [
    "PROJECT_PATH.split(':')"
   ]
  },
  {
   "cell_type": "code",
   "execution_count": 0,
   "id": "49cf3228-0591-45e8-b1e5-fb734f2b5cba",
   "metadata": {},
   "outputs": [],
   "source": [
    "%matplotlib inline"
   ]
  },
  {
   "cell_type": "code",
   "execution_count": 0,
   "id": "c060bc94-c0fb-42e7-882f-adbedc89fe88",
   "metadata": {},
   "outputs": [],
   "source": [
    "import os, sys\n",
    "import matplotlib.pyplot as plt\n",
    "import numpy as np\n",
    "import h5py as h5\n",
    "from scipy.ndimage import binary_dilation"
   ]
  },
  {
   "cell_type": "code",
   "execution_count": 0,
   "id": "2f381d14-782e-44c1-bef1-c34e7bb84aa2",
   "metadata": {},
   "outputs": [],
   "source": [
    "for p in reversed(PROJECT_PATH.split(':')):\n",
    "    sys.path.insert(0, p)"
   ]
  },
  {
   "cell_type": "code",
   "execution_count": 0,
   "id": "f5ca6742-8441-4701-bc34-bec49824e91e",
   "metadata": {},
   "outputs": [],
   "source": [
    "sys.path"
   ]
  },
  {
   "cell_type": "code",
   "execution_count": 0,
   "id": "ab15c639-6dee-4e81-b087-ae755eb2bce4",
   "metadata": {},
   "outputs": [],
   "source": [
    "os.environ['CUDA_VISIBLE_DEVICES'] = ''"
   ]
  },
  {
   "cell_type": "code",
   "execution_count": 0,
   "id": "3a292d60-6352-4e0d-b40a-b7e3c578a3de",
   "metadata": {},
   "outputs": [],
   "source": [
    "import tensorflow.compat.v2 as tf\n",
    "tf.enable_v2_behavior()"
   ]
  },
  {
   "cell_type": "code",
   "execution_count": 0,
   "id": "ca979983-271a-423a-b744-1cfc0cd37aa0",
   "metadata": {},
   "outputs": [],
   "source": [
    "tf.config.list_physical_devices('GPU') "
   ]
  },
  {
   "cell_type": "markdown",
   "id": "11e28c97-35f6-40cd-ba0b-88b5f71ef9c5",
   "metadata": {},
   "source": [
    "# Load isochrones"
   ]
  },
  {
   "cell_type": "code",
   "execution_count": 0,
   "id": "5f38f014-7e8b-412c-ba4c-ad64725bc2ae",
   "metadata": {},
   "outputs": [],
   "source": [
    "from pfs.ga.isochrones.isogrid import IsoGrid"
   ]
  },
  {
   "cell_type": "code",
   "execution_count": 0,
   "id": "cc21ac7f-8401-412b-860d-a540f7b3b7b8",
   "metadata": {},
   "outputs": [],
   "source": [
    "iso = IsoGrid()\n",
    "iso.load(os.path.join(ISOCHRONES_PATH, 'isochrones.h5'))"
   ]
  },
  {
   "cell_type": "code",
   "execution_count": 0,
   "id": "e3782520-3a98-4dc8-9789-02ef4d2a8a8d",
   "metadata": {},
   "outputs": [],
   "source": [
    "iso.axes.keys()"
   ]
  },
  {
   "cell_type": "code",
   "execution_count": 0,
   "id": "e839736c-fc81-4b8a-902a-e0b9b13d52c0",
   "metadata": {},
   "outputs": [],
   "source": [
    "for k in iso.values.keys():\n",
    "    print(k, \n",
    "          tf.math.count_nonzero(tf.math.is_inf(iso.values[k])).numpy(),\n",
    "          tf.math.count_nonzero(tf.math.is_nan(iso.values[k])).numpy())"
   ]
  },
  {
   "cell_type": "code",
   "execution_count": 0,
   "id": "cdabbbe5-d501-4ac5-9aac-7a418f070baf",
   "metadata": {},
   "outputs": [],
   "source": [
    "f, ax = plt.subplots(1, 1, figsize=(6, 6), dpi=120)\n",
    "\n",
    "X = iso.values['Log_T_eff'].numpy().flatten()\n",
    "Y = iso.values['log_g'].numpy().flatten()\n",
    "C = tf.broadcast_to(iso.Fe_H[:, tf.newaxis, tf.newaxis], iso.values['Log_T_eff'].shape)\n",
    "\n",
    "#ax.plot(X, Y, 'sk', ms=0.1, alpha=0.1, rasterized=True)\n",
    "ax.scatter(X, Y, c=C, s=0.1, rasterized=True, edgecolor='None', )\n",
    "\n",
    "ax.invert_xaxis()\n",
    "ax.set_xlabel('log T_eff')\n",
    "ax.set_ylabel('log g')"
   ]
  },
  {
   "cell_type": "markdown",
   "id": "0a2bacb4-7fac-4ea0-b9be-55a3e67314b0",
   "metadata": {},
   "source": [
    "# Load spectrum grid"
   ]
  },
  {
   "cell_type": "code",
   "execution_count": 0,
   "id": "709d3d41-fc77-4c3d-b2d2-e3017d9b116d",
   "metadata": {},
   "outputs": [],
   "source": [
    "from pfs.ga.pfsspec.core.grid import ArrayGrid\n",
    "from pfs.ga.pfsspec.stellar.grid import ModelGrid\n",
    "from pfs.ga.pfsspec.stellar.grid.bosz import Bosz\n",
    "from pfs.ga.pfsspec.stellar.grid.phoenix import Phoenix"
   ]
  },
  {
   "cell_type": "code",
   "execution_count": 0,
   "id": "3bdf6a5e-33bf-4481-a1d3-48a5fcc46121",
   "metadata": {},
   "outputs": [],
   "source": [
    "fn = os.path.join(GRID_PATH, 'spectra.h5')\n",
    "grid = ModelGrid(Phoenix(normalized=True), ArrayGrid)\n",
    "grid.preload_arrays = False\n",
    "grid.load(fn, format='h5')"
   ]
  },
  {
   "cell_type": "code",
   "execution_count": 0,
   "id": "e5aa6b71-09d6-4593-9525-4a8324dce426",
   "metadata": {},
   "outputs": [],
   "source": [
    "grid.array_grid.axes['log_g'].values"
   ]
  },
  {
   "cell_type": "code",
   "execution_count": 0,
   "id": "bde1dda1-2621-4102-b91c-4713056a1ffd",
   "metadata": {},
   "outputs": [],
   "source": [
    "grid.array_grid.axes['T_eff'].values"
   ]
  },
  {
   "cell_type": "code",
   "execution_count": 0,
   "id": "baef1c43-e9ac-404f-93f9-388e089b79a6",
   "metadata": {},
   "outputs": [],
   "source": [
    "grid.array_grid.axes['log_g'].values"
   ]
  },
  {
   "cell_type": "code",
   "execution_count": 0,
   "id": "245e808c-7886-4ac1-896c-5b10eff7b17c",
   "metadata": {},
   "outputs": [],
   "source": [
    "f, ax = plt.subplots(1, 1, figsize=(14, 6), dpi=120)\n",
    "\n",
    "X, Y = np.meshgrid(grid.array_grid.axes['T_eff'].values, grid.array_grid.axes['log_g'].values)\n",
    "X, Y = X.flatten(), Y.flatten()\n",
    "\n",
    "ax.plot(X, Y, 's', fillstyle='none')\n",
    "\n",
    "###########\n",
    "\n",
    "X = iso.values['Log_T_eff'].numpy().flatten()\n",
    "Y = iso.values['log_g'].numpy().flatten()\n",
    "C = tf.broadcast_to(iso.Fe_H[:, tf.newaxis, tf.newaxis], iso.values['Log_T_eff'].shape)\n",
    "\n",
    "#ax.plot(X, Y, 'sk', ms=0.1, alpha=0.1, rasterized=True)\n",
    "ax.scatter(10**X, Y, c=C, s=0.1, rasterized=True, edgecolor='None', )\n",
    "\n",
    "ax.set_xscale('log')\n",
    "ax.invert_xaxis()\n",
    "ax.invert_yaxis()\n",
    "\n",
    "ax.set_xlabel('T_eff')\n",
    "ax.set_ylabel('log g')"
   ]
  },
  {
   "cell_type": "markdown",
   "id": "794b2587-1544-46c1-b08a-3b1acac9d23e",
   "metadata": {},
   "source": [
    "# Generate the grid limits"
   ]
  },
  {
   "cell_type": "code",
   "execution_count": 0,
   "id": "1ffcbc34-21fc-45a3-a791-afa13e2a583d",
   "metadata": {},
   "outputs": [],
   "source": [
    "def find_bins(x):\n",
    "    y = np.empty(x.shape[0] + 1)\n",
    "    y[1:-1] = 0.5 * (x[1:] + x[:-1])\n",
    "    y[0] = 2 * y[1] - y[2]\n",
    "    y[-1] = 2 * y[-2] - y[-3]\n",
    "    \n",
    "    return y\n",
    "\n",
    "T_eff = find_bins(grid.array_grid.axes['T_eff'].values)\n",
    "log_g = find_bins(grid.array_grid.axes['log_g'].values)\n",
    "\n",
    "T_eff, log_g"
   ]
  },
  {
   "cell_type": "code",
   "execution_count": 0,
   "id": "5cbb0adb-a360-4d9b-b126-f58cd18b14b8",
   "metadata": {},
   "outputs": [],
   "source": [
    "X = iso.values['Log_T_eff'].numpy().flatten()\n",
    "Y = iso.values['log_g'].numpy().flatten()\n",
    "\n",
    "hist, _, _ = np.histogram2d(10**X, Y, (T_eff, log_g))"
   ]
  },
  {
   "cell_type": "code",
   "execution_count": 0,
   "id": "f1b898ae-dd69-456c-8d49-d1d64c7a57d8",
   "metadata": {},
   "outputs": [],
   "source": [
    "f, ax = plt.subplots(1, 1, figsize=(4, 3), dpi=120)\n",
    "\n",
    "l = ax.imshow(hist.T, extent=[T_eff.min(), T_eff.max(), log_g.min(), log_g.max()], origin='lower', aspect=200)\n",
    "ax.invert_xaxis()\n",
    "ax.invert_yaxis()\n",
    "\n",
    "f.colorbar(l)"
   ]
  },
  {
   "cell_type": "code",
   "execution_count": 0,
   "id": "c3cbe228-116f-45ac-93bb-15ec434ba5cd",
   "metadata": {},
   "outputs": [],
   "source": [
    "f, axs = plt.subplots(2, 1, figsize=(4, 5), dpi=120)\n",
    "\n",
    "axs[0].imshow(hist.T > 0, extent=[T_eff.min(), T_eff.max(), log_g.min(), log_g.max()], origin='lower', aspect=200)\n",
    "axs[1].imshow(binary_dilation(hist.T > 0, structure=np.array([[1, 1, 1]])), extent=[T_eff.min(), T_eff.max(), log_g.min(), log_g.max()], origin='lower', aspect=200)\n",
    "\n",
    "for ax in axs:\n",
    "    ax.invert_xaxis()\n",
    "    ax.invert_yaxis()"
   ]
  },
  {
   "cell_type": "code",
   "execution_count": 0,
   "id": "653bf9b2-6c00-4399-80d2-bce348813f97",
   "metadata": {},
   "outputs": [],
   "source": [
    "np.isnan(hist).sum()"
   ]
  },
  {
   "cell_type": "code",
   "execution_count": 0,
   "id": "f8c487ff-b3bf-4f31-bc72-ab994e915c13",
   "metadata": {},
   "outputs": [],
   "source": [
    "w = hist.copy()\n",
    "w[w < 1] = 1\n",
    "w = np.log(w)\n",
    "w /= w.max()\n",
    "w[w < 0.1] = 0.1\n",
    "\n",
    "h, b = np.histogram(w.flatten(), bins=20)\n",
    "plt.step(0.5 * (b[1:] + b[:-1]), h, where='mid')\n",
    "plt.grid()"
   ]
  },
  {
   "cell_type": "code",
   "execution_count": 0,
   "id": "fb71909b-b020-4009-9616-a7516d926b56",
   "metadata": {},
   "outputs": [],
   "source": [
    "w.shape"
   ]
  },
  {
   "cell_type": "code",
   "execution_count": 0,
   "id": "1cacada4-8085-445d-a535-ae8e731a469c",
   "metadata": {},
   "outputs": [],
   "source": [
    "f, ax = plt.subplots(1, 1, figsize=(4, 3), dpi=120)\n",
    "\n",
    "l = ax.imshow(w.T, extent=[T_eff.min(), T_eff.max(), log_g.min(), log_g.max()], origin='lower', aspect=200)\n",
    "ax.invert_xaxis()\n",
    "ax.invert_yaxis()\n",
    "\n",
    "f.colorbar(l)"
   ]
  },
  {
   "cell_type": "code",
   "execution_count": 0,
   "id": "bbfefea9-aa3a-4ea3-a407-70d9d8ca0d59",
   "metadata": {},
   "outputs": [],
   "source": [
    "for i, k, ax in grid.enumerate_axes():\n",
    "    print(k, ax.values.shape)"
   ]
  },
  {
   "cell_type": "code",
   "execution_count": 0,
   "id": "7e442299-1b21-4cba-9b5b-90ae0a80bb0a",
   "metadata": {},
   "outputs": [],
   "source": [
    "ww = np.broadcast_to(\n",
    "    w[np.newaxis, :, :, np.newaxis], \n",
    "    grid.grid.axes['M_H'].values.shape + w.shape + grid.grid.axes['a_M'].values.shape)\n",
    "ww.shape"
   ]
  },
  {
   "cell_type": "markdown",
   "id": "ff29a523-c63c-4e07-b467-0e9c8d0044d5",
   "metadata": {},
   "source": [
    "# Save weights into the grid"
   ]
  },
  {
   "cell_type": "code",
   "execution_count": 0,
   "id": "21f52718-b5c6-427d-8d5b-3a428cd8cc55",
   "metadata": {},
   "outputs": [],
   "source": [
    "fn = os.path.join(GRID_PATH, 'weights.h5')\n",
    "weights_grid = ModelGrid(Phoenix(normalized=False), ArrayGrid)\n",
    "weights_grid.preload_arrays = False\n",
    "#weights_grid.save(fn, format='h5')\n",
    "\n",
    "weights_axes = { p: axis for i, p, axis in grid.enumerate_axes() }"
   ]
  },
  {
   "cell_type": "code",
   "execution_count": 0,
   "id": "da567b87-1c78-4c75-9b3d-3e1b0e6e16b1",
   "metadata": {},
   "outputs": [],
   "source": [
    "for k in weights_axes:\n",
    "    print(k, weights_axes[k].values)"
   ]
  },
  {
   "cell_type": "code",
   "execution_count": 0,
   "id": "f98ab5ef-71a5-4139-a0c9-3fa47f7411e6",
   "metadata": {},
   "outputs": [],
   "source": [
    "weights_grid.set_axes(weights_axes)\n",
    "weights_grid.build_axis_indexes()\n",
    "weights_grid.save(fn, format='h5')"
   ]
  },
  {
   "cell_type": "code",
   "execution_count": 0,
   "id": "3c9e9f63-0f48-439d-9266-bba163b419f5",
   "metadata": {},
   "outputs": [],
   "source": [
    "for i, p, axis in weights_grid.enumerate_axes():\n",
    "    print(p, axis.values)"
   ]
  },
  {
   "cell_type": "code",
   "execution_count": 0,
   "id": "3b2b1629-f35d-4e13-b27a-6b8ce4017ca4",
   "metadata": {},
   "outputs": [],
   "source": [
    "weights_grid.array_grid.init_value(\"weight\", shape=(1,), )\n",
    "weights_grid.array_grid.set_value(\"weight\", ww[..., np.newaxis])\n",
    "\n",
    "weights_grid.save(fn, format='h5')"
   ]
  },
  {
   "cell_type": "code",
   "execution_count": 0,
   "id": "a0585538-dce3-4318-8865-8a9af4b7353a",
   "metadata": {},
   "outputs": [],
   "source": [
    "!h5ls -r \"$fn\""
   ]
  },
  {
   "cell_type": "code",
   "execution_count": 0,
   "id": "a7747b6d-644a-4722-bad5-3db6bbe1ad19",
   "metadata": {},
   "outputs": [],
   "source": [
    "weights_grid.array_grid.values"
   ]
  },
  {
   "cell_type": "markdown",
   "id": "01f3e26a-e5c1-4c9a-a786-f87c1d6bf83a",
   "metadata": {},
   "source": [
    "# Save mask into a grid"
   ]
  },
  {
   "cell_type": "code",
   "execution_count": 0,
   "id": "e25325d9-3885-4c59-b279-eb5d7d157bb4",
   "metadata": {},
   "outputs": [],
   "source": [
    "mask = binary_dilation(hist.T > 0, structure=np.array([[1, 1, 1]])).T"
   ]
  },
  {
   "cell_type": "code",
   "execution_count": 0,
   "id": "7db207bd-5948-4637-a66a-ed07f56f2c7d",
   "metadata": {},
   "outputs": [],
   "source": [
    "f, ax = plt.subplots(1, 1, figsize=(4, 3), dpi=120)\n",
    "\n",
    "l = ax.imshow(mask.T, extent=[T_eff.min(), T_eff.max(), log_g.min(), log_g.max()], origin='lower', aspect=200)\n",
    "ax.invert_xaxis()\n",
    "ax.invert_yaxis()\n",
    "\n",
    "f.colorbar(l)"
   ]
  },
  {
   "cell_type": "code",
   "execution_count": 0,
   "id": "d4c87c1b-612c-4b3b-b510-71e1f48aaf0f",
   "metadata": {},
   "outputs": [],
   "source": [
    "mm = np.broadcast_to(\n",
    "    mask[np.newaxis, :, :, np.newaxis], \n",
    "    grid.grid.axes['M_H'].values.shape + mask.shape + grid.grid.axes['a_M'].values.shape)\n",
    "mm.shape"
   ]
  },
  {
   "cell_type": "code",
   "execution_count": 0,
   "id": "75d5eabc-5e23-435a-9926-a38d11f632a3",
   "metadata": {},
   "outputs": [],
   "source": [
    "fn = os.path.join(GRID_PATH, 'mask.h5')\n",
    "weights_grid = ModelGrid(Phoenix(normalized=False), ArrayGrid)\n",
    "weights_grid.preload_arrays = False\n",
    "#weights_grid.save(fn, format='h5')\n",
    "\n",
    "weights_axes = { p: axis for i, p, axis in grid.enumerate_axes() }"
   ]
  },
  {
   "cell_type": "code",
   "execution_count": 0,
   "id": "714366fb-1444-4d09-a4c5-91e3a58d13eb",
   "metadata": {},
   "outputs": [],
   "source": [
    "weights_grid.set_axes(weights_axes)\n",
    "weights_grid.build_axis_indexes()\n",
    "weights_grid.save(fn, format='h5')"
   ]
  },
  {
   "cell_type": "code",
   "execution_count": 0,
   "id": "7532f156-6b93-4e0f-aa99-ac1249ed5fb0",
   "metadata": {},
   "outputs": [],
   "source": [
    "weights_grid.array_grid.init_value(\"weight\", shape=(1,), )\n",
    "weights_grid.array_grid.set_value(\"weight\", np.where(mm[..., np.newaxis], 1.0, 0.0), valid=np.full_like(mm, True, dtype=bool))\n",
    "\n",
    "weights_grid.save(fn, format='h5')"
   ]
  },
  {
   "cell_type": "code",
   "execution_count": 0,
   "id": "d01306da-c872-46df-aa7c-dcacc790a621",
   "metadata": {},
   "outputs": [],
   "source": [
    "!ls -lah \"$fn\""
   ]
  },
  {
   "cell_type": "code",
   "execution_count": 0,
   "id": "c01dee16-3548-4175-a3e3-15fb85314749",
   "metadata": {},
   "outputs": [],
   "source": [
    "!h5ls -r \"$fn\""
   ]
  },
  {
   "cell_type": "code",
   "execution_count": 0,
   "id": "281e1cb9-baef-471d-b0a3-c29356e5e204",
   "metadata": {},
   "outputs": [],
   "source": []
  }
 ],
 "metadata": {
  "kernelspec": {
   "display_name": "Python 3 [astro-tf]",
   "language": "python",
   "name": "python3-astro-tf"
  },
  "language_info": {
   "codemirror_mode": {
    "name": "ipython",
    "version": 3
   },
   "file_extension": ".py",
   "mimetype": "text/x-python",
   "name": "python",
   "nbconvert_exporter": "python",
   "pygments_lexer": "ipython3",
   "version": "3.9.12"
  }
 },
 "nbformat": 4,
 "nbformat_minor": 5
}