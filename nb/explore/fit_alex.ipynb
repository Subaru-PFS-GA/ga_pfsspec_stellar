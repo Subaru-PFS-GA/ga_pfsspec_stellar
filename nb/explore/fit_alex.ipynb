{
 "cells": [
  {
   "cell_type": "code",
   "execution_count": 0,
   "metadata": {},
   "outputs": [],
   "source": [
    "PFSSPEC_ROOT = '/home/dobos/project/pfsspec-all/'\n",
    "PFSSPEC_DATA = '/datascope/subaru/data/pfsspec'\n",
    "GRID_PATH = '/datascope/subaru/data/pfsspec/models/stellar/grid/phoenix/phoenix_HiRes'"
   ]
  },
  {
   "cell_type": "code",
   "execution_count": 0,
   "metadata": {},
   "outputs": [],
   "source": [
    "import os, sys, warnings\n",
    "\n",
    "# Allow load project as module\n",
    "sys.path.insert(0, PFSSPEC_ROOT)\n",
    "\n",
    "# Set environment\n",
    "os.environ['PFSSPEC_ROOT'] = PFSSPEC_ROOT\n",
    "os.environ['PFSSPEC_DATA'] = PFSSPEC_DATA\n",
    "os.environ['PYSYN_CDBS'] = os.path.join(os.environ['PFSSPEC_DATA'], 'cdbs')\n",
    "\n",
    "# Filter warnings\n",
    "warnings.filterwarnings(\"ignore\")"
   ]
  },
  {
   "cell_type": "code",
   "execution_count": 0,
   "metadata": {},
   "outputs": [],
   "source": [
    "%pylab inline"
   ]
  },
  {
   "cell_type": "code",
   "execution_count": 0,
   "metadata": {},
   "outputs": [],
   "source": [
    "import os\n",
    "import getpass\n",
    "import matplotlib.pyplot as plt\n",
    "import numpy as np\n",
    "import pandas as pd\n",
    "import h5py\n",
    "\n",
    "from scipy.optimize import curve_fit\n",
    "from scipy import ndimage\n",
    "from scipy.ndimage.filters import maximum_filter1d\n",
    "from scipy.interpolate import Rbf, interp1d, interpn"
   ]
  },
  {
   "cell_type": "code",
   "execution_count": 0,
   "metadata": {},
   "outputs": [],
   "source": [
    "%load_ext autoreload"
   ]
  },
  {
   "cell_type": "code",
   "execution_count": 0,
   "metadata": {},
   "outputs": [],
   "source": [
    "%autoreload 2"
   ]
  },
  {
   "cell_type": "code",
   "execution_count": 0,
   "metadata": {},
   "outputs": [],
   "source": [
    "from pfsspec.core.physics import Physics\n",
    "from pfsspec.stellar.continuum.model.alex import Alex, AlexContinuumModelTrace"
   ]
  },
  {
   "cell_type": "markdown",
   "metadata": {},
   "source": [
    "# Load grid"
   ]
  },
  {
   "cell_type": "code",
   "execution_count": 0,
   "metadata": {},
   "outputs": [],
   "source": [
    "from pfsspec.core.grid import ArrayGrid\n",
    "from pfsspec.stellar.grid import ModelGrid\n",
    "from pfsspec.stellar.grid.bosz import Bosz\n",
    "from pfsspec.stellar.grid.phoenix import Phoenix"
   ]
  },
  {
   "cell_type": "code",
   "execution_count": 0,
   "metadata": {},
   "outputs": [],
   "source": [
    "fn = os.path.join(os.environ['PFSSPEC_DATA'], GRID_PATH, 'spectra.h5')"
   ]
  },
  {
   "cell_type": "code",
   "execution_count": 0,
   "metadata": {},
   "outputs": [],
   "source": [
    "#grid = ModelGrid(Bosz(), ArrayGrid)\n",
    "grid = ModelGrid(Phoenix(), ArrayGrid)\n",
    "grid.preload_arrays = False\n",
    "grid.load(fn, format='h5')"
   ]
  },
  {
   "cell_type": "code",
   "execution_count": 0,
   "metadata": {},
   "outputs": [],
   "source": [
    "for k in grid.grid.axes:\n",
    "    print(k, grid.grid.axes[k].values)"
   ]
  },
  {
   "cell_type": "code",
   "execution_count": 0,
   "metadata": {},
   "outputs": [],
   "source": [
    "for k in grid.grid.values:\n",
    "    print(k, grid.grid.value_shapes[k])"
   ]
  },
  {
   "cell_type": "markdown",
   "metadata": {},
   "source": [
    "# Pick a spectrum and fit with model"
   ]
  },
  {
   "cell_type": "code",
   "execution_count": 0,
   "metadata": {},
   "outputs": [],
   "source": [
    "M_H = -0.0\n",
    "T_eff = 8000\n",
    "log_g = 4\n",
    "a_M = 0\n",
    "C_M = 0"
   ]
  },
  {
   "cell_type": "code",
   "execution_count": 0,
   "metadata": {},
   "outputs": [],
   "source": [
    "idx = grid.array_grid.get_nearest_index(M_H=M_H, T_eff=T_eff, log_g=log_g, a_M=a_M, C_M=C_M)\n",
    "idx"
   ]
  },
  {
   "cell_type": "code",
   "execution_count": 0,
   "metadata": {},
   "outputs": [],
   "source": [
    "#idx = (0, 12, 10, 3, 1)"
   ]
  },
  {
   "cell_type": "code",
   "execution_count": 0,
   "metadata": {},
   "outputs": [],
   "source": [
    "spec = grid.get_model_at(idx)"
   ]
  },
  {
   "cell_type": "code",
   "execution_count": 0,
   "metadata": {},
   "outputs": [],
   "source": [
    "spec.M_H, spec.T_eff, spec.log_g, spec.a_M, spec.C_M"
   ]
  },
  {
   "cell_type": "code",
   "execution_count": 0,
   "metadata": {},
   "outputs": [],
   "source": [
    "trace = AlexContinuumModelTrace()\n",
    "model = Alex(trace=trace)\n",
    "model.init_wave(spec.wave)\n",
    "\n",
    "params = model.fit(spec)"
   ]
  },
  {
   "cell_type": "code",
   "execution_count": 0,
   "metadata": {},
   "outputs": [],
   "source": [
    "for k in params:\n",
    "    print(k, params[k])"
   ]
  },
  {
   "cell_type": "code",
   "execution_count": 0,
   "metadata": {},
   "outputs": [],
   "source": [
    "trace.blended_p0, trace.blended_params"
   ]
  },
  {
   "cell_type": "code",
   "execution_count": 0,
   "metadata": {},
   "outputs": [],
   "source": [
    "plt.figure(figsize=(12, 6))\n",
    "\n",
    "for w in model.limit_wave:\n",
    "    plt.axvline(w, c='k')\n",
    "\n",
    "for w in model.blended_bounds:\n",
    "    plt.axvline(w, c='green')\n",
    "\n",
    "plt.plot(spec.wave, np.log(spec.flux), lw=0.1)\n",
    "\n",
    "plt.xlim(2800, 15000)\n",
    "plt.ylim(30, None)"
   ]
  },
  {
   "cell_type": "code",
   "execution_count": 0,
   "metadata": {},
   "outputs": [],
   "source": [
    "plt.figure(figsize=(12, 6))\n",
    "\n",
    "for w in model.limit_wave:\n",
    "    plt.axvline(w, c='k')\n",
    "\n",
    "for w in model.blended_bounds:\n",
    "    plt.axvline(w, c='green')\n",
    "\n",
    "plt.plot(spec.wave, np.log(spec.flux), lw=0.1)\n",
    "#plt.plot(spec.wave, np.log(spec.cont), 'b--')\n",
    "\n",
    "plt.xlim(2800, 15000)\n",
    "plt.ylim(6, None)\n",
    "plt.grid(True)\n",
    "\n",
    "plt.xscale('log')\n",
    "plt.title('Original spectrum and theoretical continuum')"
   ]
  },
  {
   "cell_type": "code",
   "execution_count": 0,
   "metadata": {},
   "outputs": [],
   "source": [
    "plt.figure(figsize=(12, 6))\n",
    "\n",
    "for w in model.limit_wave:\n",
    "    plt.axvline(w, c='k')\n",
    "\n",
    "for w in model.blended_bounds:\n",
    "    plt.axvline(w, c='green')\n",
    "\n",
    "plt.plot(spec.wave, np.log(spec.flux) - np.log(spec.cont), lw=0.1)\n",
    "plt.axhline(0, c='b', ls='--')\n",
    "\n",
    "plt.xlim(2800, 15000)\n",
    "# plt.ylim(6, None)\n",
    "plt.grid(True)\n",
    "\n",
    "plt.xscale('log')\n",
    "plt.title('Spectrum normalized by theoretical continuum')"
   ]
  },
  {
   "cell_type": "code",
   "execution_count": 0,
   "metadata": {},
   "outputs": [],
   "source": [
    "wave = model.wave\n",
    "cont = model.eval_continuum_all(params)"
   ]
  },
  {
   "cell_type": "code",
   "execution_count": 0,
   "metadata": {},
   "outputs": [],
   "source": [
    "# trace.legendre_control_points"
   ]
  },
  {
   "cell_type": "code",
   "execution_count": 0,
   "metadata": {},
   "outputs": [],
   "source": [
    "plt.figure(figsize=(16, 8))\n",
    "\n",
    "for w in model.limit_wave:\n",
    "    plt.axvline(w, c='k')\n",
    "\n",
    "for w in model.blended_bounds:\n",
    "    plt.axvline(w, c='green')\n",
    "    \n",
    "plt.plot(spec.wave, np.log(spec.flux), lw=0.1)\n",
    "\n",
    "if trace is not None:\n",
    "    for k in trace.legendre_control_points.keys():\n",
    "        (x, y, ip) = trace.legendre_control_points[k]\n",
    "        plt.plot(np.exp(x), y, 'o')\n",
    "\n",
    "plt.plot(wave, cont, c='r')\n",
    "#plt.plot(spec.wave, np.log(spec.cont), 'b--')\n",
    "\n",
    "\n",
    "\n",
    "plt.xlim(2800, 15000)\n",
    "#plt.xlim(3500, 4000)\n",
    "plt.ylim(30, 40)\n",
    "plt.grid(True)\n",
    "\n",
    "plt.xscale('log')\n",
    "plt.title('Spectrum and fitted theoretical continuum')"
   ]
  },
  {
   "cell_type": "code",
   "execution_count": 0,
   "metadata": {},
   "outputs": [],
   "source": [
    "wave = model.wave\n",
    "blend = model.eval_blended_all(params)"
   ]
  },
  {
   "cell_type": "code",
   "execution_count": 0,
   "metadata": {},
   "outputs": [],
   "source": [
    "plt.figure(figsize=(16, 8))\n",
    "\n",
    "for w in model.limit_wave:\n",
    "    plt.axvline(w, c='k')\n",
    "\n",
    "for w in model.blended_bounds:\n",
    "    plt.axvline(w, c='green')\n",
    "\n",
    "plt.plot(spec.wave[model.wave_mask], np.log(spec.flux[model.wave_mask]) - cont, lw=0.1)\n",
    "plt.plot(wave, blend, c='r')\n",
    "\n",
    "for k, v in trace.blended_control_points.items():\n",
    "    (x, y) = v\n",
    "    plt.plot(np.exp(x), y, 'r.')\n",
    "\n",
    "plt.xlim(2800, 15000)\n",
    "#plt.ylim(-0.8, 0.1)\n",
    "plt.grid(True)\n",
    "\n",
    "plt.xscale('log')\n",
    "\n",
    "plt.title('Upper envelope fit')"
   ]
  },
  {
   "cell_type": "code",
   "execution_count": 0,
   "metadata": {},
   "outputs": [],
   "source": [
    "trace.blended_chi2"
   ]
  },
  {
   "cell_type": "code",
   "execution_count": 0,
   "metadata": {},
   "outputs": [],
   "source": [
    "plt.figure(figsize=(12, 6))\n",
    "\n",
    "for w in model.limit_wave:\n",
    "    plt.axvline(w, c='k')\n",
    "\n",
    "for w in model.blended_bounds:\n",
    "    plt.axvline(w, c='green')\n",
    "\n",
    "plt.plot(spec.wave[model.wave_mask], np.log(spec.flux[model.wave_mask]) - cont, lw=0.1)\n",
    "plt.plot(wave, blend, c='r')\n",
    "\n",
    "for k, v in trace.blended_control_points.items():\n",
    "    (x, y) = v\n",
    "    plt.plot(np.exp(x), y, 'r.')\n",
    "\n",
    "plt.xlim(3000, 3500)\n",
    "plt.ylim(-1, 0.1)\n",
    "plt.grid(True)\n",
    "\n",
    "#plt.xscale('log')\n",
    "\n",
    "plt.title('Upper envelope fit - Blue')"
   ]
  },
  {
   "cell_type": "code",
   "execution_count": 0,
   "metadata": {},
   "outputs": [],
   "source": [
    "plt.figure(figsize=(12, 6))\n",
    "\n",
    "for w in model.limit_wave:\n",
    "    plt.axvline(w, c='k')\n",
    "\n",
    "for w in model.blended_bounds:\n",
    "    plt.axvline(w, c='green')\n",
    "\n",
    "plt.plot(spec.wave[model.wave_mask], np.log(spec.flux[model.wave_mask]) - cont, lw=0.1)\n",
    "plt.plot(wave, blend, c='r')\n",
    "\n",
    "for k, v in trace.blended_control_points.items():\n",
    "    (x, y) = v\n",
    "    plt.plot(np.exp(x), y, 'r.')\n",
    "\n",
    "plt.xlim(3500, 4700)\n",
    "#plt.ylim(-0.4, 0.1)\n",
    "plt.grid(True)\n",
    "\n",
    "#plt.xscale('log')\n",
    "\n",
    "plt.title('Upper envelope fit - Balmer')"
   ]
  },
  {
   "cell_type": "code",
   "execution_count": 0,
   "metadata": {},
   "outputs": [],
   "source": [
    "plt.figure(figsize=(12, 6))\n",
    "\n",
    "for w in model.limit_wave:\n",
    "    plt.axvline(w, c='k')\n",
    "\n",
    "for w in model.blended_bounds:\n",
    "    plt.axvline(w, c='green')\n",
    "\n",
    "plt.plot(spec.wave[model.wave_mask], np.log(spec.flux[model.wave_mask]) - cont, lw=0.1)\n",
    "plt.plot(wave, blend, c='r')\n",
    "\n",
    "for k, v in trace.blended_control_points.items():\n",
    "    (x, y) = v\n",
    "    plt.plot(np.exp(x), y, 'r.')\n",
    "\n",
    "plt.xlim(8000, 10500)\n",
    "plt.ylim(-0.5, 0.002)\n",
    "plt.grid(True)\n",
    "\n",
    "#plt.xscale('log')\n",
    "\n",
    "plt.title('Upper envelope fit - Paschen')"
   ]
  },
  {
   "cell_type": "code",
   "execution_count": 0,
   "metadata": {},
   "outputs": [],
   "source": [
    "wave, cont = model.eval(params)"
   ]
  },
  {
   "cell_type": "code",
   "execution_count": 0,
   "metadata": {},
   "outputs": [],
   "source": [
    "plt.figure(figsize=(12, 6))\n",
    "\n",
    "for w in model.limit_wave:\n",
    "    plt.axvline(w, c='k')\n",
    "\n",
    "for w in model.blended_bounds:\n",
    "    plt.axvline(w, c='green')\n",
    "\n",
    "plt.plot(spec.wave, np.log(spec.flux), lw=0.1)\n",
    "plt.plot(wave, cont, c='r')\n",
    "#plt.plot(spec.wave, np.log(spec.cont), 'b--')\n",
    "\n",
    "plt.xlim(2800, 15000)\n",
    "plt.ylim(32, None)\n",
    "plt.grid(True)\n",
    "\n",
    "plt.xscale('log')\n",
    "\n",
    "plt.title('Upper envelope fit')"
   ]
  },
  {
   "cell_type": "code",
   "execution_count": 0,
   "metadata": {},
   "outputs": [],
   "source": [
    "plt.figure(figsize=(12, 6))\n",
    "\n",
    "for w in model.limit_wave:\n",
    "    plt.axvline(np.log(w), c='k')\n",
    "\n",
    "for w in model.blended_bounds:\n",
    "    plt.axvline(np.log(w), c='green')\n",
    "\n",
    "#plt.plot(np.log(spec.wave), np.log(spec.flux / spec.cont))\n",
    "plt.plot(model.log_wave, np.log(spec.flux[model.wave_mask]) - cont, lw=0.1)\n",
    "\n",
    "plt.xlim(np.log(2800), np.log(15000))\n",
    "plt.ylim(-3, 0.1)\n",
    "plt.grid(True)\n",
    "\n",
    "plt.title('Normalized spectrum')"
   ]
  },
  {
   "cell_type": "code",
   "execution_count": 0,
   "metadata": {},
   "outputs": [],
   "source": [
    "plt.figure(figsize=(12, 6))\n",
    "\n",
    "for w in model.limit_wave:\n",
    "    plt.axvline(np.log(w), c='k')\n",
    "\n",
    "for w in model.blended_bounds:\n",
    "    plt.axvline(np.log(w), c='green')\n",
    "\n",
    "#plt.plot(np.log(spec.wave), np.log(spec.flux / spec.cont))\n",
    "plt.plot(model.log_wave, np.log(spec.flux[model.wave_mask]) - cont, lw=0.1)\n",
    "plt.axhline(0, c='r')\n",
    "\n",
    "plt.xlim(np.log(2800), np.log(15000))\n",
    "plt.ylim(-0.05, 0.02)\n",
    "plt.grid(True)\n",
    "\n",
    "plt.title('Normalized spectrum')"
   ]
  },
  {
   "cell_type": "code",
   "execution_count": 0,
   "metadata": {},
   "outputs": [],
   "source": []
  },
  {
   "cell_type": "code",
   "execution_count": 0,
   "metadata": {},
   "outputs": [],
   "source": [
    "from scipy.signal import find_peaks\n",
    "import alphashape"
   ]
  },
  {
   "cell_type": "code",
   "execution_count": 0,
   "metadata": {},
   "outputs": [],
   "source": [
    "f, ax = plt.subplots(1, 1, figsize=(8, 8), dpi=120)\n",
    "\n",
    "x = np.log(spec.wave)\n",
    "y = np.log(np.log(spec.flux))\n",
    "\n",
    "x_min, x_max = x.min(), x.max()\n",
    "y_min, y_max = y.min(), y.max()\n",
    "\n",
    "X = (x - x_min) / (x_max - x_min)\n",
    "Y = (y - y_min) / (y_max - y_min)\n",
    "\n",
    "peaks, _ = find_peaks(Y, distance=100, )\n",
    "\n",
    "Y_min = Y.min() - 0.1\n",
    "\n",
    "points = np.stack([X[peaks], Y[peaks]], axis=-1)\n",
    "points = np.concatenate([\n",
    "    points, \n",
    "    np.stack([X[peaks], np.full_like(X[peaks], Y_min)], axis=-1)\n",
    "])\n",
    "\n",
    "a = alphashape.alphashape(points, 0)\n",
    "\n",
    "\n",
    "#print(peaks)\n",
    "\n",
    "ax.plot(X, Y, lw=0.1)\n",
    "ax.plot(*a.boundary.coords.xy, 'o')\n",
    "ax.plot(X[peaks], Y[peaks], '.')\n",
    "\n",
    "\n",
    "\n",
    "ax.grid()\n",
    "ax.set_aspect(1)"
   ]
  },
  {
   "cell_type": "code",
   "execution_count": 0,
   "metadata": {},
   "outputs": [],
   "source": [
    "from scipy.spatial import ConvexHull"
   ]
  },
  {
   "cell_type": "code",
   "execution_count": 0,
   "metadata": {},
   "outputs": [],
   "source": [
    "M_H = -0.0\n",
    "T_eff = 3500\n",
    "log_g = 1\n",
    "a_M = 0\n",
    "C_M = 0"
   ]
  },
  {
   "cell_type": "code",
   "execution_count": 0,
   "metadata": {},
   "outputs": [],
   "source": [
    "idx = grid.array_grid.get_nearest_index(M_H=M_H, T_eff=T_eff, log_g=log_g, a_M=a_M, C_M=C_M)\n",
    "idx"
   ]
  },
  {
   "cell_type": "code",
   "execution_count": 0,
   "metadata": {},
   "outputs": [],
   "source": [
    "#idx = (0, 12, 10, 3, 1)"
   ]
  },
  {
   "cell_type": "code",
   "execution_count": 0,
   "metadata": {},
   "outputs": [],
   "source": [
    "spec = grid.get_model_at(idx)"
   ]
  },
  {
   "cell_type": "code",
   "execution_count": 0,
   "metadata": {},
   "outputs": [],
   "source": [
    "peaks, _ = find_peaks(spec.flux, distance=100)\n",
    "\n",
    "\n",
    "x = np.log(spec.wave[peaks])\n",
    "x_min, x_max = x.min(), x.max()\n",
    "X = (x - x_min) / (x_max - x_min)\n",
    "\n",
    "y = np.log(spec.flux[peaks])\n",
    "#y *= cos(np.pi / 2 * X)\n",
    "#y *= 1 - tan(X)\n",
    "y *= np.sqrt(1 - (0.75 * X)**2)\n",
    "y_min, y_max = y.min(), y.max()\n",
    "Y = (y - y_min) / (y_max - y_min)\n",
    "\n",
    "Y_min = Y.min() - 0.1\n",
    "\n",
    "\n",
    "points = np.stack([X, Y], axis=-1)\n",
    "points = np.concatenate([np.array([[X[0], Y_min]]), points, np.array([[X[-1], Y_min]])])\n",
    "\n",
    "h = ConvexHull(points)\n",
    "\n",
    "ix = h.vertices - 1\n",
    "ix = ix[(ix >= 0) & (ix < X.size)]\n",
    "\n",
    "\n",
    "###########\n",
    "\n",
    "f, ax = plt.subplots(1, 1, figsize=(8, 8), dpi=120)\n",
    "\n",
    "ax.plot(X, Y, lw=0.1)\n",
    "ax.plot(X[ix], Y[ix], '.')\n",
    "\n",
    "for w in model.limit_wave:\n",
    "    ax.axvline((np.log(w) - x_min) / (x_max - x_min), c='k')\n",
    "\n",
    "for w in model.blended_bounds:\n",
    "    ax.axvline((np.log(w) - x_min) / (x_max - x_min), c='green')\n",
    "    \n",
    "    \n",
    "############\n",
    "\n",
    "f, ax = plt.subplots(1, 1, figsize=(8, 8), dpi=120)\n",
    "\n",
    "ax.plot(np.log(spec.wave), np.log(spec.flux), lw=0.1)\n",
    "ax.plot(np.log(spec.wave[peaks])[ix], np.log(spec.flux[peaks])[ix], '.')\n",
    "\n",
    "for w in model.limit_wave:\n",
    "    ax.axvline(np.log(w), c='k')\n",
    "\n",
    "for w in model.blended_bounds:\n",
    "    ax.axvline(np.log(w), c='green')\n",
    "    \n",
    "    \n",
    "###########\n",
    "\n",
    "f, ax = plt.subplots(1, 1, figsize=(8, 8), dpi=120)\n",
    "\n",
    "ax.plot(spec.wave, spec.flux, lw=0.1)\n",
    "ax.plot(spec.wave[peaks][ix], spec.flux[peaks][ix], '.')\n",
    "\n",
    "for w in model.limit_wave:\n",
    "    ax.axvline(w, c='k')\n",
    "\n",
    "for w in model.blended_bounds:\n",
    "    ax.axvline(w, c='green')"
   ]
  },
  {
   "cell_type": "code",
   "execution_count": 0,
   "metadata": {},
   "outputs": [],
   "source": [
    "plt.plot(X, np.tan(X))"
   ]
  },
  {
   "cell_type": "code",
   "execution_count": 0,
   "metadata": {},
   "outputs": [],
   "source": []
  }
 ],
 "metadata": {
  "kernelspec": {
   "display_name": "Python 3 [astro-dnn]",
   "language": "python",
   "name": "python3-astro-dnn"
  },
  "language_info": {
   "codemirror_mode": {
    "name": "ipython",
    "version": 3
   },
   "file_extension": ".py",
   "mimetype": "text/x-python",
   "name": "python",
   "nbconvert_exporter": "python",
   "pygments_lexer": "ipython3",
   "version": "3.7.6"
  }
 },
 "nbformat": 4,
 "nbformat_minor": 4
}