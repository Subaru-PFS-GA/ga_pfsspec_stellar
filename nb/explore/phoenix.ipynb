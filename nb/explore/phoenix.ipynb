{
 "cells": [
  {
   "cell_type": "code",
   "execution_count": 0,
   "id": "db95800e-3508-44b3-ab80-dbbf2483ad64",
   "metadata": {},
   "outputs": [],
   "source": [
    "DATA_PATH = '/datascope/subaru/data/pfsspec/download/models/stellar/grid/phoenix/phoenix_HiRes'"
   ]
  },
  {
   "cell_type": "code",
   "execution_count": 0,
   "id": "68f151a5-d3e0-4d10-b1d2-2174546049d7",
   "metadata": {},
   "outputs": [],
   "source": [
    "%matplotlib inline"
   ]
  },
  {
   "cell_type": "code",
   "execution_count": 0,
   "id": "e0105507-05fb-48e0-a141-bfbb6c9445c6",
   "metadata": {},
   "outputs": [],
   "source": [
    "import os\n",
    "import numpy as np\n",
    "import matplotlib.pyplot as plt"
   ]
  },
  {
   "cell_type": "code",
   "execution_count": 0,
   "id": "9dc387cd-1d00-400f-95ac-c9d34e1300a9",
   "metadata": {},
   "outputs": [],
   "source": [
    "from astropy.io import fits"
   ]
  },
  {
   "cell_type": "code",
   "execution_count": 0,
   "id": "2610692b-e048-4b66-bffe-2f2c94cbd074",
   "metadata": {},
   "outputs": [],
   "source": [
    "hdus = fits.open(os.path.join(DATA_PATH, 'WAVE_PHOENIX-ACES-AGSS-COND-2011.fits'), memmap=False)\n",
    "len(hdus)"
   ]
  },
  {
   "cell_type": "code",
   "execution_count": 0,
   "id": "bd70171f-7d52-4d19-88c0-fddff9db29d0",
   "metadata": {},
   "outputs": [],
   "source": [
    "wave = hdus[0].data"
   ]
  },
  {
   "cell_type": "code",
   "execution_count": 0,
   "id": "b141b490-2a3b-49df-aac1-73c0891920e9",
   "metadata": {},
   "outputs": [],
   "source": [
    "hdus = fits.open(os.path.join(DATA_PATH, 'Z-1.0/lte04400-5.00-1.0.PHOENIX-ACES-AGSS-COND-2011-HiRes.fits'), memmap=False)\n",
    "len(hdus)"
   ]
  },
  {
   "cell_type": "code",
   "execution_count": 0,
   "id": "0601aa32-6ea1-40c3-b3dc-6739bfbb02e5",
   "metadata": {},
   "outputs": [],
   "source": [
    "flux = hdus[0].data"
   ]
  },
  {
   "cell_type": "code",
   "execution_count": 0,
   "id": "863baa27-45a4-4cfc-abcd-7c485d8227fc",
   "metadata": {},
   "outputs": [],
   "source": [
    "plt.plot(wave, flux)"
   ]
  },
  {
   "cell_type": "code",
   "execution_count": 0,
   "id": "086de73c-bbcb-4dc5-834f-689065cdc415",
   "metadata": {},
   "outputs": [],
   "source": [
    "plt.plot(0.5 * (wave[1:] + wave[:-1]), wave[1:] - wave[:-1])"
   ]
  },
  {
   "cell_type": "code",
   "execution_count": 0,
   "id": "bba3f736-19b2-47b6-8b75-7962aa5e271a",
   "metadata": {},
   "outputs": [],
   "source": []
  }
 ],
 "metadata": {
  "kernelspec": {
   "display_name": "Python 3 [astro-dnn]",
   "language": "python",
   "name": "python3-astro-dnn"
  },
  "language_info": {
   "codemirror_mode": {
    "name": "ipython",
    "version": 3
   },
   "file_extension": ".py",
   "mimetype": "text/x-python",
   "name": "python",
   "nbconvert_exporter": "python",
   "pygments_lexer": "ipython3",
   "version": "3.7.6"
  }
 },
 "nbformat": 4,
 "nbformat_minor": 5
}