{
 "cells": [
  {
   "cell_type": "code",
   "execution_count": 0,
   "id": "92fd2028-c44e-4b56-9af9-d70c9b62565c",
   "metadata": {},
   "outputs": [],
   "source": [
    "%matplotlib inline"
   ]
  },
  {
   "cell_type": "code",
   "execution_count": 0,
   "id": "7d3c58a3-e59e-4fe4-b6a2-2c148f77ec85",
   "metadata": {},
   "outputs": [],
   "source": [
    "import numpy as np\n",
    "import matplotlib.pyplot as plt"
   ]
  },
  {
   "cell_type": "code",
   "execution_count": 0,
   "id": "a6b22907-77c6-4463-8146-b9112986e19a",
   "metadata": {},
   "outputs": [],
   "source": [
    "x = np.linspace(-2, 2, 500)"
   ]
  },
  {
   "cell_type": "code",
   "execution_count": 0,
   "id": "4c683b23-eec5-4cff-b439-e349ef0fec35",
   "metadata": {},
   "outputs": [],
   "source": [
    "f, ax = plt.subplots(1, 1, figsize=(6, 6), dpi=120)\n",
    "\n",
    "# ax.plot(x, np.sqrt(x))\n",
    "ax.plot(x, np.arcsinh(x))\n",
    "# ax.plot(x, np.log(x))\n",
    "# ax.plot(x, np.arctan(x) / np.pi * 2)\n",
    "\n",
    "ax.plot(x, (np.sign(x) * np.sqrt(np.sign(x) *x)))\n",
    "ax.plot(x, np.arcsinh(np.sign(x) * np.sqrt(np.sign(x) *x)))\n",
    "ax.plot(x, np.arcsinh(10 * np.sign(x) * np.sqrt(np.sign(x) *x)))\n",
    "\n",
    "ax.set_xlim(-2, 2)\n",
    "#ax.set_ylim(-2, 2)\n",
    "ax.grid()\n",
    "ax.set_aspect(1)"
   ]
  },
  {
   "cell_type": "markdown",
   "id": "4c6fdb6b-842a-4eeb-bdf8-650ea7d32c3d",
   "metadata": {},
   "source": [
    "# SVD"
   ]
  },
  {
   "cell_type": "code",
   "execution_count": 0,
   "id": "721996b2-6f50-4950-9c37-e79b2ebf5c8a",
   "metadata": {},
   "outputs": [],
   "source": [
    "X = np.random.uniform(size=(10, 100))\n",
    "X.shape"
   ]
  },
  {
   "cell_type": "code",
   "execution_count": 0,
   "id": "facd68f7-e50b-400e-a9a6-4d2b40500042",
   "metadata": {},
   "outputs": [],
   "source": [
    "C = X.T @ X\n",
    "C.shape"
   ]
  },
  {
   "cell_type": "code",
   "execution_count": 0,
   "id": "6618bb85-b812-4953-84ff-b3ba1e6dd2b0",
   "metadata": {},
   "outputs": [],
   "source": [
    "l, E = np.linalg.eigh(C)\n",
    "l.shape, E.shape"
   ]
  },
  {
   "cell_type": "code",
   "execution_count": 0,
   "id": "0eba7804-38fe-46b5-ab34-ff7b2b7f640d",
   "metadata": {},
   "outputs": [],
   "source": [
    "np.sqrt(l[np.argsort(l)[::-1]][:10])"
   ]
  },
  {
   "cell_type": "code",
   "execution_count": 0,
   "id": "f51a5541-fd86-4680-b5cf-0297dd926399",
   "metadata": {},
   "outputs": [],
   "source": [
    "U, S, Vt = np.linalg.svd(X)\n",
    "U.shape, S.shape, Vt.shape"
   ]
  },
  {
   "cell_type": "code",
   "execution_count": 0,
   "id": "3a9ac544-c993-4d68-ad14-276bfaab8c2a",
   "metadata": {},
   "outputs": [],
   "source": [
    "S"
   ]
  },
  {
   "cell_type": "code",
   "execution_count": 0,
   "id": "08f02489-b90a-4015-bbf6-00b150b0384e",
   "metadata": {},
   "outputs": [],
   "source": [
    "E / Vt.T"
   ]
  },
  {
   "cell_type": "code",
   "execution_count": 0,
   "id": "9aeef13f-2e79-4ccd-9a82-d39bf511637c",
   "metadata": {},
   "outputs": [],
   "source": [
    "(X @ Vt.T)[0]"
   ]
  },
  {
   "cell_type": "code",
   "execution_count": 0,
   "id": "4d4f5d44-4127-4ca3-bcbb-423f3ec3c1a7",
   "metadata": {},
   "outputs": [],
   "source": [
    "(X @ E)[0]"
   ]
  },
  {
   "cell_type": "code",
   "execution_count": 0,
   "id": "f965839d-9d16-4f85-ba79-f4fc96affd70",
   "metadata": {},
   "outputs": [],
   "source": []
  }
 ],
 "metadata": {
  "kernelspec": {
   "display_name": "Python 3 [astro-dnn]",
   "language": "python",
   "name": "python3-astro-dnn"
  },
  "language_info": {
   "codemirror_mode": {
    "name": "ipython",
    "version": 3
   },
   "file_extension": ".py",
   "mimetype": "text/x-python",
   "name": "python",
   "nbconvert_exporter": "python",
   "pygments_lexer": "ipython3",
   "version": "3.7.6"
  }
 },
 "nbformat": 4,
 "nbformat_minor": 5
}