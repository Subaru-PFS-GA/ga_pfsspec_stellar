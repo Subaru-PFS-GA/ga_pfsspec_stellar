{
 "cells": [
  {
   "cell_type": "code",
   "execution_count": 0,
   "id": "f12d0449-a297-40ac-af53-b731f4308ed5",
   "metadata": {},
   "outputs": [],
   "source": [
    "PCA_GRID_PATH = '/datascope/subaru/data/pfsspec/models/stellar/rbf/phoenix/phoenix_HiRes_GK/pca_none_02'"
   ]
  },
  {
   "cell_type": "code",
   "execution_count": 0,
   "id": "ae4dc4dc-9a15-4377-a33b-5c9261e927dd",
   "metadata": {},
   "outputs": [],
   "source": [
    "import os\n",
    "import h5py\n",
    "import numpy as np\n",
    "import matplotlib.pyplot as plt"
   ]
  },
  {
   "cell_type": "markdown",
   "id": "9e4a5746-d3d8-4e58-a98e-409df319f471",
   "metadata": {},
   "source": [
    "# Load data and run PCA"
   ]
  },
  {
   "cell_type": "code",
   "execution_count": 0,
   "id": "f942c5a4-1bf4-4c87-99b7-2c816bfe61a7",
   "metadata": {},
   "outputs": [],
   "source": [
    "fn = os.path.join(PCA_GRID_PATH, 'spectra.h5')\n",
    "with h5py.File(fn, 'r') as f:\n",
    "    X = f['x'][()]\n",
    "    W = f['w'][()]"
   ]
  },
  {
   "cell_type": "code",
   "execution_count": 0,
   "id": "879967d7-d416-4e2b-8b8e-f858feedbedf",
   "metadata": {},
   "outputs": [],
   "source": [
    "W.shape, X.shape"
   ]
  },
  {
   "cell_type": "code",
   "execution_count": 0,
   "id": "0c5ce7af-4476-40f1-bb1e-e9334f6d42ac",
   "metadata": {},
   "outputs": [],
   "source": [
    "# Calculate the weighted data matrix\n",
    "\n",
    "# TODO: normalization is wrong in the code\n",
    "\n",
    "mask = (W > 0)\n",
    "WX = np.sqrt(W[mask][:, np.newaxis]) * X[mask]\n",
    "\n",
    "####WX /= np.sum(np.sqrt(W[mask]))\n",
    "\n",
    "WX.shape"
   ]
  },
  {
   "cell_type": "code",
   "execution_count": 0,
   "id": "33bc3725-8c1e-443e-97b8-7f68cef54e54",
   "metadata": {},
   "outputs": [],
   "source": [
    "# Calculate weighted mean\n",
    "\n",
    "# TODO: weighted mean is wrong in the code, should be sqrt(W)\n",
    "\n",
    "M = np.mean(WX, axis=0)\n",
    "M.shape"
   ]
  },
  {
   "cell_type": "code",
   "execution_count": 0,
   "id": "fc20f195-610f-4b4b-a3b1-e8b8d64297bc",
   "metadata": {},
   "outputs": [],
   "source": [
    "plt.plot(M, lw=0.2)"
   ]
  },
  {
   "cell_type": "code",
   "execution_count": 0,
   "id": "c6652148-1f3c-4e2f-b637-808639abe73d",
   "metadata": {},
   "outputs": [],
   "source": [
    "# Run the full SVD\n",
    "_, S, Vh = np.linalg.svd(WX - M, full_matrices=False)\n",
    "S.shape, Vh.shape"
   ]
  },
  {
   "cell_type": "code",
   "execution_count": 0,
   "id": "d5fb2bff-df94-43f4-b1e4-451886b0a19f",
   "metadata": {},
   "outputs": [],
   "source": [
    "WX.shape"
   ]
  },
  {
   "cell_type": "code",
   "execution_count": 0,
   "id": "483282f2-9b43-4a75-894e-897a2ff0d5f5",
   "metadata": {},
   "outputs": [],
   "source": [
    "plt.plot(1 + np.arange(S.size), np.log10(np.cumsum(S[::-1]**2)[::-1]/np.sum(S**2)))\n",
    "plt.semilogx()\n",
    "plt.grid()"
   ]
  },
  {
   "cell_type": "code",
   "execution_count": 0,
   "id": "08689ce5-2d82-43d2-91f8-7a19706bc75b",
   "metadata": {},
   "outputs": [],
   "source": [
    "plt.plot(Vh[0], lw=0.2)\n",
    "plt.plot(Vh[1], lw=0.2)"
   ]
  },
  {
   "cell_type": "code",
   "execution_count": 0,
   "id": "bac10207-e45b-4468-af0b-0a9d3c9429e4",
   "metadata": {},
   "outputs": [],
   "source": [
    "np.dot(Vh[0], Vh[1])"
   ]
  },
  {
   "cell_type": "code",
   "execution_count": 0,
   "id": "8dfc65f5-96ea-429e-b93b-0c0eccc443b8",
   "metadata": {},
   "outputs": [],
   "source": []
  },
  {
   "cell_type": "markdown",
   "id": "5e6274cd-a2c4-49db-b368-93ae699222d7",
   "metadata": {},
   "source": [
    "# Calculate the PCs"
   ]
  },
  {
   "cell_type": "code",
   "execution_count": 0,
   "id": "55604ecb-3fb4-4565-83c4-5f1d6eabe914",
   "metadata": {},
   "outputs": [],
   "source": [
    "# Calculate the PCs, no weights here!\n",
    "PC = np.matmul(X - M, Vh.T)\n",
    "#PC = np.dot(X - M, Vh.T)\n",
    "PC.shape"
   ]
  },
  {
   "cell_type": "code",
   "execution_count": 0,
   "id": "d8e00a23-2f03-49f0-b537-8fa959f5b776",
   "metadata": {},
   "outputs": [],
   "source": [
    "PC"
   ]
  },
  {
   "cell_type": "markdown",
   "id": "e7678fb1-7fc7-4b84-b334-8f24431a078e",
   "metadata": {},
   "source": [
    "# Truncate and calculate residuals"
   ]
  },
  {
   "cell_type": "code",
   "execution_count": 0,
   "id": "63f0f587-0b95-4488-91c4-8f78b3ae1ab3",
   "metadata": {},
   "outputs": [],
   "source": [
    "K = 2000"
   ]
  },
  {
   "cell_type": "code",
   "execution_count": 0,
   "id": "081b755b-3fe0-42d0-bf2b-15ff64c5dffb",
   "metadata": {},
   "outputs": [],
   "source": [
    "Y = np.dot(PC[:, :K], Vh[:K, :]) + M\n",
    "Y.shape"
   ]
  },
  {
   "cell_type": "code",
   "execution_count": 0,
   "id": "9622a968-1bf5-4c0c-8f1a-9a0a535bb091",
   "metadata": {},
   "outputs": [],
   "source": [
    "plt.plot(X[0], lw=0.2)\n",
    "plt.plot(Y[0], lw=0.2)"
   ]
  },
  {
   "cell_type": "code",
   "execution_count": 0,
   "id": "af0d2e07-cd8b-4659-9088-4cc10344ed32",
   "metadata": {},
   "outputs": [],
   "source": [
    "plt.plot(X[0] - Y[0], lw=0.2)"
   ]
  },
  {
   "cell_type": "code",
   "execution_count": 0,
   "id": "d8efa12b-2d9a-4d18-94a4-dbbe5ddb91fa",
   "metadata": {},
   "outputs": [],
   "source": [
    "R = X - Y\n",
    "R.shape"
   ]
  },
  {
   "cell_type": "code",
   "execution_count": 0,
   "id": "35917b3f-f016-4388-9d81-4ac12e7915ce",
   "metadata": {},
   "outputs": [],
   "source": [
    "# R = np.dot(PC[:, K:], Vh[K:, :])\n",
    "# R.shape"
   ]
  },
  {
   "cell_type": "code",
   "execution_count": 0,
   "id": "7f8b7b9f-b2a4-425d-b4fb-732f1d7afdfb",
   "metadata": {},
   "outputs": [],
   "source": [
    "# This has a weight of 1\n",
    "\n",
    "plt.plot(R[0], lw=0.2)"
   ]
  },
  {
   "cell_type": "code",
   "execution_count": 0,
   "id": "bf990ffc-aacd-40a3-a722-c885b9342613",
   "metadata": {},
   "outputs": [],
   "source": [
    "# This has a weight of 0\n",
    "\n",
    "plt.plot(R[-1], lw=0.2)"
   ]
  },
  {
   "cell_type": "code",
   "execution_count": 0,
   "id": "4e6e0b56-ae3d-424e-9349-ae9536b7aa59",
   "metadata": {},
   "outputs": [],
   "source": [
    "hist, bins = np.histogram(R[0], bins=100)\n",
    "plt.plot(bins[:-1], hist)\n",
    "plt.grid()"
   ]
  },
  {
   "cell_type": "code",
   "execution_count": 0,
   "id": "5f8429f3-1ced-45c8-9289-98ee0c0bb74d",
   "metadata": {},
   "outputs": [],
   "source": [
    "hist, bins = np.histogram(R[mask, 22000], bins=100)\n",
    "plt.plot(bins[:-1], hist)\n",
    "\n",
    "#hist, bins = np.histogram(R[~mask, 5000], bins=100)\n",
    "#plt.plot(bins[:-1], hist)\n",
    "\n",
    "plt.grid()"
   ]
  },
  {
   "cell_type": "code",
   "execution_count": 0,
   "id": "8d531b02-7ea9-4ba1-a95e-98cde93c1c6c",
   "metadata": {},
   "outputs": [],
   "source": [
    "plt.plot(R[mask].std(axis=0), lw=0.2)"
   ]
  },
  {
   "cell_type": "code",
   "execution_count": 0,
   "id": "298558d0-7acf-49c8-a789-925ffe25a59a",
   "metadata": {},
   "outputs": [],
   "source": [
    "plt.plot(R[~mask].std(axis=0), lw=0.2)"
   ]
  },
  {
   "cell_type": "markdown",
   "id": "cae5c1c4-e79d-418c-8dff-795c91fe547b",
   "metadata": {
    "jp-MarkdownHeadingCollapsed": true,
    "tags": []
   },
   "source": [
    "# Calculate the residuals using projectors"
   ]
  },
  {
   "cell_type": "code",
   "execution_count": 0,
   "id": "a2690bdf-c2d3-4444-a5a4-d9d4398e4a52",
   "metadata": {},
   "outputs": [],
   "source": [
    "# Calculate the PCs using the projector\n",
    "P = np.matmul(Vh[:K, :].T, Vh[:K, :])\n",
    "P.shape"
   ]
  },
  {
   "cell_type": "code",
   "execution_count": 0,
   "id": "e0274d7a-bfbf-4c89-903d-591f549deaa4",
   "metadata": {},
   "outputs": [],
   "source": [
    "Q = np.eye(P.shape[0]) - P"
   ]
  },
  {
   "cell_type": "code",
   "execution_count": 0,
   "id": "880baa15-4f3a-4499-bd20-f4a9b3051d39",
   "metadata": {},
   "outputs": [],
   "source": [
    "RR = np.matmul(Q, (X - M).T)\n",
    "RR.shape"
   ]
  },
  {
   "cell_type": "code",
   "execution_count": 0,
   "id": "a67a37d3-43b1-4f22-b4b1-077b586ed4aa",
   "metadata": {},
   "outputs": [],
   "source": [
    "plt.plot(RR[:, 0], lw=0.2)"
   ]
  },
  {
   "cell_type": "markdown",
   "id": "eb67322d-64ff-432e-a21d-a28409539bf5",
   "metadata": {},
   "source": [
    "# Error vector from the original full SVD\n",
    "\n",
    "$ C = \\frac{1}{n - 1} X^T X $\n",
    "\n",
    "$ X = U S V^T $\n",
    "\n",
    "$ C = \\frac{1}{n - 1} V S^2 V^T = E \\Lambda E^T $\n",
    "\n",
    "$ E = V $\n",
    "\n",
    "$ \\Lambda = \\frac{1}{n - 1} S^2 $\n",
    "\n",
    "Leftover variance"
   ]
  },
  {
   "cell_type": "code",
   "execution_count": 0,
   "id": "1fa1d541-4d2e-41f7-bf15-2aabaaa93d9a",
   "metadata": {},
   "outputs": [],
   "source": [
    "K, WX.shape[0], X.shape[0]"
   ]
  },
  {
   "cell_type": "code",
   "execution_count": 0,
   "id": "e3726be5-a79c-415c-8162-c1925a6c82f8",
   "metadata": {},
   "outputs": [],
   "source": [
    "W"
   ]
  },
  {
   "cell_type": "code",
   "execution_count": 0,
   "id": "e70a628e-49ca-43c8-a82e-bd709d274bb1",
   "metadata": {},
   "outputs": [],
   "source": [
    "plt.plot(WX[0], lw=0.2)\n",
    "plt.plot(WX[1], lw=0.2)"
   ]
  },
  {
   "cell_type": "code",
   "execution_count": 0,
   "id": "61fd6da2-238a-4ad8-8aa9-f75b728fb74a",
   "metadata": {},
   "outputs": [],
   "source": [
    "# Eigenvalues of C from singular values of WX\n",
    "\n",
    "L = 1 / (WX.shape[0] - 1) * S**2"
   ]
  },
  {
   "cell_type": "code",
   "execution_count": 0,
   "id": "1c768e1f-ee3b-456c-867e-1d382ba01eda",
   "metadata": {},
   "outputs": [],
   "source": [
    "L"
   ]
  },
  {
   "cell_type": "code",
   "execution_count": 0,
   "id": "64eb5d65-e405-4249-b80b-bc3861b4be1d",
   "metadata": {},
   "outputs": [],
   "source": [
    "# sigma = np.sqrt(np.sum((1 / (X.shape[0] - 1) * S[:, np.newaxis]**2 * Vh**2)[K:], axis=0))\n",
    "sigma = np.sqrt(np.sum((L[:, np.newaxis] * Vh**2)[K:], axis=0))\n",
    "sigma.shape"
   ]
  },
  {
   "cell_type": "code",
   "execution_count": 0,
   "id": "0494f77c-161a-45ba-bbfd-37c3b30ed755",
   "metadata": {},
   "outputs": [],
   "source": [
    "f, ax = plt.subplots(1, 1, figsize=(8, 5), dpi=120)\n",
    "\n",
    "#ax.plot(sigma, lw=0.2)\n",
    "ax.plot(R[mask].std(axis=0), lw=0.2)\n",
    "\n",
    "#ax.plot(sigma - R[mask].std(axis=0), lw=0.2)"
   ]
  },
  {
   "cell_type": "code",
   "execution_count": 0,
   "id": "d481afe3-86b3-42f5-808b-97eeb2a61b65",
   "metadata": {},
   "outputs": [],
   "source": [
    "f, ax = plt.subplots(1, 1, figsize=(8, 5), dpi=120)\n",
    "\n",
    "ax.plot(R.std(axis=0), lw=0.2)\n",
    "ax.plot(R[mask].std(axis=0), lw=0.2)\n",
    "#ax.plot(R[~mask].std(axis=0), lw=0.2)"
   ]
  },
  {
   "cell_type": "code",
   "execution_count": 0,
   "id": "a9c0061e-becd-4c8c-9256-c835273dd484",
   "metadata": {},
   "outputs": [],
   "source": [
    "mask2 = np.abs(R) > 2.5e-4\n",
    "R2 = R.copy()\n",
    "R2[mask2] = np.nan"
   ]
  },
  {
   "cell_type": "code",
   "execution_count": 0,
   "id": "f7cbd297-6e30-42eb-9e96-e4b527961b2b",
   "metadata": {},
   "outputs": [],
   "source": [
    "f, ax = plt.subplots(1, 1, figsize=(8, 5), dpi=120)\n",
    "\n",
    "#ax.plot(R.std(axis=0), lw=0.2)\n",
    "ax.plot(np.nanstd(R2, axis=0), lw=0.2)\n",
    "ax.plot(R[mask].std(axis=0), lw=0.2)"
   ]
  },
  {
   "cell_type": "markdown",
   "id": "8c56bcfe-f825-40a7-98a9-b7d125ec8e7e",
   "metadata": {},
   "source": [
    "# Error vector from the residual matrix"
   ]
  },
  {
   "cell_type": "code",
   "execution_count": 0,
   "id": "d4aaab00-0166-43ea-b900-6e246cb3b4f0",
   "metadata": {},
   "outputs": [],
   "source": [
    "R.shape"
   ]
  },
  {
   "cell_type": "code",
   "execution_count": 0,
   "id": "88ac35a9-fc1e-4590-9690-7f03e18ea261",
   "metadata": {},
   "outputs": [],
   "source": [
    "RM = R.mean(axis=0)\n",
    "RM.shape"
   ]
  },
  {
   "cell_type": "code",
   "execution_count": 0,
   "id": "929a1797-917e-4ede-96c8-dd0da2f033e7",
   "metadata": {},
   "outputs": [],
   "source": [
    "plt.plot(RM, lw=0.2)"
   ]
  },
  {
   "cell_type": "code",
   "execution_count": 0,
   "id": "d7249ce1-f62b-4781-9c3a-6514012eadde",
   "metadata": {},
   "outputs": [],
   "source": [
    "Rstd = R.std(axis=0)\n",
    "Rstd.shape"
   ]
  },
  {
   "cell_type": "code",
   "execution_count": 0,
   "id": "329f6c67-224c-4347-9aab-8dfca865fede",
   "metadata": {},
   "outputs": [],
   "source": [
    "plt.plot(Rstd, lw=0.2)"
   ]
  },
  {
   "cell_type": "markdown",
   "id": "2a4b49c7-f7bf-4015-bc9f-6de99a35902e",
   "metadata": {},
   "source": [
    "# SVD on the residual matrix"
   ]
  },
  {
   "cell_type": "code",
   "execution_count": 0,
   "id": "bfca0ba7-959a-4416-b2e1-3a20f8ea1b95",
   "metadata": {},
   "outputs": [],
   "source": [
    "_, RS, RVh = np.linalg.svd(R, full_matrices=False)"
   ]
  },
  {
   "cell_type": "code",
   "execution_count": 0,
   "id": "d4c43d83-c680-4c83-9d2d-a3f2a1df0c86",
   "metadata": {},
   "outputs": [],
   "source": [
    "RS.shape, RVh.shape"
   ]
  },
  {
   "cell_type": "code",
   "execution_count": 0,
   "id": "cba0224f-0984-4919-ace5-e597cff965f9",
   "metadata": {},
   "outputs": [],
   "source": [
    "plt.plot(1 + np.arange(RS.size), np.log10(np.cumsum(RS[::-1]**2)[::-1]/np.sum(RS**2)))\n",
    "plt.semilogx()\n",
    "plt.grid()"
   ]
  },
  {
   "cell_type": "code",
   "execution_count": 0,
   "id": "f70f5d4f-278b-42bf-9cbd-9837918efeae",
   "metadata": {},
   "outputs": [],
   "source": [
    "Rsigma = np.sum((RS[:, np.newaxis] * RVh**2), axis=0)\n",
    "Rsigma.shape"
   ]
  },
  {
   "cell_type": "code",
   "execution_count": 0,
   "id": "e21c0572-8f1c-472d-8846-ffcd3ff3c7c4",
   "metadata": {},
   "outputs": [],
   "source": [
    "plt.plot(Rsigma, lw=0.2)"
   ]
  },
  {
   "cell_type": "code",
   "execution_count": 0,
   "id": "a6581519-8aa8-4669-9494-c7092386d1fc",
   "metadata": {},
   "outputs": [],
   "source": []
  }
 ],
 "metadata": {
  "kernelspec": {
   "display_name": "Python 3 [astro-dnn]",
   "language": "python",
   "name": "python3-astro-dnn"
  },
  "language_info": {
   "codemirror_mode": {
    "name": "ipython",
    "version": 3
   },
   "file_extension": ".py",
   "mimetype": "text/x-python",
   "name": "python",
   "nbconvert_exporter": "python",
   "pygments_lexer": "ipython3",
   "version": "3.7.6"
  }
 },
 "nbformat": 4,
 "nbformat_minor": 5
}