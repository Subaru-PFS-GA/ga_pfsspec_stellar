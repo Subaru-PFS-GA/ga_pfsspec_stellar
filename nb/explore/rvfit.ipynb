{
 "cells": [
  {
   "cell_type": "code",
   "execution_count": 0,
   "metadata": {},
   "outputs": [],
   "source": [
    "PROJECT_PATH = '/home/dobos/project/ga_isochrones/python:' + \\\n",
    "    '/home/dobos/project/ga_pfsspec_all/python:' + \\\n",
    "    '/home/dobos/project/pysynphot'\n",
    "\n",
    "GRID_PATH = '/datascope/subaru/data/pfsspec/models/stellar/grid/phoenix/phoenix_HiRes'\n",
    "FILTER_PATH = '/datascope/subaru/data/pfsspec/subaru/hsc/filters/fHSC-g.txt'\n",
    "\n",
    "ARM = 'mr'\n",
    "\n",
    "DETECTOR_PATH = '/datascope/subaru/data/pfsspec/subaru/pfs/arms/{}.json'.format(ARM)\n",
    "PSF_PATH = '/datascope/subaru/data/pfsspec/subaru/pfs/psf/import/{}.2/pca.h5'.format(ARM)\n",
    "SKY_PATH = '/datascope/subaru/data/pfsspec/subaru/pfs/noise/import/sky.see/{}/sky.h5'.format(ARM)\n",
    "MOON_PATH = '/datascope/subaru/data/pfsspec/subaru/pfs/noise/import/moon/{}/moon.h5'.format(ARM)"
   ]
  },
  {
   "cell_type": "markdown",
   "metadata": {},
   "source": [
    "# Radial Velocity fit\n",
    "\n",
    "Demo code to perform maximum likelihood analysis of\n",
    "radial velociy measurements between a spectrum and a\n",
    "given template, drawn from the BOSZ models."
   ]
  },
  {
   "cell_type": "code",
   "execution_count": 0,
   "metadata": {},
   "outputs": [],
   "source": [
    "import os\n",
    "import sys\n",
    "import numpy as np\n",
    "import pandas as pd\n",
    "import matplotlib as mpl\n",
    "import matplotlib.pyplot as plt\n",
    "from matplotlib.ticker import AutoMinorLocator, MultipleLocator\n",
    "from scipy.interpolate import interp1d\n",
    "import h5py as h5"
   ]
  },
  {
   "cell_type": "code",
   "execution_count": 0,
   "metadata": {},
   "outputs": [],
   "source": [
    "# Allow load project as module\n",
    "for p in reversed(PROJECT_PATH.split(':')):\n",
    "    sys.path.insert(0, p)"
   ]
  },
  {
   "cell_type": "markdown",
   "metadata": {},
   "source": [
    "## Load spectrum grid"
   ]
  },
  {
   "cell_type": "code",
   "execution_count": 0,
   "metadata": {},
   "outputs": [],
   "source": [
    "from pfs.ga.pfsspec.core.grid import ArrayGrid\n",
    "from pfs.ga.pfsspec.stellar.grid import ModelGrid\n",
    "from pfs.ga.pfsspec.stellar.grid.bosz import Bosz\n",
    "from pfs.ga.pfsspec.stellar.grid.phoenix import Phoenix"
   ]
  },
  {
   "cell_type": "code",
   "execution_count": 0,
   "metadata": {},
   "outputs": [],
   "source": [
    "fn = os.path.join(GRID_PATH, 'spectra.h5')\n",
    "grid = ModelGrid(Phoenix(), ArrayGrid)\n",
    "grid.preload_arrays = False\n",
    "grid.load(fn, format='h5')"
   ]
  },
  {
   "cell_type": "markdown",
   "metadata": {},
   "source": [
    "## Simulated observation"
   ]
  },
  {
   "cell_type": "code",
   "execution_count": 0,
   "metadata": {},
   "outputs": [],
   "source": [
    "from pfs.ga.pfsspec.core import Filter\n",
    "from pfs.ga.pfsspec.sim.obsmod.pipelines import StellarModelPipeline\n",
    "from pfs.ga.pfsspec.core import Physics\n",
    "from pfs.ga.pfsspec.core.psf import PcaPsf\n",
    "from pfs.ga.pfsspec.sim.obsmod import Detector\n",
    "from pfs.ga.pfsspec.sim.obsmod import Sky\n",
    "from pfs.ga.pfsspec.sim.obsmod import Moon"
   ]
  },
  {
   "cell_type": "code",
   "execution_count": 0,
   "metadata": {},
   "outputs": [],
   "source": [
    "filt_hsc_g = Filter()\n",
    "filt_hsc_g.read(FILTER_PATH)\n",
    "\n",
    "psf = PcaPsf()\n",
    "psf.load(PSF_PATH)\n",
    "\n",
    "detector = Detector()\n",
    "detector.load_json(DETECTOR_PATH)\n",
    "detector.psf = psf\n",
    "\n",
    "sky = Sky()\n",
    "sky.load(SKY_PATH, format='h5')\n",
    "\n",
    "moon = Moon()\n",
    "moon.load(MOON_PATH, format='h5')"
   ]
  },
  {
   "cell_type": "code",
   "execution_count": 0,
   "metadata": {},
   "outputs": [],
   "source": [
    "from pfs.ga.pfsspec.sim.obsmod.observations import PfsObservation"
   ]
  },
  {
   "cell_type": "code",
   "execution_count": 0,
   "metadata": {},
   "outputs": [],
   "source": [
    "obs = PfsObservation()\n",
    "obs.detector = detector\n",
    "obs.sky = sky\n",
    "obs.moon = moon"
   ]
  },
  {
   "cell_type": "code",
   "execution_count": 0,
   "metadata": {},
   "outputs": [],
   "source": [
    "pp = StellarModelPipeline()\n",
    "\n",
    "pp.model_res = grid.resolution or 150000\n",
    "pp.mag_filter = filt_hsc_g\n",
    "pp.observation = obs"
   ]
  },
  {
   "cell_type": "code",
   "execution_count": 0,
   "metadata": {},
   "outputs": [],
   "source": [
    "def get_observation(rv=0.0, **kwargs):\n",
    "    \"\"\"\n",
    "    Generate a spectrum and calculate the variance (sigma) of realistic observational error.\n",
    "    \"\"\"\n",
    "\n",
    "    args = {\n",
    "        'mag': 22,\n",
    "        'seeing': 0.5,\n",
    "        'exp_time': 15 * 60,\n",
    "        'exp_count': 4 * 3,\n",
    "        'target_zenith_angle': 0,\n",
    "        'target_field_angle': 0.0,\n",
    "        'moon_zenith_angle': 45,\n",
    "        'moon_target_angle': 60,\n",
    "        'moon_phase': 0.,\n",
    "        'redshift': Physics.vel_to_z(rv) \n",
    "    }\n",
    "\n",
    "    idx = grid.get_nearest_index(**kwargs)\n",
    "    spec = grid.get_model_at(idx)\n",
    "    pp.run(spec, **args)\n",
    "\n",
    "    return idx, spec\n",
    "\n",
    "def get_template(convolve=True, **kwargs):\n",
    "    \"\"\"\n",
    "    Generate a noiseless template spectrum with same line spread function as the\n",
    "    observation but keep the original, high-resolution binning.\n",
    "    \"\"\"\n",
    "\n",
    "    # TODO: add template caching\n",
    "\n",
    "    idx = grid.get_nearest_index(**kwargs)\n",
    "    temp = grid.get_model_at(idx)\n",
    "    temp.cont = None        # Make sure it's not passed around for better performance\n",
    "    temp.mask = None\n",
    "\n",
    "    if convolve:\n",
    "        temp.convolve_psf(psf)\n",
    "\n",
    "    return idx, temp\n"
   ]
  },
  {
   "cell_type": "code",
   "execution_count": 0,
   "metadata": {},
   "outputs": [],
   "source": [
    "rv = 310.0\n",
    "M_H = -0.5\n",
    "T_eff = 5500\n",
    "log_g = 1.0\n",
    "a_M = 0.0\n",
    "\n",
    "idx, spec = get_observation(rv=rv, M_H=M_H, T_eff=T_eff, log_g=log_g, a_M=a_M)\n",
    "_, temp = get_template(M_H=M_H, T_eff=T_eff, log_g=log_g, a_M=a_M)\n",
    "\n",
    "f, ax = plt.subplots(1, 1, figsize=(3.4, 2.5), dpi=240)\n",
    "\n",
    "ax.plot(spec.wave, spec.flux, '-', lw=0.3)\n",
    "ax.plot(spec.wave, spec.flux_err, '-', lw=0.3)\n",
    "ax.set_ylim(0, None)\n",
    "\n",
    "f, ax = plt.subplots(1, 1, figsize=(3.4, 2.5), dpi=240)\n",
    "\n",
    "ax.plot(spec.wave, spec.flux + spec.flux_err * np.random.normal(size=spec.flux.shape), '-', lw=0.3)\n",
    "ax.plot(spec.wave, spec.flux, '-', lw=0.3)\n",
    "ax.set_xlim(0.99 * spec.wave.min(), 1.01 * spec.wave.max())\n",
    "ax.set_ylim(0, np.quantile(spec.flux, 0.99) * 1.2)"
   ]
  },
  {
   "cell_type": "markdown",
   "metadata": {},
   "source": [
    "## Radial velocity"
   ]
  },
  {
   "cell_type": "code",
   "execution_count": 0,
   "metadata": {},
   "outputs": [],
   "source": [
    "from pfs.ga.pfsspec.stellar.rvfit import RVFit"
   ]
  },
  {
   "cell_type": "code",
   "execution_count": 0,
   "metadata": {},
   "outputs": [],
   "source": [
    "rvfit = RVFit()\n",
    "rvfit.grid = grid\n",
    "rvfit.psf = psf"
   ]
  },
  {
   "cell_type": "code",
   "execution_count": 0,
   "metadata": {},
   "outputs": [],
   "source": [
    "# Calculate log likelihood as a function of rv around the real value\n",
    "\n",
    "rvv = np.linspace(-300, 300, 31) + rv\n",
    "log_L, _, _ = rvfit.get_log_L(spec, temp, rv=rvv)\n",
    "\n",
    "# Fit a Lorentz profile\n",
    "\n",
    "pp, _ = rvfit.fit_lorentz(rvv, log_L)\n",
    "lor = rvfit.lorentz(rvv, *pp)\n",
    "\n",
    "# Run full fitting\n",
    "\n",
    "best_rv = rvfit.fit_rv(spec, temp)"
   ]
  },
  {
   "cell_type": "code",
   "execution_count": 0,
   "metadata": {},
   "outputs": [],
   "source": [
    "f, ax = plt.subplots(1, 1, figsize=(3.4, 2.5), dpi=240)\n",
    "\n",
    "ax.plot(rvv, log_L)\n",
    "ax.plot(rvv, lor)\n",
    "ax.axvline(rv, c='k')\n",
    "ax.axvline(best_rv, c='r')"
   ]
  },
  {
   "cell_type": "code",
   "execution_count": 0,
   "metadata": {},
   "outputs": [],
   "source": []
  }
 ],
 "metadata": {
  "kernelspec": {
   "display_name": "Python 3.7.6 ('astro-dnn')",
   "language": "python",
   "name": "python3"
  },
  "language_info": {
   "codemirror_mode": {
    "name": "ipython",
    "version": 3
   },
   "file_extension": ".py",
   "mimetype": "text/x-python",
   "name": "python",
   "nbconvert_exporter": "python",
   "pygments_lexer": "ipython3",
   "version": "3.7.6"
  },
  "vscode": {
   "interpreter": {
    "hash": "5a67ff4efb25b8aabbb759a9c23213a4102b92e186db45108ff57ab5b324cee0"
   }
  }
 },
 "nbformat": 4,
 "nbformat_minor": 2
}