{
 "cells": [
  {
   "cell_type": "code",
   "execution_count": 0,
   "metadata": {},
   "outputs": [],
   "source": [
    "PROJECT_PATH = '/home/dobos/project/ga_isochrones/python:' + \\\n",
    "    '/home/dobos/project/ga_pfsspec_all/python:' + \\\n",
    "    '/home/dobos/project/pysynphot'\n",
    "\n",
    "GRID_PATH = '/datascope/subaru/data/pfsspec/models/stellar/grid/phoenix/phoenix_HiRes'\n",
    "FILTER_PATH = '/datascope/subaru/data/pfsspec/subaru/hsc/filters/fHSC-g.txt'\n",
    "\n",
    "ARM = 'mr'\n",
    "\n",
    "DETECTOR_PATH = '/datascope/subaru/data/pfsspec/subaru/pfs/arms/{}.json'.format(ARM)\n",
    "PSF_PATH = '/datascope/subaru/data/pfsspec/subaru/pfs/psf/import/{}.2/pca.h5'.format(ARM)\n",
    "SKY_PATH = '/datascope/subaru/data/pfsspec/subaru/pfs/noise/import/sky.see/{}/sky.h5'.format(ARM)\n",
    "MOON_PATH = '/datascope/subaru/data/pfsspec/subaru/pfs/noise/import/moon/{}/moon.h5'.format(ARM)"
   ]
  },
  {
   "cell_type": "markdown",
   "metadata": {},
   "source": [
    "# Radial Velocity fit\n",
    "\n",
    "Demo code to perform maximum likelihood analysis of\n",
    "radial velociy measurements between a spectrum and a\n",
    "given template, drawn from the BOSZ models."
   ]
  },
  {
   "cell_type": "code",
   "execution_count": 0,
   "metadata": {},
   "outputs": [],
   "source": [
    "import os\n",
    "import sys\n",
    "import numpy as np\n",
    "import pandas as pd\n",
    "import matplotlib as mpl\n",
    "import matplotlib.pyplot as plt\n",
    "from matplotlib.ticker import AutoMinorLocator, MultipleLocator\n",
    "from scipy.interpolate import interp1d\n",
    "import h5py as h5\n",
    "from tqdm.notebook import trange, tqdm"
   ]
  },
  {
   "cell_type": "code",
   "execution_count": 0,
   "metadata": {},
   "outputs": [],
   "source": [
    "plt.rc('font', size=7)"
   ]
  },
  {
   "cell_type": "code",
   "execution_count": 0,
   "metadata": {},
   "outputs": [],
   "source": [
    "# Allow load project as module\n",
    "for p in reversed(PROJECT_PATH.split(':')):\n",
    "    sys.path.insert(0, p)"
   ]
  },
  {
   "cell_type": "markdown",
   "metadata": {},
   "source": [
    "## Load spectrum grid"
   ]
  },
  {
   "cell_type": "code",
   "execution_count": 0,
   "metadata": {},
   "outputs": [],
   "source": [
    "from pfs.ga.pfsspec.core.grid import ArrayGrid\n",
    "from pfs.ga.pfsspec.stellar.grid import ModelGrid\n",
    "from pfs.ga.pfsspec.stellar.grid.bosz import Bosz\n",
    "from pfs.ga.pfsspec.stellar.grid.phoenix import Phoenix"
   ]
  },
  {
   "cell_type": "code",
   "execution_count": 0,
   "metadata": {},
   "outputs": [],
   "source": [
    "fn = os.path.join(GRID_PATH, 'spectra.h5')\n",
    "grid = ModelGrid(Phoenix(), ArrayGrid)\n",
    "grid.preload_arrays = False\n",
    "grid.load(fn, format='h5')"
   ]
  },
  {
   "cell_type": "markdown",
   "metadata": {},
   "source": [
    "## Simulated observation"
   ]
  },
  {
   "cell_type": "code",
   "execution_count": 0,
   "metadata": {},
   "outputs": [],
   "source": [
    "from pfs.ga.pfsspec.core import Filter\n",
    "from pfs.ga.pfsspec.sim.obsmod.pipelines import StellarModelPipeline\n",
    "from pfs.ga.pfsspec.core import Physics\n",
    "from pfs.ga.pfsspec.core.obsmod.psf import PcaPsf\n",
    "from pfs.ga.pfsspec.sim.obsmod import Detector\n",
    "from pfs.ga.pfsspec.sim.obsmod.background import Sky\n",
    "from pfs.ga.pfsspec.sim.obsmod.background import Moon\n",
    "from pfs.ga.pfsspec.core.obsmod.snr import QuantileSnr"
   ]
  },
  {
   "cell_type": "code",
   "execution_count": 0,
   "metadata": {},
   "outputs": [],
   "source": [
    "filt_hsc_g = Filter()\n",
    "filt_hsc_g.read(FILTER_PATH)\n",
    "\n",
    "psf = PcaPsf()\n",
    "psf.load(PSF_PATH)\n",
    "\n",
    "detector = Detector()\n",
    "detector.load_json(DETECTOR_PATH)\n",
    "detector.psf = psf\n",
    "\n",
    "sky = Sky()\n",
    "sky.load(SKY_PATH, format='h5')\n",
    "\n",
    "moon = Moon()\n",
    "moon.load(MOON_PATH, format='h5')"
   ]
  },
  {
   "cell_type": "code",
   "execution_count": 0,
   "metadata": {},
   "outputs": [],
   "source": [
    "from pfs.ga.pfsspec.sim.obsmod.observations import PfsObservation\n",
    "from pfs.ga.pfsspec.sim.obsmod.noise import NormalNoise\n",
    "from pfs.ga.pfsspec.sim.obsmod.calibration import FluxCalibrationBias\n",
    "from pfs.ga.pfsspec.core.obsmod.resampling import Interp1dResampler"
   ]
  },
  {
   "cell_type": "code",
   "execution_count": 0,
   "metadata": {},
   "outputs": [],
   "source": [
    "obs = PfsObservation()\n",
    "obs.detector = detector\n",
    "obs.sky = sky\n",
    "obs.moon = moon\n",
    "obs.noise_model = NormalNoise()"
   ]
  },
  {
   "cell_type": "code",
   "execution_count": 0,
   "metadata": {},
   "outputs": [],
   "source": [
    "def get_observation(rv=0.0, noise_level=1.0, noise_freeze=True, calib_bias=True, mag=19, **kwargs):\n",
    "    \"\"\"\n",
    "    Generate a spectrum and calculate the variance (sigma) of realistic observational error.\n",
    "    \"\"\"\n",
    "\n",
    "    args = {\n",
    "        'mag': mag,\n",
    "        'seeing': 0.5,\n",
    "        'exp_time': 15 * 60,\n",
    "        'exp_count': 4 * 3,\n",
    "        'target_zenith_angle': 0,\n",
    "        'target_field_angle': 0.0,\n",
    "        'moon_zenith_angle': 45,\n",
    "        'moon_target_angle': 60,\n",
    "        'moon_phase': 0.,\n",
    "        'redshift': Physics.vel_to_z(rv) \n",
    "    }\n",
    "\n",
    "    idx = grid.get_nearest_index(**kwargs)\n",
    "    spec = grid.get_model_at(idx)\n",
    "\n",
    "    pp = StellarModelPipeline()\n",
    "    pp.model_res = grid.resolution or 150000\n",
    "    pp.mag_filter = filt_hsc_g\n",
    "    pp.observation = obs\n",
    "    pp.snr = QuantileSnr(binning=4.0)\n",
    "    pp.resampler = Interp1dResampler()\n",
    "    pp.noise_level = noise_level\n",
    "    pp.noise_freeze = noise_freeze\n",
    "    if calib_bias:\n",
    "        bias = FluxCalibrationBias(reuse_bias=False)\n",
    "        bias.amplitude = 0.25\n",
    "        pp.calibration = bias\n",
    "    pp.run(spec, **args)\n",
    "\n",
    "    return idx, spec, pp\n",
    "\n",
    "def get_template(convolve=True, **kwargs):\n",
    "    \"\"\"\n",
    "    Generate a noiseless template spectrum with same line spread function as the\n",
    "    observation but keep the original, high-resolution binning.\n",
    "    \"\"\"\n",
    "\n",
    "    # TODO: add template caching\n",
    "\n",
    "    idx = grid.get_nearest_index(**kwargs)\n",
    "    temp = grid.get_model_at(idx)\n",
    "    temp.cont = None        # Make sure it's not passed around for better performance\n",
    "    temp.mask = None\n",
    "\n",
    "    if convolve:\n",
    "        temp.convolve_psf(psf)\n",
    "\n",
    "    return idx, temp\n"
   ]
  },
  {
   "cell_type": "code",
   "execution_count": 0,
   "metadata": {},
   "outputs": [],
   "source": [
    "rv = 180.0\n",
    "M_H = -0.5\n",
    "T_eff = 5500\n",
    "log_g = 1.0\n",
    "a_M = 0.0\n",
    "\n",
    "idx, spec, pp = get_observation(rv=rv, M_H=M_H, T_eff=T_eff, log_g=log_g, a_M=a_M)\n",
    "idx, spec1, pp1 = get_observation(rv=rv, M_H=M_H, T_eff=T_eff, log_g=log_g, a_M=a_M, noise_level=0, calib_bias=False)\n",
    "_, temp = get_template(M_H=M_H, T_eff=T_eff, log_g=log_g, a_M=a_M)\n",
    "\n",
    "f, ax = plt.subplots(1, 1, figsize=(3.4, 2.5), dpi=240)\n",
    "\n",
    "ax.plot(spec.wave, spec.flux_model, '-', lw=0.3)\n",
    "ax.plot(spec.wave, spec.flux_err, '-', lw=0.3)\n",
    "ax.set_ylim(0, None)\n",
    "\n",
    "### ###\n",
    "\n",
    "f, ax = plt.subplots(1, 1, figsize=(3.4, 2.5), dpi=240)\n",
    "\n",
    "ax.plot(spec.wave, spec.flux, '-', lw=0.3)\n",
    "ax.plot(spec.wave, spec.flux_model, '-', lw=0.3)\n",
    "ax.plot(spec.wave, spec1.flux, '-', lw=0.3)\n",
    "\n",
    "ax.set_title(f'SNR = {spec.snr:.2f}')\n",
    "\n",
    "ax.set_xlabel(r'$\\lambda$')\n",
    "ax.set_ylabel(r'$F\\_\\lambda$')\n",
    "\n",
    "ax.set_xlim(0.99 * spec.wave.min(), 1.01 * spec.wave.max())\n",
    "ax.set_ylim(0, np.quantile(spec.flux, 0.99) * 1.2)\n",
    "\n",
    "f.tight_layout()\n",
    "\n",
    "#ax.set_xlim(8400, 8700)\n",
    "\n",
    "### ###\n",
    "\n",
    "f, ax = plt.subplots(1, 1, figsize=(3.4, 2.5), dpi=240)\n",
    "\n",
    "ax.plot(spec.wave, spec.flux / spec1.flux, '-', lw=0.3)\n",
    "ax.plot(spec.wave, spec.flux_model / spec1.flux, '-', lw=0.5)\n",
    "\n",
    "ax.set_xlabel(r'$\\lambda$')\n",
    "ax.set_ylabel(r'calibration bias')\n",
    "\n",
    "ax.set_xlim(0.99 * spec.wave.min(), 1.01 * spec.wave.max())\n",
    "ax.set_ylim(0, np.quantile(spec.flux / spec1.flux, 0.99) * 1.2)\n",
    "\n",
    "#ax.set_xlim(8400, 8700)"
   ]
  },
  {
   "cell_type": "markdown",
   "metadata": {},
   "source": [
    "## Radial velocity"
   ]
  },
  {
   "cell_type": "code",
   "execution_count": 0,
   "metadata": {},
   "outputs": [],
   "source": [
    "from pfs.ga.pfsspec.stellar.rvfit import RVFit, RVFitTrace"
   ]
  },
  {
   "cell_type": "code",
   "execution_count": 0,
   "metadata": {},
   "outputs": [],
   "source": [
    "idx, spec, pp = get_observation(calib_bias=True, rv=rv, M_H=M_H, T_eff=T_eff, log_g=log_g, a_M=a_M)\n",
    "_, temp = get_template(M_H=M_H, T_eff=T_eff, log_g=log_g, a_M=a_M)"
   ]
  },
  {
   "cell_type": "code",
   "execution_count": 0,
   "metadata": {},
   "outputs": [],
   "source": [
    "spec.snr"
   ]
  },
  {
   "cell_type": "code",
   "execution_count": 0,
   "metadata": {},
   "outputs": [],
   "source": [
    "rvfit = RVFit(trace=RVFitTrace())\n",
    "rvfit.grid = grid\n",
    "rvfit.psf = psf\n",
    "rvfit.resampler = Interp1dResampler()"
   ]
  },
  {
   "cell_type": "code",
   "execution_count": 0,
   "metadata": {},
   "outputs": [],
   "source": [
    "# Run full fitting\n",
    "best_rv = rvfit.fit_rv(spec, temp, rv_bounds=(100, 300))"
   ]
  },
  {
   "cell_type": "code",
   "execution_count": 0,
   "metadata": {},
   "outputs": [],
   "source": [
    "f, ax = plt.subplots(1, 1, figsize=(3.4, 2.5), dpi=240)\n",
    "\n",
    "ax.plot(rvfit.trace.guess_rv, rvfit.trace.guess_log_L)\n",
    "ax.plot(rvfit.trace.guess_rv, rvfit.trace.guess_fit)\n",
    "ax.axvline(rv, c='k')\n",
    "ax.axvline(best_rv, c='r')\n",
    "\n",
    "ax.set_title(f'SNR = {spec.snr / pp.noise_level}')"
   ]
  },
  {
   "cell_type": "markdown",
   "metadata": {},
   "source": [
    "# Run many realizations"
   ]
  },
  {
   "cell_type": "code",
   "execution_count": 0,
   "metadata": {},
   "outputs": [],
   "source": [
    "from pfs.ga.pfsspec.core.util import SmartParallel\n",
    "from collections.abc import Iterable"
   ]
  },
  {
   "cell_type": "code",
   "execution_count": 0,
   "metadata": {},
   "outputs": [],
   "source": [
    "idx, spec, pp = None, None, None\n",
    "\n",
    "def rvfit_mc_plot(spec, rvfit, rv_gt, rv_fit):\n",
    "    f, axs = plt.subplots(2, 2, figsize=(3.4, 2.5), dpi=240)\n",
    "\n",
    "    # Noiseless spectrum\n",
    "\n",
    "    axs[0, 0].plot(spec.wave, spec.flux_model, '-', lw=0.3)\n",
    "    axs[0, 0].plot(spec.wave, spec.flux_err, '-', lw=0.3)\n",
    "    axs[0, 0].set_ylim(0, None)\n",
    "\n",
    "    # Noisy spectrum\n",
    "\n",
    "    axs[0, 1].plot(spec.wave, spec.flux, '-', lw=0.3)\n",
    "    axs[0, 1].plot(spec.wave, spec.flux_model, '-', lw=0.3)\n",
    "\n",
    "    axs[0, 1].set_xlabel(r'$\\lambda$')\n",
    "    axs[0, 1].set_ylabel(r'$F\\_\\lambda$')\n",
    "\n",
    "    axs[0, 1].set_xlim(0.99 * spec.wave.min(), 1.01 * spec.wave.max())\n",
    "    axs[0, 1].set_ylim(0, np.quantile(spec.flux, 0.99) * 1.2)\n",
    "\n",
    "    # Calibration bias\n",
    "\n",
    "    if spec.flux_calibration is not None:\n",
    "        axs[1, 0].plot(spec.wave, spec.flux_calibration, '-', lw=0.3)\n",
    "\n",
    "    # RV fit\n",
    "\n",
    "    axs[1, 1].plot(rvfit.trace.guess_rv, rvfit.trace.guess_log_L)\n",
    "    axs[1, 1].plot(rvfit.trace.guess_rv, rvfit.trace.guess_fit)\n",
    "    axs[1, 1].axvline(rv, c='k')\n",
    "    axs[1, 1].axvline(best_rv, c='r')\n",
    "\n",
    "    f.suptitle(f'mag = {spec.mag:.2f}, SNR = {spec.snr:.2f}')\n",
    "\n",
    "    f.tight_layout()\n",
    "\n",
    "def rvfit_mc_worker(i, rv=180, rv_bounds=(100, 300), calib_bias=False, mag=22, noise_level=1.0,\n",
    "        M_H=-0.5, T_eff=5500, log_g=1.0, a_M=0.0):\n",
    "\n",
    "    global idx, spec, pp\n",
    "    \n",
    "    # Sample RV randomly or use a constant value\n",
    "    if isinstance(rv, Iterable):\n",
    "        rv_gt = np.random.uniform(*rv)\n",
    "        print(rv_gt)\n",
    "        spec = None\n",
    "    else:\n",
    "        rv_gt = rv\n",
    "    \n",
    "    if spec is None:\n",
    "        idx, spec, pp = get_observation(rv=rv_gt, mag=mag, M_H=M_H, T_eff=T_eff, log_g=log_g, a_M=a_M,\n",
    "            calib_bias=calib_bias, noise_level=noise_level, noise_freeze=False)\n",
    "\n",
    "        # Reset initial value for optimization so that it will try to guess it from scratch\n",
    "        rvfit.rv0 = None\n",
    "\n",
    "    # Copy spectrum before generating the noise to keep original to be reused\n",
    "    # when rv_gt is constant\n",
    "    nspec = type(spec)(orig=spec)\n",
    "    nspec.flux_model = nspec.flux\n",
    "    nspec.apply_noise(pp.observation.noise_model, noise_level=noise_level)\n",
    "    rv_fit = rvfit.fit_rv(nspec, temp, rv_bounds=rv_bounds)\n",
    "\n",
    "    if False:\n",
    "        rvfit_mc_plot(nspec, rvfit, rv_gt, rv_fit)\n",
    "\n",
    "    return i, rv_gt, rv_fit\n",
    "\n",
    "def rvfit_mc(mc_count=100, mag=22, **kwargs):\n",
    "    \n",
    "    \"\"\"\n",
    "    Fit RV to many realizations of the same observation. Sample in a range of\n",
    "    magnitudes.\n",
    "    \"\"\"\n",
    "\n",
    "    global idx, spec, pp\n",
    "\n",
    "    rv_gt = {}\n",
    "    rv_fit = {}\n",
    "    rv_err = {}\n",
    "\n",
    "    if not isinstance(mag, Iterable):\n",
    "        mag = [ mag ]\n",
    "\n",
    "    t = tqdm(total=mc_count * len(mag))\n",
    "\n",
    "    for m in mag:\n",
    "        idx, spec, pp = None, None, None\n",
    "\n",
    "        rvfit = RVFit(trace=RVFitTrace())        \n",
    "        rvfit.grid = grid\n",
    "        rvfit.psf = psf\n",
    "        rvfit.resampler = Interp1dResampler()\n",
    "\n",
    "        rv_gt[m] = np.empty((mc_count,))\n",
    "        rv_fit[m] = np.empty((mc_count,))\n",
    "        rv_err[m] = np.empty((mc_count,))\n",
    "        with SmartParallel(verbose=False, parallel=False, threads=12) as p:\n",
    "            for i, res_rv_gt, res_rv_fit in p.map(rvfit_mc_worker, list(range(mc_count)), mag=m, **kwargs):\n",
    "                rv_gt[m][i] = res_rv_gt\n",
    "                rv_fit[m][i] = res_rv_fit\n",
    "                t.update(1)\n",
    "\n",
    "    return rv_gt, rv_fit, rv_err"
   ]
  },
  {
   "cell_type": "code",
   "execution_count": 0,
   "metadata": {},
   "outputs": [],
   "source": [
    "rv_gt = {}\n",
    "rv_fit = {}\n",
    "rv_err = {}\n",
    "\n",
    "N = 1\n",
    "\n",
    "for cb in [True, False]:\n",
    "    rv_gt[cb], rv_fit[cb], rv_err[cb] = rvfit_mc(mc_count=N, rv=180, mag=[22, 23], calib_bias=cb)"
   ]
  },
  {
   "cell_type": "code",
   "execution_count": 0,
   "metadata": {},
   "outputs": [],
   "source": [
    "m = 23\n",
    "\n",
    "f, ax = plt.subplots(1, 1, figsize=(3.4, 2.5), dpi=240)\n",
    "\n",
    "hist, bins = np.histogram(rv_fit[False][m] - rv_gt[False][m], bins=30, density=True)\n",
    "ax.step(0.5 * (bins[1:] + bins[:-1]), hist, where='mid', label='no flux bias')\n",
    "\n",
    "hist, bins = np.histogram(rv_fit[True][m] - rv_gt[True][m], bins=30, density=True)\n",
    "ax.step(0.5 * (bins[1:] + bins[:-1]), hist, where='mid', label='with flux bias')\n",
    "\n",
    "# ax.axvline(rv, c='r', label=\"ground truth\")\n",
    "\n",
    "ax.set_xlabel(r'$\\Delta\\,$RV [km s$^{-1}]$')\n",
    "ax.set_ylabel('')\n",
    "\n",
    "ax.set_title(f\"mag = {m:.2f}\")\n",
    "\n",
    "ax.legend()\n",
    "\n",
    "f.tight_layout()"
   ]
  },
  {
   "cell_type": "code",
   "execution_count": 0,
   "metadata": {},
   "outputs": [],
   "source": [
    "import pickle\n",
    "\n",
    "# with open(\"rv_fit.dat\", \"wb\") as f:\n",
    "#     pickle.dump((rv_fit, rv_gt, rv_err), f)\n",
    "\n",
    "with open(\"rv_fit.dat\", \"rb\") as f:\n",
    "    (rv_fit, rv_gt, rv_err) = pickle.load(f)"
   ]
  },
  {
   "cell_type": "code",
   "execution_count": 0,
   "metadata": {},
   "outputs": [],
   "source": []
  }
 ],
 "metadata": {
  "kernelspec": {
   "display_name": "Python 3.7.6 ('astro-dnn')",
   "language": "python",
   "name": "python3"
  },
  "language_info": {
   "codemirror_mode": {
    "name": "ipython",
    "version": 3
   },
   "file_extension": ".py",
   "mimetype": "text/x-python",
   "name": "python",
   "nbconvert_exporter": "python",
   "pygments_lexer": "ipython3",
   "version": "3.7.6"
  },
  "vscode": {
   "interpreter": {
    "hash": "5a67ff4efb25b8aabbb759a9c23213a4102b92e186db45108ff57ab5b324cee0"
   }
  }
 },
 "nbformat": 4,
 "nbformat_minor": 2
}