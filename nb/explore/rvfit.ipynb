{
 "cells": [
  {
   "cell_type": "code",
   "execution_count": 0,
   "metadata": {},
   "outputs": [],
   "source": [
    "PROJECT_PATH = '/home/dobos/project/ga_isochrones/python:' + \\\n",
    "    '/home/dobos/project/ga_pfsspec_all/python:' + \\\n",
    "    '/home/dobos/project/pysynphot'\n",
    "\n",
    "GRID_PATH = '/datascope/subaru/data/pfsspec/models/stellar/grid/phoenix/phoenix_HiRes'\n",
    "FILTER_PATH = '/datascope/subaru/data/pfsspec/subaru/hsc/filters/fHSC-g.txt'\n",
    "\n",
    "ARMS = [ 'b', 'r', 'mr', 'n' ]\n",
    "FIT_ARMS = [ 'b', 'mr', 'n' ]\n",
    "\n",
    "DETECTOR_PATH = '/datascope/subaru/data/pfsspec/subaru/pfs/arms/{}.json'\n",
    "DETECTORMAP_PATH = '/datascope/subaru/data/pfsspec/drp_pfs_data/detectorMap/detectorMap-sim-{}1.fits'\n",
    "PSF_PATH = '/datascope/subaru/data/pfsspec/subaru/pfs/psf/import/{}.2'\n",
    "SKY_PATH = '/datascope/subaru/data/pfsspec/subaru/pfs/noise/import/sky.see/{}/sky.h5'\n",
    "MOON_PATH = '/datascope/subaru/data/pfsspec/subaru/pfs/noise/import/moon/{}/moon.h5'"
   ]
  },
  {
   "cell_type": "markdown",
   "metadata": {},
   "source": [
    "# Radial Velocity fit\n",
    "\n",
    "Demo code to perform maximum likelihood analysis of\n",
    "radial velociy measurements between a spectrum and a\n",
    "given template, drawn from the BOSZ models."
   ]
  },
  {
   "cell_type": "code",
   "execution_count": 0,
   "metadata": {},
   "outputs": [],
   "source": [
    "import os\n",
    "import sys\n",
    "import logging\n",
    "import numpy as np\n",
    "import pandas as pd\n",
    "import matplotlib as mpl\n",
    "import matplotlib.pyplot as plt\n",
    "from matplotlib.ticker import AutoMinorLocator, MultipleLocator\n",
    "from scipy.interpolate import interp1d\n",
    "import h5py as h5\n",
    "from tqdm.notebook import trange, tqdm"
   ]
  },
  {
   "cell_type": "code",
   "execution_count": 0,
   "metadata": {},
   "outputs": [],
   "source": [
    "plt.rc('font', size=7)"
   ]
  },
  {
   "cell_type": "code",
   "execution_count": 0,
   "metadata": {},
   "outputs": [],
   "source": [
    "# Allow load project as module\n",
    "for p in reversed(PROJECT_PATH.split(':')):\n",
    "    sys.path.insert(0, p)\n",
    "\n",
    "os.environ['PYTHONPATH'] = PROJECT_PATH.split(':')[0]"
   ]
  },
  {
   "cell_type": "code",
   "execution_count": 0,
   "metadata": {},
   "outputs": [],
   "source": [
    "os.environ['PYTHONPATH']"
   ]
  },
  {
   "cell_type": "code",
   "execution_count": 0,
   "metadata": {},
   "outputs": [],
   "source": [
    "# if 'debugpy' not in sys.modules:\n",
    "#     import debugpy\n",
    "#     debugpy.listen((\"localhost\", 5683))"
   ]
  },
  {
   "cell_type": "code",
   "execution_count": 0,
   "metadata": {},
   "outputs": [],
   "source": [
    "%load_ext autoreload"
   ]
  },
  {
   "cell_type": "code",
   "execution_count": 0,
   "metadata": {},
   "outputs": [],
   "source": [
    "%autoreload 2"
   ]
  },
  {
   "cell_type": "markdown",
   "metadata": {},
   "source": [
    "# Load everything needed for the simulation"
   ]
  },
  {
   "cell_type": "code",
   "execution_count": 0,
   "metadata": {},
   "outputs": [],
   "source": [
    "from pfs.ga.pfsspec.core.grid import ArrayGrid\n",
    "from pfs.ga.pfsspec.stellar.grid import ModelGrid\n",
    "from pfs.ga.pfsspec.stellar.grid.bosz import Bosz\n",
    "from pfs.ga.pfsspec.stellar.grid.phoenix import Phoenix\n",
    "\n",
    "from pfs.ga.pfsspec.core import Filter\n",
    "from pfs.ga.pfsspec.sim.obsmod.pipelines import StellarModelPipeline\n",
    "from pfs.ga.pfsspec.core import Physics\n",
    "from pfs.ga.pfsspec.core.obsmod.psf import GaussPsf, PcaPsf\n",
    "from pfs.ga.pfsspec.sim.obsmod.detectors import PfsDetector\n",
    "from pfs.ga.pfsspec.sim.obsmod.detectormaps import PfsDetectorMap\n",
    "from pfs.ga.pfsspec.sim.obsmod.background import Sky\n",
    "from pfs.ga.pfsspec.sim.obsmod.background import Moon\n",
    "from pfs.ga.pfsspec.core.obsmod.snr import QuantileSnr\n",
    "\n",
    "from pfs.ga.pfsspec.stellar import StellarSpectrum\n",
    "from pfs.ga.pfsspec.sim.obsmod.observations import PfsObservation\n",
    "from pfs.ga.pfsspec.sim.obsmod.noise import NormalNoise\n",
    "from pfs.ga.pfsspec.sim.obsmod.calibration import FluxCalibrationBias\n",
    "from pfs.ga.pfsspec.core.obsmod.resampling import FluxConservingResampler\n",
    "\n",
    "from pfs.ga.pfsspec.stellar.rvfit import RVFit, RVFitTrace\n",
    "from pfs.ga.pfsspec.sim.rvfit import RVFitSim"
   ]
  },
  {
   "cell_type": "markdown",
   "metadata": {},
   "source": [
    "### Spectrum grid"
   ]
  },
  {
   "cell_type": "code",
   "execution_count": 0,
   "metadata": {},
   "outputs": [],
   "source": [
    "fn = os.path.join(GRID_PATH, 'spectra.h5')\n",
    "grid = ModelGrid(Phoenix(), ArrayGrid)\n",
    "grid.preload_arrays = False\n",
    "grid.load(fn, format='h5')"
   ]
  },
  {
   "cell_type": "markdown",
   "metadata": {},
   "source": [
    "### Detector config"
   ]
  },
  {
   "cell_type": "code",
   "execution_count": 0,
   "metadata": {},
   "outputs": [],
   "source": [
    "detector = {}\n",
    "\n",
    "for arm in ARMS:\n",
    "    detector[arm] = PfsDetector()\n",
    "    detector[arm].load_json(DETECTOR_PATH.format(arm))\n",
    "    detector[arm].map = PfsDetectorMap()\n",
    "    detector[arm].map.load(DETECTORMAP_PATH.format(arm[0]))\n",
    "\n",
    "    # print(arm, detector[arm].map.default_fiberid)\n",
    "    # print(arm, detector[arm].map.get_wave()[0].shape, detector[arm].map.get_wave()[0][[0, -1]], detector[arm].wave)"
   ]
  },
  {
   "cell_type": "markdown",
   "metadata": {},
   "source": [
    "### Load detector LSF and precompute PCA kernel for high resolution"
   ]
  },
  {
   "cell_type": "code",
   "execution_count": 0,
   "metadata": {},
   "outputs": [],
   "source": [
    "gauss_psf = {}\n",
    "pca_psf = {}\n",
    "template_psf = {}\n",
    "\n",
    "for arm in ARMS:\n",
    "    gauss_psf[arm] = GaussPsf()\n",
    "    gauss_psf[arm].load(os.path.join(PSF_PATH.format(arm), 'gauss.h5'))\n",
    "\n",
    "    # print(f'mean pixel size for arm {arm}', np.diff(detector[arm].get_wave()[0]).mean())\n",
    "    # print(f'mean sigma and FWHM for arm {arm}', gauss_psf[arm].sigma.mean(), 2.355 * gauss_psf[arm].sigma.mean())\n",
    "\n",
    "    s = gauss_psf[arm].get_optimal_size(grid.wave)\n",
    "    # print(f'optimal kernel size for arm {arm}:', s)\n",
    "\n",
    "    pca_psf[arm] = PcaPsf()\n",
    "    pca_psf[arm].load(os.path.join(PSF_PATH.format(arm), 'pca.h5'))\n",
    "\n",
    "    template_psf[arm] = PcaPsf.from_psf(gauss_psf[arm], grid.wave, size=s, truncate=5)\n",
    "    # print(grid.wave.shape, \n",
    "    #     template_psf[arm].wave.shape, template_psf[arm].dwave.shape, template_psf[arm].pc.shape)"
   ]
  },
  {
   "cell_type": "markdown",
   "metadata": {},
   "source": [
    "### Load sky, moon and conversion function"
   ]
  },
  {
   "cell_type": "code",
   "execution_count": 0,
   "metadata": {},
   "outputs": [],
   "source": [
    "# Broad-band filter is common for all arms\n",
    "filt_hsc_g = Filter()\n",
    "filt_hsc_g.read(FILTER_PATH)\n",
    "\n",
    "sky = {}\n",
    "moon = {}\n",
    "\n",
    "for arm in ARMS:\n",
    "    detector_wave, _ = detector[arm].get_wave()\n",
    "    detector_s = gauss_psf[arm].get_optimal_size(detector_wave)\n",
    "    print(f'Optimal size of PSF kernel for arm {arm}', detector_s)\n",
    "    detector[arm].psf = PcaPsf.from_psf(gauss_psf[arm], detector_wave, size=detector_s, truncate=5)\n",
    "\n",
    "    sky[arm] = Sky()\n",
    "    sky[arm].load(SKY_PATH.format(arm), format='h5')\n",
    "\n",
    "    moon[arm] = Moon()\n",
    "    moon[arm].load(MOON_PATH.format(arm), format='h5')"
   ]
  },
  {
   "cell_type": "code",
   "execution_count": 0,
   "metadata": {},
   "outputs": [],
   "source": [
    "obs = {}\n",
    "\n",
    "for arm in ARMS:\n",
    "    obs[arm] = PfsObservation()\n",
    "    obs[arm].detector = detector[arm]\n",
    "    obs[arm].sky = sky[arm]\n",
    "    obs[arm].moon = moon[arm]\n",
    "    obs[arm].noise_model = NormalNoise()"
   ]
  },
  {
   "cell_type": "markdown",
   "metadata": {},
   "source": [
    "### Create observation simulation pipeline"
   ]
  },
  {
   "cell_type": "code",
   "execution_count": 0,
   "metadata": {},
   "outputs": [],
   "source": [
    "def create_pipeline(arm, grid, calib_bias=False):\n",
    "    \"\"\"\n",
    "    Configure the observation simulation pipeline\n",
    "    \"\"\"\n",
    "\n",
    "    pp = StellarModelPipeline()\n",
    "    pp.model_res = grid.resolution or 150000\n",
    "    pp.mag_filter = filt_hsc_g\n",
    "    pp.observation = obs[arm]\n",
    "    pp.snr = QuantileSnr(binning=1.0)\n",
    "    pp.resampler = FluxConservingResampler()\n",
    "    pp.noise_level = 1.0\n",
    "    pp.noise_freeze = False\n",
    "    if calib_bias:\n",
    "        bias = FluxCalibrationBias(reuse_bias=False)\n",
    "        bias.amplitude = 0.25\n",
    "        pp.calibration = bias\n",
    "\n",
    "    return pp"
   ]
  },
  {
   "cell_type": "markdown",
   "metadata": {},
   "source": [
    "### Get high-resolution template"
   ]
  },
  {
   "cell_type": "code",
   "execution_count": 0,
   "metadata": {},
   "outputs": [],
   "source": [
    "from pfs.ga.pfsspec.stellar.continuum.models import PiecewiseChebyshev\n",
    "from pfs.ga.pfsspec.stellar.continuum.finders import SigmaClipping"
   ]
  },
  {
   "cell_type": "code",
   "execution_count": 0,
   "metadata": {},
   "outputs": [],
   "source": [
    "def get_template(arm, convolve=True, continuum_normalize=False, wlim=None, **kwargs):\n",
    "    \"\"\"\n",
    "    Generate a noiseless template spectrum with same line spread function as the\n",
    "    observation but keep the original, high-resolution binning.\n",
    "    \"\"\"\n",
    "\n",
    "    idx = grid.get_nearest_index(**kwargs)\n",
    "    temp = grid.get_model_at(idx)\n",
    "    temp.cont = None        # Make sure it's not passed around for better performance\n",
    "    temp.mask = None\n",
    "\n",
    "    if convolve:\n",
    "        temp.convolve_psf(template_psf[arm])\n",
    "\n",
    "    if wlim is not None:\n",
    "        temp.trim_wave(wlim)\n",
    "\n",
    "    \n",
    "    cfit = PiecewiseChebyshev(deg=4, continuum_finder=SigmaClipping(max_iter=50, sigma=[1, 5]))\n",
    "    cfit.init_wave(temp.wave)\n",
    "    cparams = cfit.fit(temp)\n",
    "    _, temp.cont = cfit.eval(cparams)\n",
    "\n",
    "    if continuum_normalize:\n",
    "        temp.normalize_by_continuum()\n",
    "\n",
    "    return idx, temp"
   ]
  },
  {
   "cell_type": "code",
   "execution_count": 0,
   "metadata": {},
   "outputs": [],
   "source": [
    "star_dSph_RGB = {\n",
    "    'M_H': -1.5,\n",
    "    'T_eff': 5000,\n",
    "    'log_g': 3.0,\n",
    "    'a_M': 0.0\n",
    "}\n",
    "\n",
    "for arm in FIT_ARMS:\n",
    "    _, temp = get_template(arm, continuum_normalize=True, **star_dSph_RGB)\n",
    "\n",
    "    f, ax = plt.subplots(1, 1, figsize=(3.4, 2.5), dpi=240)\n",
    "    ax.plot(temp.wave, temp.flux, lw=0.5)\n",
    "    ax.plot(temp.wave, temp.cont, lw=0.5)"
   ]
  },
  {
   "cell_type": "markdown",
   "metadata": {},
   "source": [
    "# Fit RV\n",
    "\n",
    "### Stellar parameters"
   ]
  },
  {
   "cell_type": "code",
   "execution_count": 0,
   "metadata": {},
   "outputs": [],
   "source": [
    "for i, k, ax in grid.enumerate_axes():\n",
    "    print(k, ax.values)"
   ]
  },
  {
   "cell_type": "code",
   "execution_count": 0,
   "metadata": {},
   "outputs": [],
   "source": [
    "# dSph RGB star\n",
    "star_dSph_RGB = {\n",
    "    'M_H': -1.5,\n",
    "    'T_eff': 5000,\n",
    "    'log_g': 3.0,\n",
    "    'a_M': 0.0\n",
    "}\n",
    "\n",
    "star_dSph_RGB_off = [star_dSph_RGB,]\n",
    "for M_H in [-2, -1]:\n",
    "    for T_eff in [4800, 5200]:\n",
    "        for log_g in [2.5, 3.5]:\n",
    "            star_dSph_RGB_off.append({\n",
    "                'M_H': M_H,\n",
    "                'T_eff': T_eff,\n",
    "                'log_g': log_g,\n",
    "                'a_M': 0.0\n",
    "            })\n",
    "\n",
    "print(len(star_dSph_RGB_off))"
   ]
  },
  {
   "cell_type": "markdown",
   "metadata": {},
   "source": [
    "### Observation parameters"
   ]
  },
  {
   "cell_type": "code",
   "execution_count": 0,
   "metadata": {},
   "outputs": [],
   "source": [
    "obs_dark_optimal = {\n",
    "    'seeing': 0.5,\n",
    "    'exp_time': 15 * 60,\n",
    "    'exp_count': 4 * 3,\n",
    "    'target_zenith_angle': 0,\n",
    "    'target_field_angle': 0.0,\n",
    "    'moon_zenith_angle': 45,\n",
    "    'moon_target_angle': 60,\n",
    "    'moon_phase': 0.,\n",
    "}"
   ]
  },
  {
   "cell_type": "markdown",
   "metadata": {},
   "source": [
    "### Configure RV fit simulation"
   ]
  },
  {
   "cell_type": "code",
   "execution_count": 0,
   "metadata": {},
   "outputs": [],
   "source": [
    "def get_rvfitsim(obs_args, temp_args, normalize=False):\n",
    "\n",
    "    rvfitsim = RVFitSim()\n",
    "    rvfitsim.arms = [ 'b', 'mr', 'n' ]\n",
    "\n",
    "    rvfitsim.threads = 12\n",
    "    rvfitsim.parallel = True\n",
    "\n",
    "    rvfitsim.rvfit = RVFit()\n",
    "    rvfitsim.rv_bounds = (100, 300)\n",
    "\n",
    "    rvfitsim.model_grid = grid\n",
    "    rvfitsim.model_params = obs_args\n",
    "\n",
    "    rvfitsim.template_grid = grid\n",
    "    rvfitsim.template_params = temp_args\n",
    "    rvfitsim.template_psf = {}                              # No pre-fit resolution degrading\n",
    "\n",
    "    if normalize:\n",
    "            rvfitsim.continuum_model = PiecewiseChebyshev(deg=4, continuum_finder=SigmaClipping(max_iter=50, sigma=[1, 5]))\n",
    "            rvfitsim.continuum_normalize = True\n",
    "\n",
    "    rvfitsim.observation_args = obs_dark_optimal\n",
    "    rvfitsim.observation_rv = (150, 250)                    # Uniform random sampling\n",
    "    rvfitsim.observation_mag = 19.0                         # Will be overriden later\n",
    "    rvfitsim.observation_snr = QuantileSnr(binning=1.0)\n",
    "    rvfitsim.observation_pipeline = {}\n",
    "    for arm in rvfitsim.arms:\n",
    "        rvfitsim.template_psf[arm] = template_psf[arm]      # PSF sampled at model resolution\n",
    "        rvfitsim.observation_pipeline[arm] = create_pipeline(arm, grid, calib_bias=False)\n",
    "\n",
    "    return rvfitsim\n"
   ]
  },
  {
   "cell_type": "code",
   "execution_count": 0,
   "metadata": {},
   "outputs": [],
   "source": [
    "from pfs.ga.pfsspec.sim.rvfit import RVFitSimTrace\n",
    "\n",
    "class Trace(RVFitSimTrace):\n",
    "    def on_get_template(self, arm, temp):\n",
    "        f, ax = plt.subplots(1, 1, figsize=(3.4, 2.5), dpi=240)\n",
    "        ax.plot(temp.wave, temp.flux, lw=0.5)\n",
    "        ax.plot(temp.wave, temp.cont, lw=0.5)\n",
    "\n",
    "    def on_get_observation(self, arm, spec):\n",
    "        pass\n",
    "\n",
    "    def on_generate_noise(self, arm, spec):\n",
    "        f, ax = plt.subplots(1, 1, figsize=(3.4, 2.5), dpi=240)\n",
    "        ax.plot(spec.wave, spec.flux / spec.flux.max(), lw=0.5)\n",
    "        ax.plot(spec.wave, spec.flux_model / spec.flux_model.max(), lw=0.5)\n",
    "        ax.plot(spec.wave, spec.cont / spec.cont.max(), lw=0.5)\n",
    "        ax.plot(spec.wave, spec.cont_model / spec.cont_model.max(), lw=0.5)"
   ]
  },
  {
   "cell_type": "code",
   "execution_count": 0,
   "metadata": {},
   "outputs": [],
   "source": [
    "# Set logging level to error to absorb warnings\n",
    "l = logging.getLogger()\n",
    "l.setLevel(logging.ERROR)\n",
    "\n",
    "rv_gt = {}\n",
    "rv_fit = {}\n",
    "rv_err = {}\n",
    "rv_snr = {}\n",
    "\n",
    "mc_count = 100\n",
    "repeat = 10\n",
    "\n",
    "mags = [19, 20, 21, 22, 23]\n",
    "calib_bias = [False]\n",
    "\n",
    "n = mc_count * len(mags) * len(star_dSph_RGB_off)\n",
    "t = tqdm(total=n)\n",
    "\n",
    "def do():\n",
    "    for m in mags:\n",
    "        rv_gt[m] = {}\n",
    "        rv_fit[m] = {}\n",
    "        rv_err[m] = {}\n",
    "        rv_snr[m] = {}\n",
    "\n",
    "        for cb in calib_bias:\n",
    "            rv_gt[m][cb] = []\n",
    "            rv_fit[m][cb] = []\n",
    "            rv_err[m][cb] = []\n",
    "            rv_snr[m][cb] = []\n",
    "\n",
    "            #for temp_args in star_dSph_RGB_off:\n",
    "            for temp_args in [star_dSph_RGB]:\n",
    "                rvfitsim = get_rvfitsim(star_dSph_RGB, temp_args, normalize=True)\n",
    "                \n",
    "                #rvfitsim.parallel = False\n",
    "                #rvfitsim.trace = Trace()\n",
    "                \n",
    "                rvfitsim.observation_mag = m\n",
    "                res = rvfitsim.rvfit_mc(mc_count=mc_count, repeat=repeat, tqdm=t)\n",
    "                for c, r in zip((rv_gt[m][cb], rv_fit[m][cb], rv_err[m][cb], rv_snr[m][cb]), res):\n",
    "                    c.append(r)\n",
    "\n",
    "                #return\n",
    "\n",
    "do()"
   ]
  },
  {
   "cell_type": "code",
   "execution_count": 0,
   "metadata": {},
   "outputs": [],
   "source": [
    "# from collections.abc import Iterable\n",
    "# import pickle\n",
    "\n",
    "# fn = 'rvfit'\n",
    "# fn += '_' + '_'.join(a for a in rvfitsim.arms)\n",
    "# fn += '_m' + '_'.join(str(m) for m in rv_fit.keys())\n",
    "# if isinstance(rvfitsim.observation_rv, Iterable):\n",
    "#     fn += '_rv' + '_'.join(str(rv) for rv in rvfitsim.observation_rv)\n",
    "# else:\n",
    "#     fn += '_rv' + str(rvfitsim.observation_rv)\n",
    "# fn += '.dat'\n",
    "\n",
    "# print(fn)\n",
    "\n",
    "# with open(fn, 'wb') as f:\n",
    "#     pickle.dump([rv_gt, rv_fit, rv_err, rv_snr], f)"
   ]
  },
  {
   "cell_type": "code",
   "execution_count": 0,
   "metadata": {},
   "outputs": [],
   "source": [
    "#bins = np.linspace(-2, 2, 20)\n",
    "\n",
    "bins = np.linspace(-12, 12, 20)\n",
    "\n",
    "f, axs = plt.subplots(1, len(rv_fit), figsize=(7, 2), dpi=240, squeeze=False)\n",
    "\n",
    "for i, m in enumerate(rv_fit):\n",
    "    ax = axs[0, i]\n",
    "    for cb in rv_fit[m]:\n",
    "        for j in reversed(range(len(rv_fit[m][cb]))):\n",
    "            hist, _ = np.histogram(rv_fit[m][cb][j].flatten() - rv_gt[m][cb][j].flatten(),\n",
    "                                   bins=bins, density=True)\n",
    "            ax.step(0.5 * (bins[1:] + bins[:-1]), hist, where='mid',\n",
    "                ls='-' if j == 0 else '--', lw=0.5,\n",
    "                c='r' if j == 0 else 'k',\n",
    "                label=\"{} flux bias\".format('with' if cb else 'no'))\n",
    "\n",
    "    # ax.axvline(rv, c='r', label=\"ground truth\")\n",
    "\n",
    "    ax.set_xlabel(r'$\\Delta\\,$RV [km s$^{-1}]$')\n",
    "    ax.set_ylabel('')\n",
    "\n",
    "    ax.set_title(f\"mag = {m:.2f}\\nsnr = {np.nanmean(rv_snr[m][False][0]['mr']):.2f}\")\n",
    "\n",
    "    ax.grid()\n",
    "\n",
    "for ax in axs.flatten():\n",
    "    ax.set_ylim(0, 0.5)\n",
    "\n",
    "for ax in axs[1:].flatten():\n",
    "    ax.yaxis.set_ticklabels([])\n",
    "\n",
    "f.suptitle(f\"arms: {', '.join(FIT_ARMS)}\")\n",
    "\n",
    "f.tight_layout()"
   ]
  },
  {
   "cell_type": "code",
   "execution_count": 0,
   "metadata": {},
   "outputs": [],
   "source": [
    "#rv_gt\n",
    "#rv_fit\n",
    "\n",
    "rv_bias = {}\n",
    "rv_std = {}\n",
    "for m in rv_fit:\n",
    "    rv_bias[m] = {}\n",
    "    rv_std[m] = {}\n",
    "    for cb in rv_fit[m]:\n",
    "        rv_bias[m][cb] = {}\n",
    "        rv_std[m][cb] = {}\n",
    "        for k in range(len(rv_fit[m][cb])):\n",
    "            d = rv_fit[m][cb][k] - rv_gt[m][cb][k]\n",
    "            rv_bias[m][cb][k] = np.nanmean(d)\n",
    "            rv_std[m][cb][k] = np.nanstd(d)\n"
   ]
  },
  {
   "cell_type": "code",
   "execution_count": 0,
   "metadata": {},
   "outputs": [],
   "source": [
    "f, ax = plt.subplots(1, 1, figsize=(3.4, 2.5), dpi=240)\n",
    "\n",
    "m0 = list(rv_std.keys())[0]\n",
    "cb = False\n",
    "\n",
    "for k in reversed(range(len(rv_std[m][cb]))):\n",
    "    ax.plot([m for m in rv_std], [rv_std[m][False][k] for m in rv_std], \n",
    "        ls='-' if k == 0 else '--', \n",
    "        lw=1 if k == 0 else 0.3, \n",
    "        c='red',\n",
    "        label='uncertainty from simulations' if k == 0 else None)\n",
    "    ax.plot([m for m in rv_bias], [rv_bias[m][False][k] for m in rv_bias], \n",
    "        ls='-' if k == 0 else '--', \n",
    "        lw=1 if k == 0 else 0.3,\n",
    "        c='green',\n",
    "        label='bias from simulations' if k == 0 else None)\n",
    "    ax.plot([m for m in rv_err], [rv_err[m][False][k].mean() for m in rv_err],\n",
    "        ls='-' if k == 0 else '--', \n",
    "        lw=1 if k == 0 else 0.3,\n",
    "        c='blue',\n",
    "        label='error from Fisher matrix' if k == 0 else None)\n",
    "\n",
    "ax.set_xlabel('mag g')\n",
    "ax.set_ylabel(r'$\\Delta RV$')\n",
    "ax.set_title(f\"arms: {', '.join(FIT_ARMS)}\")\n",
    "ax.legend()\n",
    "ax.grid()"
   ]
  },
  {
   "cell_type": "code",
   "execution_count": 0,
   "metadata": {},
   "outputs": [],
   "source": []
  },
  {
   "cell_type": "code",
   "execution_count": 0,
   "metadata": {},
   "outputs": [],
   "source": []
  }
 ],
 "metadata": {
  "kernelspec": {
   "display_name": "Python 3.7.6 ('astro-dnn')",
   "language": "python",
   "name": "python3"
  },
  "language_info": {
   "codemirror_mode": {
    "name": "ipython",
    "version": 3
   },
   "file_extension": ".py",
   "mimetype": "text/x-python",
   "name": "python",
   "nbconvert_exporter": "python",
   "pygments_lexer": "ipython3",
   "version": "3.7.6"
  },
  "vscode": {
   "interpreter": {
    "hash": "5a67ff4efb25b8aabbb759a9c23213a4102b92e186db45108ff57ab5b324cee0"
   }
  }
 },
 "nbformat": 4,
 "nbformat_minor": 2
}