{
 "cells": [
  {
   "cell_type": "code",
   "execution_count": 0,
   "metadata": {},
   "outputs": [],
   "source": [
    "PFSSPEC_ROOT = '/home/dobos/project/ga_pfsspec_all/'\n",
    "PFSSPEC_DATA = '/datascope/subaru/data/pfsspec'\n",
    "GRID_PATH = '/datascope/subaru/data/pfsspec/models/stellar/grid/phoenix/phoenix_HiRes'"
   ]
  },
  {
   "cell_type": "code",
   "execution_count": 0,
   "metadata": {},
   "outputs": [],
   "source": [
    "import os, sys, warnings\n",
    "\n",
    "# Allow load project as module\n",
    "sys.path.insert(0, os.path.join(PFSSPEC_ROOT, 'python'))\n",
    "\n",
    "# Set environment\n",
    "os.environ['PFSSPEC_ROOT'] = PFSSPEC_ROOT\n",
    "os.environ['PFSSPEC_DATA'] = PFSSPEC_DATA\n",
    "os.environ['PYSYN_CDBS'] = os.path.join(os.environ['PFSSPEC_DATA'], 'cdbs')\n",
    "\n",
    "# Filter warnings\n",
    "warnings.filterwarnings(\"ignore\")"
   ]
  },
  {
   "cell_type": "code",
   "execution_count": 0,
   "metadata": {},
   "outputs": [],
   "source": [
    "%matplotlib inline"
   ]
  },
  {
   "cell_type": "code",
   "execution_count": 0,
   "metadata": {},
   "outputs": [],
   "source": [
    "import os\n",
    "import getpass\n",
    "import matplotlib.pyplot as plt\n",
    "import numpy as np\n",
    "import pandas as pd\n",
    "import h5py\n",
    "\n",
    "from scipy.optimize import curve_fit\n",
    "from scipy import ndimage\n",
    "from scipy.ndimage.filters import maximum_filter1d\n",
    "from scipy.interpolate import Rbf, interp1d, interpn"
   ]
  },
  {
   "cell_type": "code",
   "execution_count": 0,
   "metadata": {},
   "outputs": [],
   "source": [
    "%load_ext autoreload"
   ]
  },
  {
   "cell_type": "code",
   "execution_count": 0,
   "metadata": {},
   "outputs": [],
   "source": [
    "%autoreload 2"
   ]
  },
  {
   "cell_type": "code",
   "execution_count": 0,
   "metadata": {},
   "outputs": [],
   "source": [
    "from pfs.ga.pfsspec.core.physics import Physics\n",
    "from pfs.ga.pfsspec.stellar.continuum import ContinuumModelTrace\n",
    "from pfs.ga.pfsspec.stellar.continuum.finders import SigmaClipping\n",
    "from pfs.ga.pfsspec.stellar.continuum.models import PiecewiseChebyshev"
   ]
  },
  {
   "cell_type": "markdown",
   "metadata": {},
   "source": [
    "# Load grid"
   ]
  },
  {
   "cell_type": "code",
   "execution_count": 0,
   "metadata": {},
   "outputs": [],
   "source": [
    "from pfs.ga.pfsspec.core.grid import ArrayGrid\n",
    "from pfs.ga.pfsspec.stellar.grid import ModelGrid\n",
    "from pfs.ga.pfsspec.stellar.grid.bosz import Bosz\n",
    "from pfs.ga.pfsspec.stellar.grid.phoenix import Phoenix"
   ]
  },
  {
   "cell_type": "code",
   "execution_count": 0,
   "metadata": {},
   "outputs": [],
   "source": [
    "fn = os.path.join(os.environ['PFSSPEC_DATA'], GRID_PATH, 'spectra.h5')"
   ]
  },
  {
   "cell_type": "code",
   "execution_count": 0,
   "metadata": {},
   "outputs": [],
   "source": [
    "#grid = ModelGrid(Bosz(), ArrayGrid)\n",
    "grid = ModelGrid(Phoenix(), ArrayGrid)\n",
    "grid.preload_arrays = False\n",
    "grid.load(fn, format='h5')"
   ]
  },
  {
   "cell_type": "code",
   "execution_count": 0,
   "metadata": {},
   "outputs": [],
   "source": [
    "for k in grid.grid.axes:\n",
    "    print(k, grid.grid.axes[k].values)"
   ]
  },
  {
   "cell_type": "code",
   "execution_count": 0,
   "metadata": {},
   "outputs": [],
   "source": [
    "for k in grid.grid.values:\n",
    "    print(k, grid.grid.value_shapes[k])"
   ]
  },
  {
   "cell_type": "markdown",
   "metadata": {},
   "source": [
    "# Pick a spectrum and fit with model"
   ]
  },
  {
   "cell_type": "code",
   "execution_count": 0,
   "metadata": {},
   "outputs": [],
   "source": [
    "M_H = -1.0\n",
    "T_eff = 5000\n",
    "log_g = 3.5\n",
    "a_M = 0\n",
    "C_M = 0"
   ]
  },
  {
   "cell_type": "code",
   "execution_count": 0,
   "metadata": {},
   "outputs": [],
   "source": [
    "idx = grid.array_grid.get_nearest_index(M_H=M_H, T_eff=T_eff, log_g=log_g, a_M=a_M, C_M=C_M)\n",
    "idx"
   ]
  },
  {
   "cell_type": "code",
   "execution_count": 0,
   "metadata": {},
   "outputs": [],
   "source": [
    "spec = grid.get_model_at(idx)"
   ]
  },
  {
   "cell_type": "code",
   "execution_count": 0,
   "metadata": {},
   "outputs": [],
   "source": [
    "spec.M_H, spec.T_eff, spec.log_g, spec.a_M"
   ]
  },
  {
   "cell_type": "code",
   "execution_count": 0,
   "metadata": {},
   "outputs": [],
   "source": [
    "class Trace(ContinuumModelTrace):\n",
    "    def on_fit_function_iter(self, piece_id, iter, x, y, w, model, mask):\n",
    "        if piece_id == 1 and iter < 10:\n",
    "            plt.figure(figsize=(15, 5))\n",
    "            \n",
    "            # plt.plot(x, y, '.', ms=0.3)\n",
    "            # plt.plot(x[mask], y[mask], '.', ms=1)\n",
    "\n",
    "            plt.plot(x, np.log(y), '.', ms=0.3)\n",
    "            plt.plot(x[mask], np.log(y[mask]), '.', ms=1)\n",
    "\n",
    "            if model is not None:\n",
    "                #plt.plot(x, model, '-')\n",
    "                plt.plot(x, np.log(model), '-')\n",
    "                s = np.std(y[mask] - model[mask])\n",
    "                print(iter, mask.sum(), s)\n",
    "\n",
    "            #p = np.polynomial.Chebyshev.fit(x[mask], y[mask] / y.max(), deg=10).coef\n",
    "            #c = np.polynomial.Chebyshev(p)\n",
    "            #plt.plot(x, c(x) * y.max(), 'b')\n",
    "\n",
    "            #plt.xlim(0.3, 0.5)\n",
    "\n",
    "model = PiecewiseChebyshev(continuum_finder=SigmaClipping(max_iter=50, sigma=[1, 5]), trace=Trace())\n",
    "model.init_wave(spec.wave)\n",
    "params = model.fit(spec)\n",
    "\n",
    "params, params['chebyshev'].shape"
   ]
  },
  {
   "cell_type": "code",
   "execution_count": 0,
   "metadata": {},
   "outputs": [],
   "source": [
    "model.create_function().get_param_count()"
   ]
  },
  {
   "cell_type": "code",
   "execution_count": 0,
   "metadata": {},
   "outputs": [],
   "source": [
    "_, cont = model.eval(params)\n",
    "\n",
    "plt.figure(figsize=(12, 6))\n",
    "\n",
    "for w in model.photo_limits:\n",
    "    plt.axvline(w, c='k')\n",
    "\n",
    "plt.plot(spec.wave, np.log(spec.flux), lw=0.1)\n",
    "plt.plot(spec.wave, np.log(cont))\n",
    "\n",
    "plt.xlim(2800, 15000)\n",
    "plt.ylim(30, None)"
   ]
  },
  {
   "cell_type": "code",
   "execution_count": 0,
   "metadata": {},
   "outputs": [],
   "source": [
    "_, cont = model.eval(params)\n",
    "\n",
    "plt.figure(figsize=(12, 6))\n",
    "\n",
    "for w in model.photo_limits:\n",
    "    plt.axvline(w, c='k')\n",
    "\n",
    "plt.plot(spec.wave, np.log(spec.flux) - np.log(cont), lw=0.1)\n",
    "\n",
    "plt.xlim(2800, 15000)\n",
    "#plt.ylim(30, None)"
   ]
  },
  {
   "cell_type": "markdown",
   "metadata": {},
   "source": [
    "# Upper envelope"
   ]
  },
  {
   "cell_type": "code",
   "execution_count": 0,
   "metadata": {},
   "outputs": [],
   "source": [
    "mask = (4000 < spec.wave) & (spec.wave < 8000)\n",
    "x = spec.wave[mask]\n",
    "x = (x - x.min()) / (x.max() - x.min())\n",
    "y = spec.flux[mask] / spec.flux[mask].max()\n",
    "\n",
    "size = 501\n",
    "shift = size // 2\n",
    "idx = np.arange(shift, x.shape[0] - shift) + (np.arange(size) - shift)[:, np.newaxis]\n",
    "fx = x[shift:-shift][::shift]\n",
    "fy = np.max(y[idx], axis=0)[::shift]\n",
    "\n",
    "plt.figure(figsize=(12, 5))\n",
    "plt.plot(x, y, '.', ms=0.5)\n",
    "plt.plot(fx, fy, '.r', ms=2)\n",
    "print(fx.shape)\n",
    "\n",
    "p = np.polyfit(fx, fy, 10)\n",
    "print(p)\n",
    "plt.plot(x, np.polyval(p, x), '-', ms=0.5)\n",
    "\n",
    "poly = np.polynomial.Polynomial\n",
    "p = poly.fit(fx, fy, deg=10).convert().coef\n",
    "print(p)\n",
    "plt.plot(x, poly(p)(x), '.', ms=0.5)\n",
    "# plt.plot(x, np.polyval(p[::-1], x), '.', ms=0.5)"
   ]
  },
  {
   "cell_type": "code",
   "execution_count": 0,
   "metadata": {},
   "outputs": [],
   "source": []
  }
 ],
 "metadata": {
  "kernelspec": {
   "display_name": "Python 3.7.6 ('astro-dnn')",
   "language": "python",
   "name": "python3"
  },
  "language_info": {
   "codemirror_mode": {
    "name": "ipython",
    "version": 3
   },
   "file_extension": ".py",
   "mimetype": "text/x-python",
   "name": "python",
   "nbconvert_exporter": "python",
   "pygments_lexer": "ipython3",
   "version": "3.7.6"
  },
  "vscode": {
   "interpreter": {
    "hash": "5a67ff4efb25b8aabbb759a9c23213a4102b92e186db45108ff57ab5b324cee0"
   }
  }
 },
 "nbformat": 4,
 "nbformat_minor": 2
}